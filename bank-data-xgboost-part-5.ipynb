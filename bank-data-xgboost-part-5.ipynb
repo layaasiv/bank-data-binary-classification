{
 "cells": [
  {
   "cell_type": "markdown",
   "id": "a6595e53",
   "metadata": {},
   "source": [
    "## XGBoost\n",
    "\n",
    "The feature engineered random forest performed better than the decision tree! \n",
    "\n",
    "In this notebook, I will try the XGBoost classifier model to see if it performs better than the random forest."
   ]
  },
  {
   "cell_type": "code",
   "execution_count": 2,
   "id": "e66835ce",
   "metadata": {},
   "outputs": [],
   "source": [
    "path = './playground-series-s5e8'"
   ]
  },
  {
   "cell_type": "code",
   "execution_count": 3,
   "id": "39a25459",
   "metadata": {
    "_cell_guid": "b1076dfc-b9ad-4769-8c92-a6c4dae69d19",
    "_uuid": "8f2839f25d086af736a60e9eeb907d3b93b6e0e5",
    "execution": {
     "iopub.execute_input": "2025-08-30T03:45:40.228514Z",
     "iopub.status.busy": "2025-08-30T03:45:40.227979Z",
     "iopub.status.idle": "2025-08-30T03:45:42.071592Z",
     "shell.execute_reply": "2025-08-30T03:45:42.070765Z"
    },
    "papermill": {
     "duration": 1.853405,
     "end_time": "2025-08-30T03:45:42.072920",
     "exception": false,
     "start_time": "2025-08-30T03:45:40.219515",
     "status": "completed"
    },
    "tags": []
   },
   "outputs": [
    {
     "name": "stdout",
     "output_type": "stream",
     "text": [
      "./playground-series-s5e8/test.csv\n",
      "./playground-series-s5e8/train.csv\n",
      "./playground-series-s5e8/sample_submission.csv\n"
     ]
    }
   ],
   "source": [
    "import numpy as np, pandas as pd, os\n",
    "for dirname, _, filenames in os.walk(path):\n",
    "    for filename in filenames:\n",
    "        print(os.path.join(dirname, filename))"
   ]
  },
  {
   "cell_type": "code",
   "execution_count": 2,
   "id": "96d07950",
   "metadata": {
    "execution": {
     "iopub.execute_input": "2025-08-30T03:45:42.088044Z",
     "iopub.status.busy": "2025-08-30T03:45:42.087747Z",
     "iopub.status.idle": "2025-08-30T03:45:43.150015Z",
     "shell.execute_reply": "2025-08-30T03:45:43.149465Z"
    },
    "papermill": {
     "duration": 1.07094,
     "end_time": "2025-08-30T03:45:43.151376",
     "exception": false,
     "start_time": "2025-08-30T03:45:42.080436",
     "status": "completed"
    },
    "tags": []
   },
   "outputs": [],
   "source": [
    "from fastai.imports import *\n",
    "np.set_printoptions(linewidth=130)"
   ]
  },
  {
   "cell_type": "markdown",
   "id": "aab0c9e2",
   "metadata": {
    "papermill": {
     "duration": 0.007193,
     "end_time": "2025-08-30T03:45:43.165532",
     "exception": false,
     "start_time": "2025-08-30T03:45:43.158339",
     "status": "completed"
    },
    "tags": []
   },
   "source": [
    "## Looking at the data"
   ]
  },
  {
   "cell_type": "code",
   "execution_count": 3,
   "id": "7bbdf9cb",
   "metadata": {
    "execution": {
     "iopub.execute_input": "2025-08-30T03:45:43.179687Z",
     "iopub.status.busy": "2025-08-30T03:45:43.179387Z",
     "iopub.status.idle": "2025-08-30T03:45:44.605211Z",
     "shell.execute_reply": "2025-08-30T03:45:44.604575Z"
    },
    "papermill": {
     "duration": 1.434386,
     "end_time": "2025-08-30T03:45:44.606508",
     "exception": false,
     "start_time": "2025-08-30T03:45:43.172122",
     "status": "completed"
    },
    "tags": []
   },
   "outputs": [],
   "source": [
    "import matplotlib.pyplot as plt\n",
    "import seaborn as sns"
   ]
  },
  {
   "cell_type": "code",
   "execution_count": 4,
   "id": "76ad8b30",
   "metadata": {
    "execution": {
     "iopub.execute_input": "2025-08-30T03:45:44.621401Z",
     "iopub.status.busy": "2025-08-30T03:45:44.620921Z",
     "iopub.status.idle": "2025-08-30T03:45:46.845140Z",
     "shell.execute_reply": "2025-08-30T03:45:46.844415Z"
    },
    "papermill": {
     "duration": 2.232794,
     "end_time": "2025-08-30T03:45:46.846384",
     "exception": false,
     "start_time": "2025-08-30T03:45:44.613590",
     "status": "completed"
    },
    "tags": []
   },
   "outputs": [
    {
     "data": {
      "text/html": [
       "<div>\n",
       "<style scoped>\n",
       "    .dataframe tbody tr th:only-of-type {\n",
       "        vertical-align: middle;\n",
       "    }\n",
       "\n",
       "    .dataframe tbody tr th {\n",
       "        vertical-align: top;\n",
       "    }\n",
       "\n",
       "    .dataframe thead th {\n",
       "        text-align: right;\n",
       "    }\n",
       "</style>\n",
       "<table border=\"1\" class=\"dataframe\">\n",
       "  <thead>\n",
       "    <tr style=\"text-align: right;\">\n",
       "      <th></th>\n",
       "      <th>id</th>\n",
       "      <th>age</th>\n",
       "      <th>job</th>\n",
       "      <th>marital</th>\n",
       "      <th>education</th>\n",
       "      <th>default</th>\n",
       "      <th>balance</th>\n",
       "      <th>housing</th>\n",
       "      <th>loan</th>\n",
       "      <th>contact</th>\n",
       "      <th>day</th>\n",
       "      <th>month</th>\n",
       "      <th>duration</th>\n",
       "      <th>campaign</th>\n",
       "      <th>pdays</th>\n",
       "      <th>previous</th>\n",
       "      <th>poutcome</th>\n",
       "      <th>y</th>\n",
       "    </tr>\n",
       "  </thead>\n",
       "  <tbody>\n",
       "    <tr>\n",
       "      <th>0</th>\n",
       "      <td>0</td>\n",
       "      <td>42</td>\n",
       "      <td>technician</td>\n",
       "      <td>married</td>\n",
       "      <td>secondary</td>\n",
       "      <td>no</td>\n",
       "      <td>7</td>\n",
       "      <td>no</td>\n",
       "      <td>no</td>\n",
       "      <td>cellular</td>\n",
       "      <td>25</td>\n",
       "      <td>aug</td>\n",
       "      <td>117</td>\n",
       "      <td>3</td>\n",
       "      <td>-1</td>\n",
       "      <td>0</td>\n",
       "      <td>unknown</td>\n",
       "      <td>0</td>\n",
       "    </tr>\n",
       "    <tr>\n",
       "      <th>1</th>\n",
       "      <td>1</td>\n",
       "      <td>38</td>\n",
       "      <td>blue-collar</td>\n",
       "      <td>married</td>\n",
       "      <td>secondary</td>\n",
       "      <td>no</td>\n",
       "      <td>514</td>\n",
       "      <td>no</td>\n",
       "      <td>no</td>\n",
       "      <td>unknown</td>\n",
       "      <td>18</td>\n",
       "      <td>jun</td>\n",
       "      <td>185</td>\n",
       "      <td>1</td>\n",
       "      <td>-1</td>\n",
       "      <td>0</td>\n",
       "      <td>unknown</td>\n",
       "      <td>0</td>\n",
       "    </tr>\n",
       "    <tr>\n",
       "      <th>2</th>\n",
       "      <td>2</td>\n",
       "      <td>36</td>\n",
       "      <td>blue-collar</td>\n",
       "      <td>married</td>\n",
       "      <td>secondary</td>\n",
       "      <td>no</td>\n",
       "      <td>602</td>\n",
       "      <td>yes</td>\n",
       "      <td>no</td>\n",
       "      <td>unknown</td>\n",
       "      <td>14</td>\n",
       "      <td>may</td>\n",
       "      <td>111</td>\n",
       "      <td>2</td>\n",
       "      <td>-1</td>\n",
       "      <td>0</td>\n",
       "      <td>unknown</td>\n",
       "      <td>0</td>\n",
       "    </tr>\n",
       "    <tr>\n",
       "      <th>3</th>\n",
       "      <td>3</td>\n",
       "      <td>27</td>\n",
       "      <td>student</td>\n",
       "      <td>single</td>\n",
       "      <td>secondary</td>\n",
       "      <td>no</td>\n",
       "      <td>34</td>\n",
       "      <td>yes</td>\n",
       "      <td>no</td>\n",
       "      <td>unknown</td>\n",
       "      <td>28</td>\n",
       "      <td>may</td>\n",
       "      <td>10</td>\n",
       "      <td>2</td>\n",
       "      <td>-1</td>\n",
       "      <td>0</td>\n",
       "      <td>unknown</td>\n",
       "      <td>0</td>\n",
       "    </tr>\n",
       "    <tr>\n",
       "      <th>4</th>\n",
       "      <td>4</td>\n",
       "      <td>26</td>\n",
       "      <td>technician</td>\n",
       "      <td>married</td>\n",
       "      <td>secondary</td>\n",
       "      <td>no</td>\n",
       "      <td>889</td>\n",
       "      <td>yes</td>\n",
       "      <td>no</td>\n",
       "      <td>cellular</td>\n",
       "      <td>3</td>\n",
       "      <td>feb</td>\n",
       "      <td>902</td>\n",
       "      <td>1</td>\n",
       "      <td>-1</td>\n",
       "      <td>0</td>\n",
       "      <td>unknown</td>\n",
       "      <td>1</td>\n",
       "    </tr>\n",
       "    <tr>\n",
       "      <th>...</th>\n",
       "      <td>...</td>\n",
       "      <td>...</td>\n",
       "      <td>...</td>\n",
       "      <td>...</td>\n",
       "      <td>...</td>\n",
       "      <td>...</td>\n",
       "      <td>...</td>\n",
       "      <td>...</td>\n",
       "      <td>...</td>\n",
       "      <td>...</td>\n",
       "      <td>...</td>\n",
       "      <td>...</td>\n",
       "      <td>...</td>\n",
       "      <td>...</td>\n",
       "      <td>...</td>\n",
       "      <td>...</td>\n",
       "      <td>...</td>\n",
       "      <td>...</td>\n",
       "    </tr>\n",
       "    <tr>\n",
       "      <th>749995</th>\n",
       "      <td>749995</td>\n",
       "      <td>29</td>\n",
       "      <td>services</td>\n",
       "      <td>single</td>\n",
       "      <td>secondary</td>\n",
       "      <td>no</td>\n",
       "      <td>1282</td>\n",
       "      <td>no</td>\n",
       "      <td>yes</td>\n",
       "      <td>unknown</td>\n",
       "      <td>4</td>\n",
       "      <td>jul</td>\n",
       "      <td>1006</td>\n",
       "      <td>2</td>\n",
       "      <td>-1</td>\n",
       "      <td>0</td>\n",
       "      <td>unknown</td>\n",
       "      <td>1</td>\n",
       "    </tr>\n",
       "    <tr>\n",
       "      <th>749996</th>\n",
       "      <td>749996</td>\n",
       "      <td>69</td>\n",
       "      <td>retired</td>\n",
       "      <td>divorced</td>\n",
       "      <td>tertiary</td>\n",
       "      <td>no</td>\n",
       "      <td>631</td>\n",
       "      <td>no</td>\n",
       "      <td>no</td>\n",
       "      <td>cellular</td>\n",
       "      <td>19</td>\n",
       "      <td>aug</td>\n",
       "      <td>87</td>\n",
       "      <td>1</td>\n",
       "      <td>-1</td>\n",
       "      <td>0</td>\n",
       "      <td>unknown</td>\n",
       "      <td>0</td>\n",
       "    </tr>\n",
       "    <tr>\n",
       "      <th>749997</th>\n",
       "      <td>749997</td>\n",
       "      <td>50</td>\n",
       "      <td>blue-collar</td>\n",
       "      <td>married</td>\n",
       "      <td>secondary</td>\n",
       "      <td>no</td>\n",
       "      <td>217</td>\n",
       "      <td>yes</td>\n",
       "      <td>no</td>\n",
       "      <td>cellular</td>\n",
       "      <td>17</td>\n",
       "      <td>apr</td>\n",
       "      <td>113</td>\n",
       "      <td>1</td>\n",
       "      <td>-1</td>\n",
       "      <td>0</td>\n",
       "      <td>unknown</td>\n",
       "      <td>0</td>\n",
       "    </tr>\n",
       "    <tr>\n",
       "      <th>749998</th>\n",
       "      <td>749998</td>\n",
       "      <td>32</td>\n",
       "      <td>technician</td>\n",
       "      <td>married</td>\n",
       "      <td>secondary</td>\n",
       "      <td>no</td>\n",
       "      <td>-274</td>\n",
       "      <td>no</td>\n",
       "      <td>no</td>\n",
       "      <td>cellular</td>\n",
       "      <td>26</td>\n",
       "      <td>aug</td>\n",
       "      <td>108</td>\n",
       "      <td>6</td>\n",
       "      <td>-1</td>\n",
       "      <td>0</td>\n",
       "      <td>unknown</td>\n",
       "      <td>0</td>\n",
       "    </tr>\n",
       "    <tr>\n",
       "      <th>749999</th>\n",
       "      <td>749999</td>\n",
       "      <td>42</td>\n",
       "      <td>technician</td>\n",
       "      <td>married</td>\n",
       "      <td>secondary</td>\n",
       "      <td>no</td>\n",
       "      <td>1559</td>\n",
       "      <td>no</td>\n",
       "      <td>no</td>\n",
       "      <td>cellular</td>\n",
       "      <td>4</td>\n",
       "      <td>aug</td>\n",
       "      <td>143</td>\n",
       "      <td>1</td>\n",
       "      <td>1</td>\n",
       "      <td>7</td>\n",
       "      <td>failure</td>\n",
       "      <td>0</td>\n",
       "    </tr>\n",
       "  </tbody>\n",
       "</table>\n",
       "<p>750000 rows × 18 columns</p>\n",
       "</div>"
      ],
      "text/plain": [
       "            id  age          job   marital  education default  balance  \\\n",
       "0            0   42   technician   married  secondary      no        7   \n",
       "1            1   38  blue-collar   married  secondary      no      514   \n",
       "2            2   36  blue-collar   married  secondary      no      602   \n",
       "3            3   27      student    single  secondary      no       34   \n",
       "4            4   26   technician   married  secondary      no      889   \n",
       "...        ...  ...          ...       ...        ...     ...      ...   \n",
       "749995  749995   29     services    single  secondary      no     1282   \n",
       "749996  749996   69      retired  divorced   tertiary      no      631   \n",
       "749997  749997   50  blue-collar   married  secondary      no      217   \n",
       "749998  749998   32   technician   married  secondary      no     -274   \n",
       "749999  749999   42   technician   married  secondary      no     1559   \n",
       "\n",
       "       housing loan   contact  day month  duration  campaign  pdays  previous  \\\n",
       "0           no   no  cellular   25   aug       117         3     -1         0   \n",
       "1           no   no   unknown   18   jun       185         1     -1         0   \n",
       "2          yes   no   unknown   14   may       111         2     -1         0   \n",
       "3          yes   no   unknown   28   may        10         2     -1         0   \n",
       "4          yes   no  cellular    3   feb       902         1     -1         0   \n",
       "...        ...  ...       ...  ...   ...       ...       ...    ...       ...   \n",
       "749995      no  yes   unknown    4   jul      1006         2     -1         0   \n",
       "749996      no   no  cellular   19   aug        87         1     -1         0   \n",
       "749997     yes   no  cellular   17   apr       113         1     -1         0   \n",
       "749998      no   no  cellular   26   aug       108         6     -1         0   \n",
       "749999      no   no  cellular    4   aug       143         1      1         7   \n",
       "\n",
       "       poutcome  y  \n",
       "0       unknown  0  \n",
       "1       unknown  0  \n",
       "2       unknown  0  \n",
       "3       unknown  0  \n",
       "4       unknown  1  \n",
       "...         ... ..  \n",
       "749995  unknown  1  \n",
       "749996  unknown  0  \n",
       "749997  unknown  0  \n",
       "749998  unknown  0  \n",
       "749999  failure  0  \n",
       "\n",
       "[750000 rows x 18 columns]"
      ]
     },
     "execution_count": 4,
     "metadata": {},
     "output_type": "execute_result"
    }
   ],
   "source": [
    "df = pd.read_csv(f'{path}/train.csv')\n",
    "df"
   ]
  },
  {
   "cell_type": "code",
   "execution_count": 5,
   "id": "5ecd8478",
   "metadata": {
    "execution": {
     "iopub.execute_input": "2025-08-30T03:45:46.861858Z",
     "iopub.status.busy": "2025-08-30T03:45:46.861589Z",
     "iopub.status.idle": "2025-08-30T03:45:47.176994Z",
     "shell.execute_reply": "2025-08-30T03:45:47.176310Z"
    },
    "papermill": {
     "duration": 0.324466,
     "end_time": "2025-08-30T03:45:47.178200",
     "exception": false,
     "start_time": "2025-08-30T03:45:46.853734",
     "status": "completed"
    },
    "tags": []
   },
   "outputs": [
    {
     "data": {
      "text/plain": [
       "id           0\n",
       "age          0\n",
       "job          0\n",
       "marital      0\n",
       "education    0\n",
       "default      0\n",
       "balance      0\n",
       "housing      0\n",
       "loan         0\n",
       "contact      0\n",
       "day          0\n",
       "month        0\n",
       "duration     0\n",
       "campaign     0\n",
       "pdays        0\n",
       "previous     0\n",
       "poutcome     0\n",
       "y            0\n",
       "dtype: int64"
      ]
     },
     "execution_count": 5,
     "metadata": {},
     "output_type": "execute_result"
    }
   ],
   "source": [
    "df.isna().sum()"
   ]
  },
  {
   "cell_type": "markdown",
   "id": "17487391",
   "metadata": {
    "papermill": {
     "duration": 0.006996,
     "end_time": "2025-08-30T03:45:47.192625",
     "exception": false,
     "start_time": "2025-08-30T03:45:47.185629",
     "status": "completed"
    },
    "tags": []
   },
   "source": [
    "There are no missing values (at least no NaNs)."
   ]
  },
  {
   "cell_type": "code",
   "execution_count": 6,
   "id": "7109abda",
   "metadata": {
    "execution": {
     "iopub.execute_input": "2025-08-30T03:45:47.207298Z",
     "iopub.status.busy": "2025-08-30T03:45:47.207048Z",
     "iopub.status.idle": "2025-08-30T03:45:47.223305Z",
     "shell.execute_reply": "2025-08-30T03:45:47.222605Z"
    },
    "papermill": {
     "duration": 0.024859,
     "end_time": "2025-08-30T03:45:47.224448",
     "exception": false,
     "start_time": "2025-08-30T03:45:47.199589",
     "status": "completed"
    },
    "tags": []
   },
   "outputs": [
    {
     "data": {
      "text/plain": [
       "y\n",
       "0    659512\n",
       "1     90488\n",
       "Name: count, dtype: int64"
      ]
     },
     "execution_count": 6,
     "metadata": {},
     "output_type": "execute_result"
    }
   ],
   "source": [
    "df['y'].value_counts()"
   ]
  },
  {
   "cell_type": "code",
   "execution_count": 7,
   "id": "4253ff6a",
   "metadata": {
    "execution": {
     "iopub.execute_input": "2025-08-30T03:45:47.240003Z",
     "iopub.status.busy": "2025-08-30T03:45:47.239780Z",
     "iopub.status.idle": "2025-08-30T03:45:47.540103Z",
     "shell.execute_reply": "2025-08-30T03:45:47.539462Z"
    },
    "papermill": {
     "duration": 0.309695,
     "end_time": "2025-08-30T03:45:47.541335",
     "exception": false,
     "start_time": "2025-08-30T03:45:47.231640",
     "status": "completed"
    },
    "tags": []
   },
   "outputs": [
    {
     "data": {
      "image/png": "[encoded data removed]",
      "text/plain": [
       "<Figure size 700x500 with 1 Axes>"
      ]
     },
     "metadata": {},
     "output_type": "display_data"
    }
   ],
   "source": [
    "plt.figure(figsize=(7,5));\n",
    "\n",
    "sns.countplot(data=df, x='y', palette='Set2')\n",
    "plt.title('Distribution of target variable (y)')\n",
    "plt.show()"
   ]
  },
  {
   "cell_type": "markdown",
   "id": "799cf8f2",
   "metadata": {
    "papermill": {
     "duration": 0.007446,
     "end_time": "2025-08-30T03:45:47.556673",
     "exception": false,
     "start_time": "2025-08-30T03:45:47.549227",
     "status": "completed"
    },
    "tags": []
   },
   "source": [
    "## Continuous variables"
   ]
  },
  {
   "cell_type": "code",
   "execution_count": 8,
   "id": "d7f559ff",
   "metadata": {
    "execution": {
     "iopub.execute_input": "2025-08-30T03:45:47.572353Z",
     "iopub.status.busy": "2025-08-30T03:45:47.571878Z",
     "iopub.status.idle": "2025-08-30T03:45:47.742039Z",
     "shell.execute_reply": "2025-08-30T03:45:47.741336Z"
    },
    "papermill": {
     "duration": 0.179224,
     "end_time": "2025-08-30T03:45:47.743240",
     "exception": false,
     "start_time": "2025-08-30T03:45:47.564016",
     "status": "completed"
    },
    "tags": []
   },
   "outputs": [
    {
     "data": {
      "text/html": [
       "<div>\n",
       "<style scoped>\n",
       "    .dataframe tbody tr th:only-of-type {\n",
       "        vertical-align: middle;\n",
       "    }\n",
       "\n",
       "    .dataframe tbody tr th {\n",
       "        vertical-align: top;\n",
       "    }\n",
       "\n",
       "    .dataframe thead th {\n",
       "        text-align: right;\n",
       "    }\n",
       "</style>\n",
       "<table border=\"1\" class=\"dataframe\">\n",
       "  <thead>\n",
       "    <tr style=\"text-align: right;\">\n",
       "      <th></th>\n",
       "      <th>id</th>\n",
       "      <th>age</th>\n",
       "      <th>balance</th>\n",
       "      <th>day</th>\n",
       "      <th>duration</th>\n",
       "      <th>campaign</th>\n",
       "      <th>pdays</th>\n",
       "      <th>previous</th>\n",
       "      <th>y</th>\n",
       "    </tr>\n",
       "  </thead>\n",
       "  <tbody>\n",
       "    <tr>\n",
       "      <th>count</th>\n",
       "      <td>750000.000000</td>\n",
       "      <td>750000.000000</td>\n",
       "      <td>750000.000000</td>\n",
       "      <td>750000.000000</td>\n",
       "      <td>750000.000000</td>\n",
       "      <td>750000.000000</td>\n",
       "      <td>750000.000000</td>\n",
       "      <td>750000.000000</td>\n",
       "      <td>750000.000000</td>\n",
       "    </tr>\n",
       "    <tr>\n",
       "      <th>mean</th>\n",
       "      <td>374999.500000</td>\n",
       "      <td>40.926395</td>\n",
       "      <td>1204.067397</td>\n",
       "      <td>16.117209</td>\n",
       "      <td>256.229144</td>\n",
       "      <td>2.577008</td>\n",
       "      <td>22.412733</td>\n",
       "      <td>0.298545</td>\n",
       "      <td>0.120651</td>\n",
       "    </tr>\n",
       "    <tr>\n",
       "      <th>std</th>\n",
       "      <td>216506.495284</td>\n",
       "      <td>10.098829</td>\n",
       "      <td>2836.096759</td>\n",
       "      <td>8.250832</td>\n",
       "      <td>272.555662</td>\n",
       "      <td>2.718514</td>\n",
       "      <td>77.319998</td>\n",
       "      <td>1.335926</td>\n",
       "      <td>0.325721</td>\n",
       "    </tr>\n",
       "    <tr>\n",
       "      <th>min</th>\n",
       "      <td>0.000000</td>\n",
       "      <td>18.000000</td>\n",
       "      <td>-8019.000000</td>\n",
       "      <td>1.000000</td>\n",
       "      <td>1.000000</td>\n",
       "      <td>1.000000</td>\n",
       "      <td>-1.000000</td>\n",
       "      <td>0.000000</td>\n",
       "      <td>0.000000</td>\n",
       "    </tr>\n",
       "    <tr>\n",
       "      <th>25%</th>\n",
       "      <td>187499.750000</td>\n",
       "      <td>33.000000</td>\n",
       "      <td>0.000000</td>\n",
       "      <td>9.000000</td>\n",
       "      <td>91.000000</td>\n",
       "      <td>1.000000</td>\n",
       "      <td>-1.000000</td>\n",
       "      <td>0.000000</td>\n",
       "      <td>0.000000</td>\n",
       "    </tr>\n",
       "    <tr>\n",
       "      <th>50%</th>\n",
       "      <td>374999.500000</td>\n",
       "      <td>39.000000</td>\n",
       "      <td>634.000000</td>\n",
       "      <td>17.000000</td>\n",
       "      <td>133.000000</td>\n",
       "      <td>2.000000</td>\n",
       "      <td>-1.000000</td>\n",
       "      <td>0.000000</td>\n",
       "      <td>0.000000</td>\n",
       "    </tr>\n",
       "    <tr>\n",
       "      <th>75%</th>\n",
       "      <td>562499.250000</td>\n",
       "      <td>48.000000</td>\n",
       "      <td>1390.000000</td>\n",
       "      <td>21.000000</td>\n",
       "      <td>361.000000</td>\n",
       "      <td>3.000000</td>\n",
       "      <td>-1.000000</td>\n",
       "      <td>0.000000</td>\n",
       "      <td>0.000000</td>\n",
       "    </tr>\n",
       "    <tr>\n",
       "      <th>max</th>\n",
       "      <td>749999.000000</td>\n",
       "      <td>95.000000</td>\n",
       "      <td>99717.000000</td>\n",
       "      <td>31.000000</td>\n",
       "      <td>4918.000000</td>\n",
       "      <td>63.000000</td>\n",
       "      <td>871.000000</td>\n",
       "      <td>200.000000</td>\n",
       "      <td>1.000000</td>\n",
       "    </tr>\n",
       "  </tbody>\n",
       "</table>\n",
       "</div>"
      ],
      "text/plain": [
       "                  id            age        balance            day  \\\n",
       "count  750000.000000  750000.000000  750000.000000  750000.000000   \n",
       "mean   374999.500000      40.926395    1204.067397      16.117209   \n",
       "std    216506.495284      10.098829    2836.096759       8.250832   \n",
       "min         0.000000      18.000000   -8019.000000       1.000000   \n",
       "25%    187499.750000      33.000000       0.000000       9.000000   \n",
       "50%    374999.500000      39.000000     634.000000      17.000000   \n",
       "75%    562499.250000      48.000000    1390.000000      21.000000   \n",
       "max    749999.000000      95.000000   99717.000000      31.000000   \n",
       "\n",
       "            duration       campaign          pdays       previous  \\\n",
       "count  750000.000000  750000.000000  750000.000000  750000.000000   \n",
       "mean      256.229144       2.577008      22.412733       0.298545   \n",
       "std       272.555662       2.718514      77.319998       1.335926   \n",
       "min         1.000000       1.000000      -1.000000       0.000000   \n",
       "25%        91.000000       1.000000      -1.000000       0.000000   \n",
       "50%       133.000000       2.000000      -1.000000       0.000000   \n",
       "75%       361.000000       3.000000      -1.000000       0.000000   \n",
       "max      4918.000000      63.000000     871.000000     200.000000   \n",
       "\n",
       "                   y  \n",
       "count  750000.000000  \n",
       "mean        0.120651  \n",
       "std         0.325721  \n",
       "min         0.000000  \n",
       "25%         0.000000  \n",
       "50%         0.000000  \n",
       "75%         0.000000  \n",
       "max         1.000000  "
      ]
     },
     "execution_count": 8,
     "metadata": {},
     "output_type": "execute_result"
    }
   ],
   "source": [
    "df.describe(include='number')"
   ]
  },
  {
   "cell_type": "markdown",
   "id": "f8817476",
   "metadata": {
    "papermill": {
     "duration": 0.007483,
     "end_time": "2025-08-30T03:45:47.758781",
     "exception": false,
     "start_time": "2025-08-30T03:45:47.751298",
     "status": "completed"
    },
    "tags": []
   },
   "source": [
    "```id``` is a unique value for each row/sample, so don't have to take that into consideration. ```y``` is the dependent variable."
   ]
  },
  {
   "cell_type": "code",
   "execution_count": 9,
   "id": "092e027b",
   "metadata": {
    "execution": {
     "iopub.execute_input": "2025-08-30T03:45:47.775510Z",
     "iopub.status.busy": "2025-08-30T03:45:47.775285Z",
     "iopub.status.idle": "2025-08-30T03:45:48.983122Z",
     "shell.execute_reply": "2025-08-30T03:45:48.982385Z"
    },
    "papermill": {
     "duration": 1.217865,
     "end_time": "2025-08-30T03:45:48.984691",
     "exception": false,
     "start_time": "2025-08-30T03:45:47.766826",
     "status": "completed"
    },
    "tags": []
   },
   "outputs": [
    {
     "data": {
      "image/png": "[encoded data removed]",
      "text/plain": [
       "<Figure size 1200x1000 with 9 Axes>"
      ]
     },
     "metadata": {},
     "output_type": "display_data"
    }
   ],
   "source": [
    "df_to_plot = df.select_dtypes(include='number').drop(columns=['id', 'y'])\n",
    "\n",
    "df_to_plot.hist(figsize=(12,10));\n",
    "plt.tight_layout()\n",
    "plt.show()"
   ]
  },
  {
   "cell_type": "markdown",
   "id": "48566c8f",
   "metadata": {
    "papermill": {
     "duration": 0.008534,
     "end_time": "2025-08-30T03:45:49.002986",
     "exception": false,
     "start_time": "2025-08-30T03:45:48.994452",
     "status": "completed"
    },
    "tags": []
   },
   "source": [
    "```balance``` and ```duration``` are very right-skewed."
   ]
  },
  {
   "cell_type": "code",
   "execution_count": 10,
   "id": "70b32953",
   "metadata": {
    "execution": {
     "iopub.execute_input": "2025-08-30T03:45:49.021452Z",
     "iopub.status.busy": "2025-08-30T03:45:49.021236Z",
     "iopub.status.idle": "2025-08-30T03:45:49.030726Z",
     "shell.execute_reply": "2025-08-30T03:45:49.030185Z"
    },
    "papermill": {
     "duration": 0.020094,
     "end_time": "2025-08-30T03:45:49.031789",
     "exception": false,
     "start_time": "2025-08-30T03:45:49.011695",
     "status": "completed"
    },
    "tags": []
   },
   "outputs": [
    {
     "data": {
      "text/plain": [
       "pdays\n",
       "-1      672434\n",
       " 182      2515\n",
       " 92       2275\n",
       " 183      2074\n",
       " 181      1698\n",
       "         ...  \n",
       " 647         1\n",
       " 614         1\n",
       " 420         1\n",
       " 735         1\n",
       " 20          1\n",
       "Name: count, Length: 596, dtype: int64"
      ]
     },
     "execution_count": 10,
     "metadata": {},
     "output_type": "execute_result"
    }
   ],
   "source": [
    "df.pdays.value_counts()"
   ]
  },
  {
   "cell_type": "markdown",
   "id": "e85862e5",
   "metadata": {
    "papermill": {
     "duration": 0.009109,
     "end_time": "2025-08-30T03:45:49.092643",
     "exception": false,
     "start_time": "2025-08-30T03:45:49.083534",
     "status": "completed"
    },
    "tags": []
   },
   "source": [
    "A ```pdays``` entry of -1 indicates that the client has never been contacted before."
   ]
  },
  {
   "cell_type": "code",
   "execution_count": 11,
   "id": "65ba175e",
   "metadata": {
    "execution": {
     "iopub.execute_input": "2025-08-30T03:45:49.111463Z",
     "iopub.status.busy": "2025-08-30T03:45:49.111211Z",
     "iopub.status.idle": "2025-08-30T03:45:49.119656Z",
     "shell.execute_reply": "2025-08-30T03:45:49.119113Z"
    },
    "papermill": {
     "duration": 0.019031,
     "end_time": "2025-08-30T03:45:49.120633",
     "exception": false,
     "start_time": "2025-08-30T03:45:49.101602",
     "status": "completed"
    },
    "tags": []
   },
   "outputs": [
    {
     "data": {
      "text/plain": [
       "50"
      ]
     },
     "execution_count": 11,
     "metadata": {},
     "output_type": "execute_result"
    }
   ],
   "source": [
    "df.previous.nunique()"
   ]
  },
  {
   "cell_type": "markdown",
   "id": "c762ee8a",
   "metadata": {
    "papermill": {
     "duration": 0.008742,
     "end_time": "2025-08-30T03:45:49.138372",
     "exception": false,
     "start_time": "2025-08-30T03:45:49.129630",
     "status": "completed"
    },
    "tags": []
   },
   "source": [
    "Looking at correlations between the continuous variables and the target:"
   ]
  },
  {
   "cell_type": "code",
   "execution_count": 12,
   "id": "b1482f75",
   "metadata": {
    "execution": {
     "iopub.execute_input": "2025-08-30T03:45:49.156851Z",
     "iopub.status.busy": "2025-08-30T03:45:49.156674Z",
     "iopub.status.idle": "2025-08-30T03:45:50.042883Z",
     "shell.execute_reply": "2025-08-30T03:45:50.042169Z"
    },
    "papermill": {
     "duration": 0.897147,
     "end_time": "2025-08-30T03:45:50.044258",
     "exception": false,
     "start_time": "2025-08-30T03:45:49.147111",
     "status": "completed"
    },
    "tags": []
   },
   "outputs": [
    {
     "data": {
      "image/png": "[encoded data removed]",
      "text/plain": [
       "<Figure size 1500x500 with 3 Axes>"
      ]
     },
     "metadata": {},
     "output_type": "display_data"
    }
   ],
   "source": [
    "cont_cols = ['age','balance','duration']\n",
    "\n",
    "plt.figure(figsize=(15,5));\n",
    "\n",
    "for i, colname in enumerate(cont_cols,1):\n",
    "    plt.subplot(1,3,i)\n",
    "    sns.boxplot(x='y', y=colname, data=df, palette='Set2');\n",
    "    plt.title(f'Target vs. {colname.capitalize()}')\n",
    "\n",
    "plt.tight_layout()\n",
    "plt.show()"
   ]
  },
  {
   "cell_type": "markdown",
   "id": "1b646e25",
   "metadata": {
    "papermill": {
     "duration": 0.009484,
     "end_time": "2025-08-30T03:45:50.063986",
     "exception": false,
     "start_time": "2025-08-30T03:45:50.054502",
     "status": "completed"
    },
    "tags": []
   },
   "source": [
    "Out of these 3 variables, last call duration shows the most correlation with target."
   ]
  },
  {
   "cell_type": "markdown",
   "id": "cb04ca92",
   "metadata": {
    "papermill": {
     "duration": 0.009299,
     "end_time": "2025-08-30T03:45:50.082777",
     "exception": false,
     "start_time": "2025-08-30T03:45:50.073478",
     "status": "completed"
    },
    "tags": []
   },
   "source": [
    "## Categorical variables"
   ]
  },
  {
   "cell_type": "code",
   "execution_count": 13,
   "id": "a829cd7d",
   "metadata": {
    "execution": {
     "iopub.execute_input": "2025-08-30T03:45:50.102992Z",
     "iopub.status.busy": "2025-08-30T03:45:50.102756Z",
     "iopub.status.idle": "2025-08-30T03:45:50.894919Z",
     "shell.execute_reply": "2025-08-30T03:45:50.894114Z"
    },
    "papermill": {
     "duration": 0.803823,
     "end_time": "2025-08-30T03:45:50.896290",
     "exception": false,
     "start_time": "2025-08-30T03:45:50.092467",
     "status": "completed"
    },
    "tags": []
   },
   "outputs": [
    {
     "data": {
      "text/html": [
       "<div>\n",
       "<style scoped>\n",
       "    .dataframe tbody tr th:only-of-type {\n",
       "        vertical-align: middle;\n",
       "    }\n",
       "\n",
       "    .dataframe tbody tr th {\n",
       "        vertical-align: top;\n",
       "    }\n",
       "\n",
       "    .dataframe thead th {\n",
       "        text-align: right;\n",
       "    }\n",
       "</style>\n",
       "<table border=\"1\" class=\"dataframe\">\n",
       "  <thead>\n",
       "    <tr style=\"text-align: right;\">\n",
       "      <th></th>\n",
       "      <th>job</th>\n",
       "      <th>marital</th>\n",
       "      <th>education</th>\n",
       "      <th>default</th>\n",
       "      <th>housing</th>\n",
       "      <th>loan</th>\n",
       "      <th>contact</th>\n",
       "      <th>month</th>\n",
       "      <th>poutcome</th>\n",
       "    </tr>\n",
       "  </thead>\n",
       "  <tbody>\n",
       "    <tr>\n",
       "      <th>count</th>\n",
       "      <td>750000</td>\n",
       "      <td>750000</td>\n",
       "      <td>750000</td>\n",
       "      <td>750000</td>\n",
       "      <td>750000</td>\n",
       "      <td>750000</td>\n",
       "      <td>750000</td>\n",
       "      <td>750000</td>\n",
       "      <td>750000</td>\n",
       "    </tr>\n",
       "    <tr>\n",
       "      <th>unique</th>\n",
       "      <td>12</td>\n",
       "      <td>3</td>\n",
       "      <td>4</td>\n",
       "      <td>2</td>\n",
       "      <td>2</td>\n",
       "      <td>2</td>\n",
       "      <td>3</td>\n",
       "      <td>12</td>\n",
       "      <td>4</td>\n",
       "    </tr>\n",
       "    <tr>\n",
       "      <th>top</th>\n",
       "      <td>management</td>\n",
       "      <td>married</td>\n",
       "      <td>secondary</td>\n",
       "      <td>no</td>\n",
       "      <td>yes</td>\n",
       "      <td>no</td>\n",
       "      <td>cellular</td>\n",
       "      <td>may</td>\n",
       "      <td>unknown</td>\n",
       "    </tr>\n",
       "    <tr>\n",
       "      <th>freq</th>\n",
       "      <td>175541</td>\n",
       "      <td>480759</td>\n",
       "      <td>401683</td>\n",
       "      <td>737151</td>\n",
       "      <td>411288</td>\n",
       "      <td>645023</td>\n",
       "      <td>486655</td>\n",
       "      <td>228411</td>\n",
       "      <td>672450</td>\n",
       "    </tr>\n",
       "  </tbody>\n",
       "</table>\n",
       "</div>"
      ],
      "text/plain": [
       "               job  marital  education default housing    loan   contact  \\\n",
       "count       750000   750000     750000  750000  750000  750000    750000   \n",
       "unique          12        3          4       2       2       2         3   \n",
       "top     management  married  secondary      no     yes      no  cellular   \n",
       "freq        175541   480759     401683  737151  411288  645023    486655   \n",
       "\n",
       "         month poutcome  \n",
       "count   750000   750000  \n",
       "unique      12        4  \n",
       "top        may  unknown  \n",
       "freq    228411   672450  "
      ]
     },
     "execution_count": 13,
     "metadata": {},
     "output_type": "execute_result"
    }
   ],
   "source": [
    "df.describe(include=[object])"
   ]
  },
  {
   "cell_type": "markdown",
   "id": "af5ca715",
   "metadata": {
    "papermill": {
     "duration": 0.009751,
     "end_time": "2025-08-30T03:45:50.916196",
     "exception": false,
     "start_time": "2025-08-30T03:45:50.906445",
     "status": "completed"
    },
    "tags": []
   },
   "source": [
    "Looks like some of the categorical columns contain a category called 'unknown'. Specifically, the ```contact``` and ```poutcome``` columns contain this value."
   ]
  },
  {
   "cell_type": "code",
   "execution_count": 14,
   "id": "fb71e34c",
   "metadata": {
    "execution": {
     "iopub.execute_input": "2025-08-30T03:45:50.938152Z",
     "iopub.status.busy": "2025-08-30T03:45:50.937891Z",
     "iopub.status.idle": "2025-08-30T03:45:50.941770Z",
     "shell.execute_reply": "2025-08-30T03:45:50.941111Z"
    },
    "papermill": {
     "duration": 0.016596,
     "end_time": "2025-08-30T03:45:50.942821",
     "exception": false,
     "start_time": "2025-08-30T03:45:50.926225",
     "status": "completed"
    },
    "tags": []
   },
   "outputs": [],
   "source": [
    "cat_cols = ['job','marital','education','default','housing','loan','contact','month','poutcome']\n",
    "cont = ['age','balance','day','duration','campaign','pdays','previous']\n",
    "dep = 'y'"
   ]
  },
  {
   "cell_type": "code",
   "execution_count": 15,
   "id": "080ec13d",
   "metadata": {
    "execution": {
     "iopub.execute_input": "2025-08-30T03:45:50.963831Z",
     "iopub.status.busy": "2025-08-30T03:45:50.963279Z",
     "iopub.status.idle": "2025-08-30T03:45:51.241710Z",
     "shell.execute_reply": "2025-08-30T03:45:51.241034Z"
    },
    "papermill": {
     "duration": 0.290106,
     "end_time": "2025-08-30T03:45:51.242898",
     "exception": false,
     "start_time": "2025-08-30T03:45:50.952792",
     "status": "completed"
    },
    "tags": []
   },
   "outputs": [
    {
     "name": "stdout",
     "output_type": "stream",
     "text": [
      "['technician' 'blue-collar' 'student' 'admin.' 'management' 'entrepreneur' 'self-employed' 'unknown' 'services' 'retired'\n",
      " 'housemaid' 'unemployed']\n",
      "['married' 'single' 'divorced']\n",
      "['secondary' 'primary' 'tertiary' 'unknown']\n",
      "['no' 'yes']\n",
      "['no' 'yes']\n",
      "['no' 'yes']\n",
      "['cellular' 'unknown' 'telephone']\n",
      "['aug' 'jun' 'may' 'feb' 'apr' 'nov' 'jul' 'jan' 'oct' 'mar' 'sep' 'dec']\n",
      "['unknown' 'other' 'failure' 'success']\n"
     ]
    }
   ],
   "source": [
    "for col in cat_cols:\n",
    "    print(df[col].unique())"
   ]
  },
  {
   "cell_type": "code",
   "execution_count": 16,
   "id": "85b4003c",
   "metadata": {
    "execution": {
     "iopub.execute_input": "2025-08-30T03:45:51.264573Z",
     "iopub.status.busy": "2025-08-30T03:45:51.263870Z",
     "iopub.status.idle": "2025-08-30T03:45:55.341967Z",
     "shell.execute_reply": "2025-08-30T03:45:55.341266Z"
    },
    "papermill": {
     "duration": 4.091446,
     "end_time": "2025-08-30T03:45:55.344721",
     "exception": false,
     "start_time": "2025-08-30T03:45:51.253275",
     "status": "completed"
    },
    "tags": []
   },
   "outputs": [
    {
     "data": {
      "image/png": "[encoded data removed]",
      "text/plain": [
       "<Figure size 1500x1000 with 9 Axes>"
      ]
     },
     "metadata": {},
     "output_type": "display_data"
    }
   ],
   "source": [
    "plt.figure(figsize=(15,10))\n",
    "\n",
    "for i,colname in enumerate(cat_cols,1):\n",
    "    plt.subplot(3,3,i)\n",
    "    sns.countplot(data=df, x=colname, palette='Set2');\n",
    "    plt.title(f'Distribution of {colname.capitalize()}')\n",
    "    plt.xticks(rotation=45)\n",
    "plt.tight_layout()\n",
    "plt.show()"
   ]
  },
  {
   "cell_type": "code",
   "execution_count": 17,
   "id": "c0f2c58b",
   "metadata": {
    "execution": {
     "iopub.execute_input": "2025-08-30T03:45:55.370806Z",
     "iopub.status.busy": "2025-08-30T03:45:55.370313Z",
     "iopub.status.idle": "2025-08-30T03:45:55.418168Z",
     "shell.execute_reply": "2025-08-30T03:45:55.417530Z"
    },
    "papermill": {
     "duration": 0.061983,
     "end_time": "2025-08-30T03:45:55.419320",
     "exception": false,
     "start_time": "2025-08-30T03:45:55.357337",
     "status": "completed"
    },
    "tags": []
   },
   "outputs": [
    {
     "data": {
      "text/plain": [
       "0         aug\n",
       "1         jun\n",
       "2         may\n",
       "3         may\n",
       "4         feb\n",
       "         ... \n",
       "749995    jul\n",
       "749996    aug\n",
       "749997    apr\n",
       "749998    aug\n",
       "749999    aug\n",
       "Name: month, Length: 750000, dtype: category\n",
       "Categories (12, object): ['jan' < 'feb' < 'mar' < 'apr' ... 'sep' < 'oct' < 'nov' < 'dec']"
      ]
     },
     "execution_count": 17,
     "metadata": {},
     "output_type": "execute_result"
    }
   ],
   "source": [
    "month_order = ['jan', 'feb', 'mar', 'apr', 'may', 'jun', 'jul', 'aug', 'sep', 'oct', 'nov', 'dec']\n",
    "\n",
    "df['month'] = pd.Categorical(df['month'], categories=month_order, ordered=True)\n",
    "df['month']"
   ]
  },
  {
   "cell_type": "code",
   "execution_count": 18,
   "id": "b193c112",
   "metadata": {
    "execution": {
     "iopub.execute_input": "2025-08-30T03:45:55.444451Z",
     "iopub.status.busy": "2025-08-30T03:45:55.444266Z",
     "iopub.status.idle": "2025-08-30T03:45:55.694410Z",
     "shell.execute_reply": "2025-08-30T03:45:55.693792Z"
    },
    "papermill": {
     "duration": 0.264092,
     "end_time": "2025-08-30T03:45:55.695629",
     "exception": false,
     "start_time": "2025-08-30T03:45:55.431537",
     "status": "completed"
    },
    "tags": []
   },
   "outputs": [
    {
     "name": "stderr",
     "output_type": "stream",
     "text": [
      "/usr/local/lib/python3.11/dist-packages/seaborn/categorical.py:641: FutureWarning: The default of observed=False is deprecated and will be changed to True in a future version of pandas. Pass observed=False to retain current behavior or observed=True to adopt the future default and silence this warning.\n",
      "  grouped_vals = vals.groupby(grouper)\n",
      "/usr/local/lib/python3.11/dist-packages/seaborn/categorical.py:641: FutureWarning: The default of observed=False is deprecated and will be changed to True in a future version of pandas. Pass observed=False to retain current behavior or observed=True to adopt the future default and silence this warning.\n",
      "  grouped_vals = vals.groupby(grouper)\n"
     ]
    },
    {
     "data": {
      "image/png": "[encoded data removed]",
      "text/plain": [
       "<Figure size 700x500 with 1 Axes>"
      ]
     },
     "metadata": {},
     "output_type": "display_data"
    }
   ],
   "source": [
    "plt.figure(figsize=(7,5));\n",
    "\n",
    "sns.countplot(x='month', hue='y', data=df, palette='Set2')\n",
    "plt.title(\"Target response per month\")\n",
    "plt.show()"
   ]
  },
  {
   "cell_type": "code",
   "execution_count": 19,
   "id": "01b49712",
   "metadata": {
    "execution": {
     "iopub.execute_input": "2025-08-30T03:45:55.723838Z",
     "iopub.status.busy": "2025-08-30T03:45:55.723188Z",
     "iopub.status.idle": "2025-08-30T03:45:56.136815Z",
     "shell.execute_reply": "2025-08-30T03:45:56.136109Z"
    },
    "papermill": {
     "duration": 0.428051,
     "end_time": "2025-08-30T03:45:56.138039",
     "exception": false,
     "start_time": "2025-08-30T03:45:55.709988",
     "status": "completed"
    },
    "tags": []
   },
   "outputs": [
    {
     "data": {
      "image/png": "[encoded data removed]",
      "text/plain": [
       "<Figure size 700x500 with 1 Axes>"
      ]
     },
     "metadata": {},
     "output_type": "display_data"
    }
   ],
   "source": [
    "plt.figure(figsize=(7,5))\n",
    "\n",
    "sns.countplot(x='day', hue='y', data=df, palette='Set2')\n",
    "plt.title(\"Target response per day of month\")\n",
    "plt.show()"
   ]
  },
  {
   "cell_type": "code",
   "execution_count": 20,
   "id": "a3ebb4de",
   "metadata": {
    "execution": {
     "iopub.execute_input": "2025-08-30T03:45:56.165971Z",
     "iopub.status.busy": "2025-08-30T03:45:56.165744Z",
     "iopub.status.idle": "2025-08-30T03:45:56.169574Z",
     "shell.execute_reply": "2025-08-30T03:45:56.168859Z"
    },
    "papermill": {
     "duration": 0.018382,
     "end_time": "2025-08-30T03:45:56.170634",
     "exception": false,
     "start_time": "2025-08-30T03:45:56.152252",
     "status": "completed"
    },
    "tags": []
   },
   "outputs": [],
   "source": [
    "df['month'] = df['month'].cat.codes"
   ]
  },
  {
   "cell_type": "markdown",
   "id": "049fd5a1",
   "metadata": {
    "papermill": {
     "duration": 0.01299,
     "end_time": "2025-08-30T03:45:56.196617",
     "exception": false,
     "start_time": "2025-08-30T03:45:56.183627",
     "status": "completed"
    },
    "tags": []
   },
   "source": [
    "## Feature engineering"
   ]
  },
  {
   "cell_type": "markdown",
   "id": "06c5ce4e",
   "metadata": {
    "papermill": {
     "duration": 0.01312,
     "end_time": "2025-08-30T03:45:56.222847",
     "exception": false,
     "start_time": "2025-08-30T03:45:56.209727",
     "status": "completed"
    },
    "tags": []
   },
   "source": [
    "Feature engineering consists of these steps:\n",
    "\n",
    "**Transforms**\n",
    "1) Log transform ```balance```. We will clip values at 0 since this column contains negative values.\n",
    "2) Sine and cosine transform ```days``` and ```month```. \n",
    "\n",
    "**Generating new columns**\n",
    "1) Convert ```pdays``` into a categorical column indicating whether a client was contacted or not.\n",
    "2) Target and frequency encoding categorical columns.\n",
    "3) Add binary columns for year-start, year-mid, and year-end."
   ]
  },
  {
   "cell_type": "code",
   "execution_count": 21,
   "id": "a0124b47",
   "metadata": {
    "execution": {
     "iopub.execute_input": "2025-08-30T03:45:56.250152Z",
     "iopub.status.busy": "2025-08-30T03:45:56.249876Z",
     "iopub.status.idle": "2025-08-30T03:45:56.299244Z",
     "shell.execute_reply": "2025-08-30T03:45:56.298436Z"
    },
    "papermill": {
     "duration": 0.064779,
     "end_time": "2025-08-30T03:45:56.300593",
     "exception": false,
     "start_time": "2025-08-30T03:45:56.235814",
     "status": "completed"
    },
    "tags": []
   },
   "outputs": [],
   "source": [
    "df['log_balance'] = np.log1p(df['balance'].clip(0))"
   ]
  },
  {
   "cell_type": "code",
   "execution_count": 22,
   "id": "c6ed2089",
   "metadata": {
    "execution": {
     "iopub.execute_input": "2025-08-30T03:45:56.330159Z",
     "iopub.status.busy": "2025-08-30T03:45:56.329923Z",
     "iopub.status.idle": "2025-08-30T03:45:56.361377Z",
     "shell.execute_reply": "2025-08-30T03:45:56.360701Z"
    },
    "papermill": {
     "duration": 0.046602,
     "end_time": "2025-08-30T03:45:56.362776",
     "exception": false,
     "start_time": "2025-08-30T03:45:56.316174",
     "status": "completed"
    },
    "tags": []
   },
   "outputs": [],
   "source": [
    "df['sin_day'] = np.sin(2*np.pi*df['day']/31)\n",
    "df['cos_day'] = np.cos(2*np.pi*df['day']/31)\n",
    "\n",
    "df['sin_month'] = np.sin(2*np.pi*df['month']/11)\n",
    "df['cos_month'] = np.cos(2*np.pi*df['month']/11)"
   ]
  },
  {
   "cell_type": "code",
   "execution_count": 23,
   "id": "b896066f",
   "metadata": {
    "execution": {
     "iopub.execute_input": "2025-08-30T03:45:56.390387Z",
     "iopub.status.busy": "2025-08-30T03:45:56.390158Z",
     "iopub.status.idle": "2025-08-30T03:45:56.395632Z",
     "shell.execute_reply": "2025-08-30T03:45:56.395036Z"
    },
    "papermill": {
     "duration": 0.020197,
     "end_time": "2025-08-30T03:45:56.396635",
     "exception": false,
     "start_time": "2025-08-30T03:45:56.376438",
     "status": "completed"
    },
    "tags": []
   },
   "outputs": [],
   "source": [
    "df['contacted_before'] = (df['pdays'] != -1).astype(int)"
   ]
  },
  {
   "cell_type": "code",
   "execution_count": 24,
   "id": "541161dd",
   "metadata": {
    "execution": {
     "iopub.execute_input": "2025-08-30T03:45:56.423541Z",
     "iopub.status.busy": "2025-08-30T03:45:56.423336Z",
     "iopub.status.idle": "2025-08-30T03:45:56.435935Z",
     "shell.execute_reply": "2025-08-30T03:45:56.435384Z"
    },
    "papermill": {
     "duration": 0.027195,
     "end_time": "2025-08-30T03:45:56.436933",
     "exception": false,
     "start_time": "2025-08-30T03:45:56.409738",
     "status": "completed"
    },
    "tags": []
   },
   "outputs": [],
   "source": [
    "df['year_start'] = (df['month'] <= 3).astype(int)\n",
    "df['year_mid'] = ((3 < df['month']) & (df['month'] <= 7)).astype(int)\n",
    "df['year_end'] = (df['month'] > 7).astype(int)"
   ]
  },
  {
   "cell_type": "code",
   "execution_count": 25,
   "id": "19eb27e4",
   "metadata": {
    "execution": {
     "iopub.execute_input": "2025-08-30T03:45:56.464415Z",
     "iopub.status.busy": "2025-08-30T03:45:56.464210Z",
     "iopub.status.idle": "2025-08-30T03:45:56.561004Z",
     "shell.execute_reply": "2025-08-30T03:45:56.560266Z"
    },
    "papermill": {
     "duration": 0.112562,
     "end_time": "2025-08-30T03:45:56.562917",
     "exception": false,
     "start_time": "2025-08-30T03:45:56.450355",
     "status": "completed"
    },
    "tags": []
   },
   "outputs": [
    {
     "data": {
      "text/plain": [
       "0         138107\n",
       "1         170498\n",
       "2         170498\n",
       "3          11767\n",
       "4         138107\n",
       "           ...  \n",
       "749995     64209\n",
       "749996     35185\n",
       "749997    170498\n",
       "749998    138107\n",
       "749999    138107\n",
       "Name: job_count, Length: 750000, dtype: int64"
      ]
     },
     "execution_count": 25,
     "metadata": {},
     "output_type": "execute_result"
    }
   ],
   "source": [
    "job_freq = df['job'].value_counts()\n",
    "df['job_count'] = df['job'].map(job_freq).fillna(0)\n",
    "df.job_count"
   ]
  },
  {
   "cell_type": "code",
   "execution_count": 26,
   "id": "ad5afcb1",
   "metadata": {
    "execution": {
     "iopub.execute_input": "2025-08-30T03:45:56.593055Z",
     "iopub.status.busy": "2025-08-30T03:45:56.592828Z",
     "iopub.status.idle": "2025-08-30T03:45:56.841463Z",
     "shell.execute_reply": "2025-08-30T03:45:56.840571Z"
    },
    "papermill": {
     "duration": 0.263526,
     "end_time": "2025-08-30T03:45:56.842870",
     "exception": false,
     "start_time": "2025-08-30T03:45:56.579344",
     "status": "completed"
    },
    "tags": []
   },
   "outputs": [],
   "source": [
    "convert_cat = ['poutcome','contact','loan','housing','default','education','marital']\n",
    "for col in convert_cat:\n",
    "    df[col] = pd.Categorical(df[col])"
   ]
  },
  {
   "cell_type": "code",
   "execution_count": 27,
   "id": "4f93519f",
   "metadata": {
    "execution": {
     "iopub.execute_input": "2025-08-30T03:45:56.872000Z",
     "iopub.status.busy": "2025-08-30T03:45:56.871759Z",
     "iopub.status.idle": "2025-08-30T03:45:56.876320Z",
     "shell.execute_reply": "2025-08-30T03:45:56.875752Z"
    },
    "papermill": {
     "duration": 0.020289,
     "end_time": "2025-08-30T03:45:56.877395",
     "exception": false,
     "start_time": "2025-08-30T03:45:56.857106",
     "status": "completed"
    },
    "tags": []
   },
   "outputs": [
    {
     "data": {
      "text/plain": [
       "Index(['id', 'age', 'job', 'marital', 'education', 'default', 'balance',\n",
       "       'housing', 'loan', 'contact', 'day', 'month', 'duration', 'campaign',\n",
       "       'pdays', 'previous', 'poutcome', 'y', 'log_balance', 'sin_day',\n",
       "       'cos_day', 'sin_month', 'cos_month', 'contacted_before', 'year_start',\n",
       "       'year_mid', 'year_end', 'job_count'],\n",
       "      dtype='object')"
      ]
     },
     "execution_count": 27,
     "metadata": {},
     "output_type": "execute_result"
    }
   ],
   "source": [
    "df.columns"
   ]
  },
  {
   "cell_type": "code",
   "execution_count": 28,
   "id": "12391272",
   "metadata": {
    "execution": {
     "iopub.execute_input": "2025-08-30T03:45:56.911033Z",
     "iopub.status.busy": "2025-08-30T03:45:56.910765Z",
     "iopub.status.idle": "2025-08-30T03:45:56.915679Z",
     "shell.execute_reply": "2025-08-30T03:45:56.914833Z"
    },
    "papermill": {
     "duration": 0.026172,
     "end_time": "2025-08-30T03:45:56.916940",
     "exception": false,
     "start_time": "2025-08-30T03:45:56.890768",
     "status": "completed"
    },
    "tags": []
   },
   "outputs": [],
   "source": [
    "cats = ['contacted_before','year_start','year_mid','year_end','poutcome','contact','loan','housing','default','education','marital','job_count']\n",
    "conts = ['age','log_balance','sin_day','cos_day','sin_month','cos_month','duration','campaign','previous']\n",
    "dep = 'y'"
   ]
  },
  {
   "cell_type": "markdown",
   "id": "5160939c",
   "metadata": {
    "papermill": {
     "duration": 0.020644,
     "end_time": "2025-08-30T03:45:56.955959",
     "exception": false,
     "start_time": "2025-08-30T03:45:56.935315",
     "status": "completed"
    },
    "tags": []
   },
   "source": [
    "Putting these preprocessing steps into a function:"
   ]
  },
  {
   "cell_type": "code",
   "execution_count": 29,
   "id": "88168727",
   "metadata": {
    "execution": {
     "iopub.execute_input": "2025-08-30T03:45:56.992601Z",
     "iopub.status.busy": "2025-08-30T03:45:56.992370Z",
     "iopub.status.idle": "2025-08-30T03:45:56.999078Z",
     "shell.execute_reply": "2025-08-30T03:45:56.998491Z"
    },
    "papermill": {
     "duration": 0.028216,
     "end_time": "2025-08-30T03:45:57.000270",
     "exception": false,
     "start_time": "2025-08-30T03:45:56.972054",
     "status": "completed"
    },
    "tags": []
   },
   "outputs": [],
   "source": [
    "def data_proc(df,cat_cols):\n",
    "    for col in df.columns:\n",
    "        df[col] = df[col].fillna(df[col].mode()[0])\n",
    "    \n",
    "    month_order = ['jan', 'feb', 'mar', 'apr', 'may', 'jun', 'jul', 'aug', 'sep', 'oct', 'nov', 'dec']\n",
    "    df['month'] = pd.Categorical(df['month'], categories=month_order, ordered=True)\n",
    "    df['month'] = df['month'].cat.codes\n",
    "        \n",
    "    df['log_balance'] = np.log1p(df['balance'].clip(0))\n",
    "    df['contacted_before'] = (df['pdays'] != 1).astype(int)\n",
    "    df['job_count'] = df['job'].map(df['job'].value_counts()).fillna(0)\n",
    "\n",
    "    df['sin_day'] = np.sin(2*np.pi*df['day']/31)\n",
    "    df['cos_day'] = np.cos(2*np.pi*df['day']/31)\n",
    "    \n",
    "    df['sin_month'] = np.sin(2*np.pi*df['month']/11)\n",
    "    df['cos_month'] = np.cos(2*np.pi*df['month']/11)\n",
    "\n",
    "    df['year_start'] = (df['month'] <= 3).astype(int)\n",
    "    df['year_mid'] = ((3 < df['month']) & (df['month'] <= 7)).astype(int)\n",
    "    df['year_end'] = (df['month'] > 7).astype(int)\n",
    "    \n",
    "    for col in cat_cols:\n",
    "        df[col] = pd.Categorical(df[col])\n",
    "        df[col] = df[col].cat.codes"
   ]
  },
  {
   "cell_type": "markdown",
   "id": "2d24879f",
   "metadata": {
    "papermill": {
     "duration": 0.012757,
     "end_time": "2025-08-30T03:45:57.025995",
     "exception": false,
     "start_time": "2025-08-30T03:45:57.013238",
     "status": "completed"
    },
    "tags": []
   },
   "source": [
    "## Set up the data"
   ]
  },
  {
   "cell_type": "markdown",
   "id": "3af9d3e7",
   "metadata": {
    "papermill": {
     "duration": 0.013039,
     "end_time": "2025-08-30T03:45:57.052029",
     "exception": false,
     "start_time": "2025-08-30T03:45:57.038990",
     "status": "completed"
    },
    "tags": []
   },
   "source": [
    "Split data into train and validation sets. Then, I converted the categorical columns to their numerical codes."
   ]
  },
  {
   "cell_type": "code",
   "execution_count": 30,
   "id": "fe756e18",
   "metadata": {
    "execution": {
     "iopub.execute_input": "2025-08-30T03:45:57.081028Z",
     "iopub.status.busy": "2025-08-30T03:45:57.080566Z",
     "iopub.status.idle": "2025-08-30T03:45:57.709432Z",
     "shell.execute_reply": "2025-08-30T03:45:57.708774Z"
    },
    "papermill": {
     "duration": 0.645661,
     "end_time": "2025-08-30T03:45:57.710794",
     "exception": false,
     "start_time": "2025-08-30T03:45:57.065133",
     "status": "completed"
    },
    "tags": []
   },
   "outputs": [],
   "source": [
    "from sklearn.model_selection import train_test_split\n",
    "\n",
    "trn_df,val_df = train_test_split(df, test_size=0.25)\n",
    "trn_df[convert_cat] = trn_df[convert_cat].apply(lambda x: x.cat.codes)\n",
    "val_df[convert_cat] = val_df[convert_cat].apply(lambda x: x.cat.codes)"
   ]
  },
  {
   "cell_type": "code",
   "execution_count": 31,
   "id": "e5225e83",
   "metadata": {
    "execution": {
     "iopub.execute_input": "2025-08-30T03:45:57.738576Z",
     "iopub.status.busy": "2025-08-30T03:45:57.738375Z",
     "iopub.status.idle": "2025-08-30T03:45:57.899297Z",
     "shell.execute_reply": "2025-08-30T03:45:57.898614Z"
    },
    "papermill": {
     "duration": 0.17599,
     "end_time": "2025-08-30T03:45:57.900675",
     "exception": false,
     "start_time": "2025-08-30T03:45:57.724685",
     "status": "completed"
    },
    "tags": []
   },
   "outputs": [],
   "source": [
    "def get_xs_y(df):\n",
    "    xs = df[cats+conts].copy()\n",
    "    y = df[dep].copy() if dep in df else None\n",
    "    return xs,y\n",
    "\n",
    "trn_indep,trn_dep = get_xs_y(trn_df)\n",
    "val_indep,val_dep = get_xs_y(val_df)"
   ]
  },
  {
   "cell_type": "code",
   "execution_count": 32,
   "id": "46bbf695",
   "metadata": {
    "execution": {
     "iopub.execute_input": "2025-08-30T03:45:57.928714Z",
     "iopub.status.busy": "2025-08-30T03:45:57.928517Z",
     "iopub.status.idle": "2025-08-30T03:45:57.932558Z",
     "shell.execute_reply": "2025-08-30T03:45:57.931743Z"
    },
    "papermill": {
     "duration": 0.019396,
     "end_time": "2025-08-30T03:45:57.933779",
     "exception": false,
     "start_time": "2025-08-30T03:45:57.914383",
     "status": "completed"
    },
    "tags": []
   },
   "outputs": [
    {
     "name": "stdout",
     "output_type": "stream",
     "text": [
      "train: 562500; validation: 187500\n"
     ]
    }
   ],
   "source": [
    "print(f'train: {len(trn_dep)}; validation: {len(val_dep)}') "
   ]
  },
  {
   "cell_type": "markdown",
   "id": "410efb65",
   "metadata": {
    "papermill": {
     "duration": 0.013108,
     "end_time": "2025-08-30T03:45:57.961256",
     "exception": false,
     "start_time": "2025-08-30T03:45:57.948148",
     "status": "completed"
    },
    "tags": []
   },
   "source": [
    "## Trying XGBoost"
   ]
  },
  {
   "cell_type": "code",
   "execution_count": 33,
   "id": "672b041b",
   "metadata": {
    "execution": {
     "iopub.execute_input": "2025-08-30T03:45:57.989524Z",
     "iopub.status.busy": "2025-08-30T03:45:57.989273Z",
     "iopub.status.idle": "2025-08-30T03:45:58.420494Z",
     "shell.execute_reply": "2025-08-30T03:45:58.419816Z"
    },
    "papermill": {
     "duration": 0.446753,
     "end_time": "2025-08-30T03:45:58.421782",
     "exception": false,
     "start_time": "2025-08-30T03:45:57.975029",
     "status": "completed"
    },
    "tags": []
   },
   "outputs": [],
   "source": [
    "import xgboost as xgb"
   ]
  },
  {
   "cell_type": "code",
   "execution_count": 34,
   "id": "99edb1ad",
   "metadata": {
    "execution": {
     "iopub.execute_input": "2025-08-30T03:45:58.449662Z",
     "iopub.status.busy": "2025-08-30T03:45:58.449456Z",
     "iopub.status.idle": "2025-08-30T03:45:58.453241Z",
     "shell.execute_reply": "2025-08-30T03:45:58.452552Z"
    },
    "papermill": {
     "duration": 0.018822,
     "end_time": "2025-08-30T03:45:58.454467",
     "exception": false,
     "start_time": "2025-08-30T03:45:58.435645",
     "status": "completed"
    },
    "tags": []
   },
   "outputs": [],
   "source": [
    "model = xgb.XGBClassifier(\n",
    "    n_estimators=500,\n",
    "    max_depth=10,\n",
    "    device='cuda',  # <== Enables GPU\n",
    "    verbosity=1\n",
    ")"
   ]
  },
  {
   "cell_type": "code",
   "execution_count": 35,
   "id": "f5665af6",
   "metadata": {
    "execution": {
     "iopub.execute_input": "2025-08-30T03:45:58.482046Z",
     "iopub.status.busy": "2025-08-30T03:45:58.481822Z",
     "iopub.status.idle": "2025-08-30T03:46:06.495947Z",
     "shell.execute_reply": "2025-08-30T03:46:06.495222Z"
    },
    "papermill": {
     "duration": 8.029527,
     "end_time": "2025-08-30T03:46:06.497166",
     "exception": false,
     "start_time": "2025-08-30T03:45:58.467639",
     "status": "completed"
    },
    "tags": []
   },
   "outputs": [
    {
     "data": {
      "text/html": [
       "<style>#sk-container-id-1 {color: black;background-color: white;}#sk-container-id-1 pre{padding: 0;}#sk-container-id-1 div.sk-toggleable {background-color: white;}#sk-container-id-1 label.sk-toggleable__label {cursor: pointer;display: block;width: 100%;margin-bottom: 0;padding: 0.3em;box-sizing: border-box;text-align: center;}#sk-container-id-1 label.sk-toggleable__label-arrow:before {content: \"▸\";float: left;margin-right: 0.25em;color: #696969;}#sk-container-id-1 label.sk-toggleable__label-arrow:hover:before {color: black;}#sk-container-id-1 div.sk-estimator:hover label.sk-toggleable__label-arrow:before {color: black;}#sk-container-id-1 div.sk-toggleable__content {max-height: 0;max-width: 0;overflow: hidden;text-align: left;background-color: #f0f8ff;}#sk-container-id-1 div.sk-toggleable__content pre {margin: 0.2em;color: black;border-radius: 0.25em;background-color: #f0f8ff;}#sk-container-id-1 input.sk-toggleable__control:checked~div.sk-toggleable__content {max-height: 200px;max-width: 100%;overflow: auto;}#sk-container-id-1 input.sk-toggleable__control:checked~label.sk-toggleable__label-arrow:before {content: \"▾\";}#sk-container-id-1 div.sk-estimator input.sk-toggleable__control:checked~label.sk-toggleable__label {background-color: #d4ebff;}#sk-container-id-1 div.sk-label input.sk-toggleable__control:checked~label.sk-toggleable__label {background-color: #d4ebff;}#sk-container-id-1 input.sk-hidden--visually {border: 0;clip: rect(1px 1px 1px 1px);clip: rect(1px, 1px, 1px, 1px);height: 1px;margin: -1px;overflow: hidden;padding: 0;position: absolute;width: 1px;}#sk-container-id-1 div.sk-estimator {font-family: monospace;background-color: #f0f8ff;border: 1px dotted black;border-radius: 0.25em;box-sizing: border-box;margin-bottom: 0.5em;}#sk-container-id-1 div.sk-estimator:hover {background-color: #d4ebff;}#sk-container-id-1 div.sk-parallel-item::after {content: \"\";width: 100%;border-bottom: 1px solid gray;flex-grow: 1;}#sk-container-id-1 div.sk-label:hover label.sk-toggleable__label {background-color: #d4ebff;}#sk-container-id-1 div.sk-serial::before {content: \"\";position: absolute;border-left: 1px solid gray;box-sizing: border-box;top: 0;bottom: 0;left: 50%;z-index: 0;}#sk-container-id-1 div.sk-serial {display: flex;flex-direction: column;align-items: center;background-color: white;padding-right: 0.2em;padding-left: 0.2em;position: relative;}#sk-container-id-1 div.sk-item {position: relative;z-index: 1;}#sk-container-id-1 div.sk-parallel {display: flex;align-items: stretch;justify-content: center;background-color: white;position: relative;}#sk-container-id-1 div.sk-item::before, #sk-container-id-1 div.sk-parallel-item::before {content: \"\";position: absolute;border-left: 1px solid gray;box-sizing: border-box;top: 0;bottom: 0;left: 50%;z-index: -1;}#sk-container-id-1 div.sk-parallel-item {display: flex;flex-direction: column;z-index: 1;position: relative;background-color: white;}#sk-container-id-1 div.sk-parallel-item:first-child::after {align-self: flex-end;width: 50%;}#sk-container-id-1 div.sk-parallel-item:last-child::after {align-self: flex-start;width: 50%;}#sk-container-id-1 div.sk-parallel-item:only-child::after {width: 0;}#sk-container-id-1 div.sk-dashed-wrapped {border: 1px dashed gray;margin: 0 0.4em 0.5em 0.4em;box-sizing: border-box;padding-bottom: 0.4em;background-color: white;}#sk-container-id-1 div.sk-label label {font-family: monospace;font-weight: bold;display: inline-block;line-height: 1.2em;}#sk-container-id-1 div.sk-label-container {text-align: center;}#sk-container-id-1 div.sk-container {/* jupyter's `normalize.less` sets `[hidden] { display: none; }` but bootstrap.min.css set `[hidden] { display: none !important; }` so we also need the `!important` here to be able to override the default hidden behavior on the sphinx rendered scikit-learn.org. See: https://github.com/scikit-learn/scikit-learn/issues/21755 */display: inline-block !important;position: relative;}#sk-container-id-1 div.sk-text-repr-fallback {display: none;}</style><div id=\"sk-container-id-1\" class=\"sk-top-container\"><div class=\"sk-text-repr-fallback\"><pre>XGBClassifier(base_score=None, booster=None, callbacks=None,\n",
       "              colsample_bylevel=None, colsample_bynode=None,\n",
       "              colsample_bytree=None, device=&#x27;cuda&#x27;, early_stopping_rounds=None,\n",
       "              enable_categorical=False, eval_metric=None, feature_types=None,\n",
       "              gamma=None, grow_policy=None, importance_type=None,\n",
       "              interaction_constraints=None, learning_rate=None, max_bin=None,\n",
       "              max_cat_threshold=None, max_cat_to_onehot=None,\n",
       "              max_delta_step=None, max_depth=10, max_leaves=None,\n",
       "              min_child_weight=None, missing=nan, monotone_constraints=None,\n",
       "              multi_strategy=None, n_estimators=500, n_jobs=None,\n",
       "              num_parallel_tree=None, random_state=None, ...)</pre><b>In a Jupyter environment, please rerun this cell to show the HTML representation or trust the notebook. <br />On GitHub, the HTML representation is unable to render, please try loading this page with nbviewer.org.</b></div><div class=\"sk-container\" hidden><div class=\"sk-item\"><div class=\"sk-estimator sk-toggleable\"><input class=\"sk-toggleable__control sk-hidden--visually\" id=\"sk-estimator-id-1\" type=\"checkbox\" checked><label for=\"sk-estimator-id-1\" class=\"sk-toggleable__label sk-toggleable__label-arrow\">XGBClassifier</label><div class=\"sk-toggleable__content\"><pre>XGBClassifier(base_score=None, booster=None, callbacks=None,\n",
       "              colsample_bylevel=None, colsample_bynode=None,\n",
       "              colsample_bytree=None, device=&#x27;cuda&#x27;, early_stopping_rounds=None,\n",
       "              enable_categorical=False, eval_metric=None, feature_types=None,\n",
       "              gamma=None, grow_policy=None, importance_type=None,\n",
       "              interaction_constraints=None, learning_rate=None, max_bin=None,\n",
       "              max_cat_threshold=None, max_cat_to_onehot=None,\n",
       "              max_delta_step=None, max_depth=10, max_leaves=None,\n",
       "              min_child_weight=None, missing=nan, monotone_constraints=None,\n",
       "              multi_strategy=None, n_estimators=500, n_jobs=None,\n",
       "              num_parallel_tree=None, random_state=None, ...)</pre></div></div></div></div></div>"
      ],
      "text/plain": [
       "XGBClassifier(base_score=None, booster=None, callbacks=None,\n",
       "              colsample_bylevel=None, colsample_bynode=None,\n",
       "              colsample_bytree=None, device='cuda', early_stopping_rounds=None,\n",
       "              enable_categorical=False, eval_metric=None, feature_types=None,\n",
       "              gamma=None, grow_policy=None, importance_type=None,\n",
       "              interaction_constraints=None, learning_rate=None, max_bin=None,\n",
       "              max_cat_threshold=None, max_cat_to_onehot=None,\n",
       "              max_delta_step=None, max_depth=10, max_leaves=None,\n",
       "              min_child_weight=None, missing=nan, monotone_constraints=None,\n",
       "              multi_strategy=None, n_estimators=500, n_jobs=None,\n",
       "              num_parallel_tree=None, random_state=None, ...)"
      ]
     },
     "execution_count": 35,
     "metadata": {},
     "output_type": "execute_result"
    }
   ],
   "source": [
    "model.fit(trn_indep,trn_dep)"
   ]
  },
  {
   "cell_type": "code",
   "execution_count": 36,
   "id": "294048e5",
   "metadata": {
    "execution": {
     "iopub.execute_input": "2025-08-30T03:46:06.527420Z",
     "iopub.status.busy": "2025-08-30T03:46:06.526702Z",
     "iopub.status.idle": "2025-08-30T03:46:06.684416Z",
     "shell.execute_reply": "2025-08-30T03:46:06.683638Z"
    },
    "papermill": {
     "duration": 0.173569,
     "end_time": "2025-08-30T03:46:06.685676",
     "exception": false,
     "start_time": "2025-08-30T03:46:06.512107",
     "status": "completed"
    },
    "tags": []
   },
   "outputs": [
    {
     "name": "stderr",
     "output_type": "stream",
     "text": [
      "/usr/local/lib/python3.11/dist-packages/xgboost/core.py:160: UserWarning: [03:46:06] WARNING: /workspace/src/common/error_msg.cc:58: Falling back to prediction using DMatrix due to mismatched devices. This might lead to higher memory usage and slower performance. XGBoost is running on: cuda:0, while the input data is on: cpu.\n",
      "Potential solutions:\n",
      "- Use a data structure that matches the device ordinal in the booster.\n",
      "- Set the device for booster before call to inplace_predict.\n",
      "\n",
      "This warning will only be shown once.\n",
      "\n",
      "  warnings.warn(smsg, UserWarning)\n"
     ]
    }
   ],
   "source": [
    "preds = model.predict(val_indep)"
   ]
  },
  {
   "cell_type": "code",
   "execution_count": 37,
   "id": "0fb8845c",
   "metadata": {
    "execution": {
     "iopub.execute_input": "2025-08-30T03:46:06.715367Z",
     "iopub.status.busy": "2025-08-30T03:46:06.715162Z",
     "iopub.status.idle": "2025-08-30T03:46:06.784963Z",
     "shell.execute_reply": "2025-08-30T03:46:06.784141Z"
    },
    "papermill": {
     "duration": 0.085684,
     "end_time": "2025-08-30T03:46:06.786258",
     "exception": false,
     "start_time": "2025-08-30T03:46:06.700574",
     "status": "completed"
    },
    "tags": []
   },
   "outputs": [
    {
     "data": {
      "text/plain": [
       "0.8210017035055391"
      ]
     },
     "execution_count": 37,
     "metadata": {},
     "output_type": "execute_result"
    }
   ],
   "source": [
    "from sklearn.metrics import roc_auc_score\n",
    "\n",
    "roc_auc_score(val_dep,preds)"
   ]
  },
  {
   "cell_type": "markdown",
   "id": "2b925e24",
   "metadata": {
    "papermill": {
     "duration": 0.014041,
     "end_time": "2025-08-30T03:46:06.815475",
     "exception": false,
     "start_time": "2025-08-30T03:46:06.801434",
     "status": "completed"
    },
    "tags": []
   },
   "source": [
    "## Submitting to Kaggle"
   ]
  },
  {
   "cell_type": "code",
   "execution_count": 38,
   "id": "eabedbe5",
   "metadata": {
    "execution": {
     "iopub.execute_input": "2025-08-30T03:46:06.845135Z",
     "iopub.status.busy": "2025-08-30T03:46:06.844882Z",
     "iopub.status.idle": "2025-08-30T03:46:07.421597Z",
     "shell.execute_reply": "2025-08-30T03:46:07.420825Z"
    },
    "papermill": {
     "duration": 0.593609,
     "end_time": "2025-08-30T03:46:07.422829",
     "exception": false,
     "start_time": "2025-08-30T03:46:06.829220",
     "status": "completed"
    },
    "tags": []
   },
   "outputs": [
    {
     "data": {
      "text/html": [
       "<div>\n",
       "<style scoped>\n",
       "    .dataframe tbody tr th:only-of-type {\n",
       "        vertical-align: middle;\n",
       "    }\n",
       "\n",
       "    .dataframe tbody tr th {\n",
       "        vertical-align: top;\n",
       "    }\n",
       "\n",
       "    .dataframe thead th {\n",
       "        text-align: right;\n",
       "    }\n",
       "</style>\n",
       "<table border=\"1\" class=\"dataframe\">\n",
       "  <thead>\n",
       "    <tr style=\"text-align: right;\">\n",
       "      <th></th>\n",
       "      <th>id</th>\n",
       "      <th>age</th>\n",
       "      <th>job</th>\n",
       "      <th>marital</th>\n",
       "      <th>education</th>\n",
       "      <th>default</th>\n",
       "      <th>balance</th>\n",
       "      <th>housing</th>\n",
       "      <th>loan</th>\n",
       "      <th>contact</th>\n",
       "      <th>day</th>\n",
       "      <th>month</th>\n",
       "      <th>duration</th>\n",
       "      <th>campaign</th>\n",
       "      <th>pdays</th>\n",
       "      <th>previous</th>\n",
       "      <th>poutcome</th>\n",
       "    </tr>\n",
       "  </thead>\n",
       "  <tbody>\n",
       "    <tr>\n",
       "      <th>0</th>\n",
       "      <td>750000</td>\n",
       "      <td>32</td>\n",
       "      <td>blue-collar</td>\n",
       "      <td>married</td>\n",
       "      <td>secondary</td>\n",
       "      <td>no</td>\n",
       "      <td>1397</td>\n",
       "      <td>yes</td>\n",
       "      <td>no</td>\n",
       "      <td>unknown</td>\n",
       "      <td>21</td>\n",
       "      <td>may</td>\n",
       "      <td>224</td>\n",
       "      <td>1</td>\n",
       "      <td>-1</td>\n",
       "      <td>0</td>\n",
       "      <td>unknown</td>\n",
       "    </tr>\n",
       "    <tr>\n",
       "      <th>1</th>\n",
       "      <td>750001</td>\n",
       "      <td>44</td>\n",
       "      <td>management</td>\n",
       "      <td>married</td>\n",
       "      <td>tertiary</td>\n",
       "      <td>no</td>\n",
       "      <td>23</td>\n",
       "      <td>yes</td>\n",
       "      <td>no</td>\n",
       "      <td>cellular</td>\n",
       "      <td>3</td>\n",
       "      <td>apr</td>\n",
       "      <td>586</td>\n",
       "      <td>2</td>\n",
       "      <td>-1</td>\n",
       "      <td>0</td>\n",
       "      <td>unknown</td>\n",
       "    </tr>\n",
       "    <tr>\n",
       "      <th>2</th>\n",
       "      <td>750002</td>\n",
       "      <td>36</td>\n",
       "      <td>self-employed</td>\n",
       "      <td>married</td>\n",
       "      <td>primary</td>\n",
       "      <td>no</td>\n",
       "      <td>46</td>\n",
       "      <td>yes</td>\n",
       "      <td>yes</td>\n",
       "      <td>cellular</td>\n",
       "      <td>13</td>\n",
       "      <td>may</td>\n",
       "      <td>111</td>\n",
       "      <td>2</td>\n",
       "      <td>-1</td>\n",
       "      <td>0</td>\n",
       "      <td>unknown</td>\n",
       "    </tr>\n",
       "    <tr>\n",
       "      <th>3</th>\n",
       "      <td>750003</td>\n",
       "      <td>58</td>\n",
       "      <td>blue-collar</td>\n",
       "      <td>married</td>\n",
       "      <td>secondary</td>\n",
       "      <td>no</td>\n",
       "      <td>-1380</td>\n",
       "      <td>yes</td>\n",
       "      <td>yes</td>\n",
       "      <td>unknown</td>\n",
       "      <td>29</td>\n",
       "      <td>may</td>\n",
       "      <td>125</td>\n",
       "      <td>1</td>\n",
       "      <td>-1</td>\n",
       "      <td>0</td>\n",
       "      <td>unknown</td>\n",
       "    </tr>\n",
       "    <tr>\n",
       "      <th>4</th>\n",
       "      <td>750004</td>\n",
       "      <td>28</td>\n",
       "      <td>technician</td>\n",
       "      <td>single</td>\n",
       "      <td>secondary</td>\n",
       "      <td>no</td>\n",
       "      <td>1950</td>\n",
       "      <td>yes</td>\n",
       "      <td>no</td>\n",
       "      <td>cellular</td>\n",
       "      <td>22</td>\n",
       "      <td>jul</td>\n",
       "      <td>181</td>\n",
       "      <td>1</td>\n",
       "      <td>-1</td>\n",
       "      <td>0</td>\n",
       "      <td>unknown</td>\n",
       "    </tr>\n",
       "    <tr>\n",
       "      <th>...</th>\n",
       "      <td>...</td>\n",
       "      <td>...</td>\n",
       "      <td>...</td>\n",
       "      <td>...</td>\n",
       "      <td>...</td>\n",
       "      <td>...</td>\n",
       "      <td>...</td>\n",
       "      <td>...</td>\n",
       "      <td>...</td>\n",
       "      <td>...</td>\n",
       "      <td>...</td>\n",
       "      <td>...</td>\n",
       "      <td>...</td>\n",
       "      <td>...</td>\n",
       "      <td>...</td>\n",
       "      <td>...</td>\n",
       "      <td>...</td>\n",
       "    </tr>\n",
       "    <tr>\n",
       "      <th>249995</th>\n",
       "      <td>999995</td>\n",
       "      <td>43</td>\n",
       "      <td>management</td>\n",
       "      <td>married</td>\n",
       "      <td>tertiary</td>\n",
       "      <td>no</td>\n",
       "      <td>0</td>\n",
       "      <td>yes</td>\n",
       "      <td>no</td>\n",
       "      <td>cellular</td>\n",
       "      <td>18</td>\n",
       "      <td>nov</td>\n",
       "      <td>65</td>\n",
       "      <td>2</td>\n",
       "      <td>-1</td>\n",
       "      <td>0</td>\n",
       "      <td>unknown</td>\n",
       "    </tr>\n",
       "    <tr>\n",
       "      <th>249996</th>\n",
       "      <td>999996</td>\n",
       "      <td>40</td>\n",
       "      <td>services</td>\n",
       "      <td>married</td>\n",
       "      <td>unknown</td>\n",
       "      <td>no</td>\n",
       "      <td>522</td>\n",
       "      <td>yes</td>\n",
       "      <td>no</td>\n",
       "      <td>cellular</td>\n",
       "      <td>19</td>\n",
       "      <td>nov</td>\n",
       "      <td>531</td>\n",
       "      <td>1</td>\n",
       "      <td>189</td>\n",
       "      <td>1</td>\n",
       "      <td>failure</td>\n",
       "    </tr>\n",
       "    <tr>\n",
       "      <th>249997</th>\n",
       "      <td>999997</td>\n",
       "      <td>63</td>\n",
       "      <td>retired</td>\n",
       "      <td>married</td>\n",
       "      <td>primary</td>\n",
       "      <td>no</td>\n",
       "      <td>33</td>\n",
       "      <td>no</td>\n",
       "      <td>no</td>\n",
       "      <td>cellular</td>\n",
       "      <td>3</td>\n",
       "      <td>jul</td>\n",
       "      <td>178</td>\n",
       "      <td>1</td>\n",
       "      <td>92</td>\n",
       "      <td>8</td>\n",
       "      <td>success</td>\n",
       "    </tr>\n",
       "    <tr>\n",
       "      <th>249998</th>\n",
       "      <td>999998</td>\n",
       "      <td>50</td>\n",
       "      <td>blue-collar</td>\n",
       "      <td>married</td>\n",
       "      <td>primary</td>\n",
       "      <td>no</td>\n",
       "      <td>2629</td>\n",
       "      <td>yes</td>\n",
       "      <td>no</td>\n",
       "      <td>unknown</td>\n",
       "      <td>30</td>\n",
       "      <td>may</td>\n",
       "      <td>163</td>\n",
       "      <td>2</td>\n",
       "      <td>-1</td>\n",
       "      <td>0</td>\n",
       "      <td>unknown</td>\n",
       "    </tr>\n",
       "    <tr>\n",
       "      <th>249999</th>\n",
       "      <td>999999</td>\n",
       "      <td>29</td>\n",
       "      <td>student</td>\n",
       "      <td>single</td>\n",
       "      <td>tertiary</td>\n",
       "      <td>no</td>\n",
       "      <td>722</td>\n",
       "      <td>no</td>\n",
       "      <td>no</td>\n",
       "      <td>cellular</td>\n",
       "      <td>6</td>\n",
       "      <td>apr</td>\n",
       "      <td>119</td>\n",
       "      <td>1</td>\n",
       "      <td>-1</td>\n",
       "      <td>0</td>\n",
       "      <td>unknown</td>\n",
       "    </tr>\n",
       "  </tbody>\n",
       "</table>\n",
       "<p>250000 rows × 17 columns</p>\n",
       "</div>"
      ],
      "text/plain": [
       "            id  age            job  marital  education default  balance  \\\n",
       "0       750000   32    blue-collar  married  secondary      no     1397   \n",
       "1       750001   44     management  married   tertiary      no       23   \n",
       "2       750002   36  self-employed  married    primary      no       46   \n",
       "3       750003   58    blue-collar  married  secondary      no    -1380   \n",
       "4       750004   28     technician   single  secondary      no     1950   \n",
       "...        ...  ...            ...      ...        ...     ...      ...   \n",
       "249995  999995   43     management  married   tertiary      no        0   \n",
       "249996  999996   40       services  married    unknown      no      522   \n",
       "249997  999997   63        retired  married    primary      no       33   \n",
       "249998  999998   50    blue-collar  married    primary      no     2629   \n",
       "249999  999999   29        student   single   tertiary      no      722   \n",
       "\n",
       "       housing loan   contact  day month  duration  campaign  pdays  previous  \\\n",
       "0          yes   no   unknown   21   may       224         1     -1         0   \n",
       "1          yes   no  cellular    3   apr       586         2     -1         0   \n",
       "2          yes  yes  cellular   13   may       111         2     -1         0   \n",
       "3          yes  yes   unknown   29   may       125         1     -1         0   \n",
       "4          yes   no  cellular   22   jul       181         1     -1         0   \n",
       "...        ...  ...       ...  ...   ...       ...       ...    ...       ...   \n",
       "249995     yes   no  cellular   18   nov        65         2     -1         0   \n",
       "249996     yes   no  cellular   19   nov       531         1    189         1   \n",
       "249997      no   no  cellular    3   jul       178         1     92         8   \n",
       "249998     yes   no   unknown   30   may       163         2     -1         0   \n",
       "249999      no   no  cellular    6   apr       119         1     -1         0   \n",
       "\n",
       "       poutcome  \n",
       "0       unknown  \n",
       "1       unknown  \n",
       "2       unknown  \n",
       "3       unknown  \n",
       "4       unknown  \n",
       "...         ...  \n",
       "249995  unknown  \n",
       "249996  failure  \n",
       "249997  success  \n",
       "249998  unknown  \n",
       "249999  unknown  \n",
       "\n",
       "[250000 rows x 17 columns]"
      ]
     },
     "execution_count": 38,
     "metadata": {},
     "output_type": "execute_result"
    }
   ],
   "source": [
    "tst_df = pd.read_csv(f'{path}/test.csv')\n",
    "tst_df"
   ]
  },
  {
   "cell_type": "code",
   "execution_count": 39,
   "id": "b4186bed",
   "metadata": {
    "execution": {
     "iopub.execute_input": "2025-08-30T03:46:07.453414Z",
     "iopub.status.busy": "2025-08-30T03:46:07.453188Z",
     "iopub.status.idle": "2025-08-30T03:46:07.553712Z",
     "shell.execute_reply": "2025-08-30T03:46:07.553006Z"
    },
    "papermill": {
     "duration": 0.116384,
     "end_time": "2025-08-30T03:46:07.554953",
     "exception": false,
     "start_time": "2025-08-30T03:46:07.438569",
     "status": "completed"
    },
    "tags": []
   },
   "outputs": [
    {
     "data": {
      "text/plain": [
       "id           0\n",
       "age          0\n",
       "job          0\n",
       "marital      0\n",
       "education    0\n",
       "default      0\n",
       "balance      0\n",
       "housing      0\n",
       "loan         0\n",
       "contact      0\n",
       "day          0\n",
       "month        0\n",
       "duration     0\n",
       "campaign     0\n",
       "pdays        0\n",
       "previous     0\n",
       "poutcome     0\n",
       "dtype: int64"
      ]
     },
     "execution_count": 39,
     "metadata": {},
     "output_type": "execute_result"
    }
   ],
   "source": [
    "tst_df.isna().sum()"
   ]
  },
  {
   "cell_type": "code",
   "execution_count": 40,
   "id": "86971685",
   "metadata": {
    "execution": {
     "iopub.execute_input": "2025-08-30T03:46:07.586606Z",
     "iopub.status.busy": "2025-08-30T03:46:07.586379Z",
     "iopub.status.idle": "2025-08-30T03:46:08.034397Z",
     "shell.execute_reply": "2025-08-30T03:46:08.033528Z"
    },
    "papermill": {
     "duration": 0.464582,
     "end_time": "2025-08-30T03:46:08.035827",
     "exception": false,
     "start_time": "2025-08-30T03:46:07.571245",
     "status": "completed"
    },
    "tags": []
   },
   "outputs": [],
   "source": [
    "data_proc(tst_df, convert_cat)"
   ]
  },
  {
   "cell_type": "code",
   "execution_count": 41,
   "id": "fa4c0506",
   "metadata": {
    "execution": {
     "iopub.execute_input": "2025-08-30T03:46:08.065321Z",
     "iopub.status.busy": "2025-08-30T03:46:08.065092Z",
     "iopub.status.idle": "2025-08-30T03:46:08.131480Z",
     "shell.execute_reply": "2025-08-30T03:46:08.130826Z"
    },
    "papermill": {
     "duration": 0.082259,
     "end_time": "2025-08-30T03:46:08.132790",
     "exception": false,
     "start_time": "2025-08-30T03:46:08.050531",
     "status": "completed"
    },
    "tags": []
   },
   "outputs": [],
   "source": [
    "tst_indep,_ = get_xs_y(tst_df)"
   ]
  },
  {
   "cell_type": "code",
   "execution_count": 42,
   "id": "cb56d414",
   "metadata": {
    "execution": {
     "iopub.execute_input": "2025-08-30T03:46:08.163666Z",
     "iopub.status.busy": "2025-08-30T03:46:08.163446Z",
     "iopub.status.idle": "2025-08-30T03:46:08.167550Z",
     "shell.execute_reply": "2025-08-30T03:46:08.166854Z"
    },
    "papermill": {
     "duration": 0.020705,
     "end_time": "2025-08-30T03:46:08.168702",
     "exception": false,
     "start_time": "2025-08-30T03:46:08.147997",
     "status": "completed"
    },
    "tags": []
   },
   "outputs": [],
   "source": [
    "# function to create the submission csv\n",
    "def subm(preds,suff):\n",
    "    probs = preds[:,1]\n",
    "    tst_df['y'] = probs\n",
    "    sub_df = tst_df[['id','y']]\n",
    "    sub_df.to_csv(f'sub_{suff}.csv', index=False)"
   ]
  },
  {
   "cell_type": "code",
   "execution_count": 43,
   "id": "7148ed32",
   "metadata": {
    "execution": {
     "iopub.execute_input": "2025-08-30T03:46:08.197914Z",
     "iopub.status.busy": "2025-08-30T03:46:08.197691Z",
     "iopub.status.idle": "2025-08-30T03:46:08.777150Z",
     "shell.execute_reply": "2025-08-30T03:46:08.776367Z"
    },
    "papermill": {
     "duration": 0.59569,
     "end_time": "2025-08-30T03:46:08.778547",
     "exception": false,
     "start_time": "2025-08-30T03:46:08.182857",
     "status": "completed"
    },
    "tags": []
   },
   "outputs": [],
   "source": [
    "subm(model.predict_proba(tst_indep), 'xgb4')"
   ]
  },
  {
   "cell_type": "code",
   "execution_count": 44,
   "id": "d09cece3",
   "metadata": {
    "execution": {
     "iopub.execute_input": "2025-08-30T03:46:08.808247Z",
     "iopub.status.busy": "2025-08-30T03:46:08.807996Z",
     "iopub.status.idle": "2025-08-30T03:46:08.944425Z",
     "shell.execute_reply": "2025-08-30T03:46:08.943647Z"
    },
    "papermill": {
     "duration": 0.152385,
     "end_time": "2025-08-30T03:46:08.945556",
     "exception": false,
     "start_time": "2025-08-30T03:46:08.793171",
     "status": "completed"
    },
    "tags": []
   },
   "outputs": [
    {
     "name": "stdout",
     "output_type": "stream",
     "text": [
      "id,y\r\n",
      "750000,0.0011383975\r\n",
      "750001,0.040519368\r\n",
      "750002,2.758238e-06\r\n",
      "750003,3.637404e-06\r\n",
      "750004,0.001167092\r\n",
      "750005,1.3533382e-05\r\n",
      "750006,0.8820784\r\n",
      "750007,0.1011343\r\n",
      "750008,0.004805306\r\n"
     ]
    }
   ],
   "source": [
    "!head sub_xgb4.csv"
   ]
  },
  {
   "cell_type": "code",
   "execution_count": null,
   "id": "6d563177",
   "metadata": {
    "papermill": {
     "duration": 0.014268,
     "end_time": "2025-08-30T03:46:08.974424",
     "exception": false,
     "start_time": "2025-08-30T03:46:08.960156",
     "status": "completed"
    },
    "tags": []
   },
   "outputs": [],
   "source": []
  }
 ],
 "metadata": {
  "kaggle": {
   "accelerator": "nvidiaTeslaT4",
   "dataSources": [
    {
     "databundleVersionId": 12937777,
     "sourceId": 91719,
     "sourceType": "competition"
    }
   ],
   "dockerImageVersionId": 31089,
   "isGpuEnabled": true,
   "isInternetEnabled": true,
   "language": "python",
   "sourceType": "notebook"
  },
  "kernelspec": {
   "display_name": "Python 3 (ipykernel)",
   "language": "python",
   "name": "python3"
  },
  "language_info": {
   "codemirror_mode": {
    "name": "ipython",
    "version": 3
   },
   "file_extension": ".py",
   "mimetype": "text/x-python",
   "name": "python",
   "nbconvert_exporter": "python",
   "pygments_lexer": "ipython3",
   "version": "3.11.4"
  },
  "papermill": {
   "default_parameters": {},
   "duration": 35.031903,
   "end_time": "2025-08-30T03:46:09.705913",
   "environment_variables": {},
   "exception": null,
   "input_path": "__notebook__.ipynb",
   "output_path": "__notebook__.ipynb",
   "parameters": {},
   "start_time": "2025-08-30T03:45:34.674010",
   "version": "2.6.0"
  }
 },
 "nbformat": 4,
 "nbformat_minor": 5
}
