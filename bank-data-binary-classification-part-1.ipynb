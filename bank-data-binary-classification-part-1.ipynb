{
 "cells": [
  {
   "cell_type": "markdown",
   "id": "b8289265",
   "metadata": {},
   "source": [
    "## Initial commit - Linear model\n",
    "\n",
    "Applying a linear model as a baseline to build on. "
   ]
  },
  {
   "cell_type": "code",
   "execution_count": 1,
   "id": "9c9fe2f1",
   "metadata": {},
   "outputs": [],
   "source": [
    "from fastkaggle import *"
   ]
  },
  {
   "cell_type": "code",
   "execution_count": 2,
   "id": "993be8cd",
   "metadata": {},
   "outputs": [
    {
     "name": "stdout",
     "output_type": "stream",
     "text": [
      "Warning: Your Kaggle API key is readable by other users on this system! To fix this, you can run 'chmod 600 /home/layaasiv/.config/kaggle/kaggle.json'\n",
      "Downloading playground-series-s5e8.zip to /home/layaasiv/professional-dev/bank-data-binary-classification\n"
     ]
    },
    {
     "name": "stderr",
     "output_type": "stream",
     "text": [
      "100%|███████████████████████████████████████████████████████████████████████████████| 14.7M/14.7M [00:00<00:00, 520MB/s]"
     ]
    },
    {
     "name": "stdout",
     "output_type": "stream",
     "text": [
      "\n"
     ]
    },
    {
     "name": "stderr",
     "output_type": "stream",
     "text": [
      "\n"
     ]
    }
   ],
   "source": [
    "comp = 'playground-series-s5e8'\n",
    "\n",
    "path = setup_comp(comp)"
   ]
  },
  {
   "cell_type": "code",
   "execution_count": 4,
   "id": "2c375ce9",
   "metadata": {
    "_cell_guid": "b1076dfc-b9ad-4769-8c92-a6c4dae69d19",
    "_uuid": "8f2839f25d086af736a60e9eeb907d3b93b6e0e5",
    "execution": {
     "iopub.execute_input": "2025-08-22T23:21:03.137932Z",
     "iopub.status.busy": "2025-08-22T23:21:03.137581Z",
     "iopub.status.idle": "2025-08-22T23:21:05.347214Z",
     "shell.execute_reply": "2025-08-22T23:21:05.345877Z"
    },
    "papermill": {
     "duration": 2.224926,
     "end_time": "2025-08-22T23:21:05.348931",
     "exception": false,
     "start_time": "2025-08-22T23:21:03.124005",
     "status": "completed"
    },
    "tags": []
   },
   "outputs": [
    {
     "name": "stdout",
     "output_type": "stream",
     "text": [
      "./playground-series-s5e8/test.csv\n",
      "./playground-series-s5e8/train.csv\n",
      "./playground-series-s5e8/sample_submission.csv\n"
     ]
    }
   ],
   "source": [
    "import numpy as np, pandas as pd, os\n",
    "for dirname, _, filenames in os.walk('./playground-series-s5e8'):\n",
    "    for filename in filenames:\n",
    "        print(os.path.join(dirname, filename))"
   ]
  },
  {
   "cell_type": "markdown",
   "id": "736ac71e",
   "metadata": {
    "papermill": {
     "duration": 0.012824,
     "end_time": "2025-08-22T23:21:05.374548",
     "exception": false,
     "start_time": "2025-08-22T23:21:05.361724",
     "status": "completed"
    },
    "tags": []
   },
   "source": [
    "## Looking at the data"
   ]
  },
  {
   "cell_type": "code",
   "execution_count": 6,
   "id": "34326972",
   "metadata": {
    "execution": {
     "iopub.execute_input": "2025-08-22T23:21:05.401040Z",
     "iopub.status.busy": "2025-08-22T23:21:05.400548Z",
     "iopub.status.idle": "2025-08-22T23:21:05.405679Z",
     "shell.execute_reply": "2025-08-22T23:21:05.404501Z"
    },
    "papermill": {
     "duration": 0.020349,
     "end_time": "2025-08-22T23:21:05.407563",
     "exception": false,
     "start_time": "2025-08-22T23:21:05.387214",
     "status": "completed"
    },
    "tags": []
   },
   "outputs": [],
   "source": [
    "import matplotlib.pyplot as plt"
   ]
  },
  {
   "cell_type": "code",
   "execution_count": 7,
   "id": "4032e621",
   "metadata": {
    "execution": {
     "iopub.execute_input": "2025-08-22T23:21:05.433684Z",
     "iopub.status.busy": "2025-08-22T23:21:05.433288Z",
     "iopub.status.idle": "2025-08-22T23:21:08.357149Z",
     "shell.execute_reply": "2025-08-22T23:21:08.356044Z"
    },
    "papermill": {
     "duration": 2.9395,
     "end_time": "2025-08-22T23:21:08.358718",
     "exception": false,
     "start_time": "2025-08-22T23:21:05.419218",
     "status": "completed"
    },
    "tags": []
   },
   "outputs": [
    {
     "data": {
      "text/html": [
       "<div>\n",
       "<style scoped>\n",
       "    .dataframe tbody tr th:only-of-type {\n",
       "        vertical-align: middle;\n",
       "    }\n",
       "\n",
       "    .dataframe tbody tr th {\n",
       "        vertical-align: top;\n",
       "    }\n",
       "\n",
       "    .dataframe thead th {\n",
       "        text-align: right;\n",
       "    }\n",
       "</style>\n",
       "<table border=\"1\" class=\"dataframe\">\n",
       "  <thead>\n",
       "    <tr style=\"text-align: right;\">\n",
       "      <th></th>\n",
       "      <th>id</th>\n",
       "      <th>age</th>\n",
       "      <th>job</th>\n",
       "      <th>marital</th>\n",
       "      <th>education</th>\n",
       "      <th>default</th>\n",
       "      <th>balance</th>\n",
       "      <th>housing</th>\n",
       "      <th>loan</th>\n",
       "      <th>contact</th>\n",
       "      <th>day</th>\n",
       "      <th>month</th>\n",
       "      <th>duration</th>\n",
       "      <th>campaign</th>\n",
       "      <th>pdays</th>\n",
       "      <th>previous</th>\n",
       "      <th>poutcome</th>\n",
       "      <th>y</th>\n",
       "    </tr>\n",
       "  </thead>\n",
       "  <tbody>\n",
       "    <tr>\n",
       "      <th>0</th>\n",
       "      <td>0</td>\n",
       "      <td>42</td>\n",
       "      <td>technician</td>\n",
       "      <td>married</td>\n",
       "      <td>secondary</td>\n",
       "      <td>no</td>\n",
       "      <td>7</td>\n",
       "      <td>no</td>\n",
       "      <td>no</td>\n",
       "      <td>cellular</td>\n",
       "      <td>25</td>\n",
       "      <td>aug</td>\n",
       "      <td>117</td>\n",
       "      <td>3</td>\n",
       "      <td>-1</td>\n",
       "      <td>0</td>\n",
       "      <td>unknown</td>\n",
       "      <td>0</td>\n",
       "    </tr>\n",
       "    <tr>\n",
       "      <th>1</th>\n",
       "      <td>1</td>\n",
       "      <td>38</td>\n",
       "      <td>blue-collar</td>\n",
       "      <td>married</td>\n",
       "      <td>secondary</td>\n",
       "      <td>no</td>\n",
       "      <td>514</td>\n",
       "      <td>no</td>\n",
       "      <td>no</td>\n",
       "      <td>unknown</td>\n",
       "      <td>18</td>\n",
       "      <td>jun</td>\n",
       "      <td>185</td>\n",
       "      <td>1</td>\n",
       "      <td>-1</td>\n",
       "      <td>0</td>\n",
       "      <td>unknown</td>\n",
       "      <td>0</td>\n",
       "    </tr>\n",
       "    <tr>\n",
       "      <th>2</th>\n",
       "      <td>2</td>\n",
       "      <td>36</td>\n",
       "      <td>blue-collar</td>\n",
       "      <td>married</td>\n",
       "      <td>secondary</td>\n",
       "      <td>no</td>\n",
       "      <td>602</td>\n",
       "      <td>yes</td>\n",
       "      <td>no</td>\n",
       "      <td>unknown</td>\n",
       "      <td>14</td>\n",
       "      <td>may</td>\n",
       "      <td>111</td>\n",
       "      <td>2</td>\n",
       "      <td>-1</td>\n",
       "      <td>0</td>\n",
       "      <td>unknown</td>\n",
       "      <td>0</td>\n",
       "    </tr>\n",
       "    <tr>\n",
       "      <th>3</th>\n",
       "      <td>3</td>\n",
       "      <td>27</td>\n",
       "      <td>student</td>\n",
       "      <td>single</td>\n",
       "      <td>secondary</td>\n",
       "      <td>no</td>\n",
       "      <td>34</td>\n",
       "      <td>yes</td>\n",
       "      <td>no</td>\n",
       "      <td>unknown</td>\n",
       "      <td>28</td>\n",
       "      <td>may</td>\n",
       "      <td>10</td>\n",
       "      <td>2</td>\n",
       "      <td>-1</td>\n",
       "      <td>0</td>\n",
       "      <td>unknown</td>\n",
       "      <td>0</td>\n",
       "    </tr>\n",
       "    <tr>\n",
       "      <th>4</th>\n",
       "      <td>4</td>\n",
       "      <td>26</td>\n",
       "      <td>technician</td>\n",
       "      <td>married</td>\n",
       "      <td>secondary</td>\n",
       "      <td>no</td>\n",
       "      <td>889</td>\n",
       "      <td>yes</td>\n",
       "      <td>no</td>\n",
       "      <td>cellular</td>\n",
       "      <td>3</td>\n",
       "      <td>feb</td>\n",
       "      <td>902</td>\n",
       "      <td>1</td>\n",
       "      <td>-1</td>\n",
       "      <td>0</td>\n",
       "      <td>unknown</td>\n",
       "      <td>1</td>\n",
       "    </tr>\n",
       "    <tr>\n",
       "      <th>...</th>\n",
       "      <td>...</td>\n",
       "      <td>...</td>\n",
       "      <td>...</td>\n",
       "      <td>...</td>\n",
       "      <td>...</td>\n",
       "      <td>...</td>\n",
       "      <td>...</td>\n",
       "      <td>...</td>\n",
       "      <td>...</td>\n",
       "      <td>...</td>\n",
       "      <td>...</td>\n",
       "      <td>...</td>\n",
       "      <td>...</td>\n",
       "      <td>...</td>\n",
       "      <td>...</td>\n",
       "      <td>...</td>\n",
       "      <td>...</td>\n",
       "      <td>...</td>\n",
       "    </tr>\n",
       "    <tr>\n",
       "      <th>749995</th>\n",
       "      <td>749995</td>\n",
       "      <td>29</td>\n",
       "      <td>services</td>\n",
       "      <td>single</td>\n",
       "      <td>secondary</td>\n",
       "      <td>no</td>\n",
       "      <td>1282</td>\n",
       "      <td>no</td>\n",
       "      <td>yes</td>\n",
       "      <td>unknown</td>\n",
       "      <td>4</td>\n",
       "      <td>jul</td>\n",
       "      <td>1006</td>\n",
       "      <td>2</td>\n",
       "      <td>-1</td>\n",
       "      <td>0</td>\n",
       "      <td>unknown</td>\n",
       "      <td>1</td>\n",
       "    </tr>\n",
       "    <tr>\n",
       "      <th>749996</th>\n",
       "      <td>749996</td>\n",
       "      <td>69</td>\n",
       "      <td>retired</td>\n",
       "      <td>divorced</td>\n",
       "      <td>tertiary</td>\n",
       "      <td>no</td>\n",
       "      <td>631</td>\n",
       "      <td>no</td>\n",
       "      <td>no</td>\n",
       "      <td>cellular</td>\n",
       "      <td>19</td>\n",
       "      <td>aug</td>\n",
       "      <td>87</td>\n",
       "      <td>1</td>\n",
       "      <td>-1</td>\n",
       "      <td>0</td>\n",
       "      <td>unknown</td>\n",
       "      <td>0</td>\n",
       "    </tr>\n",
       "    <tr>\n",
       "      <th>749997</th>\n",
       "      <td>749997</td>\n",
       "      <td>50</td>\n",
       "      <td>blue-collar</td>\n",
       "      <td>married</td>\n",
       "      <td>secondary</td>\n",
       "      <td>no</td>\n",
       "      <td>217</td>\n",
       "      <td>yes</td>\n",
       "      <td>no</td>\n",
       "      <td>cellular</td>\n",
       "      <td>17</td>\n",
       "      <td>apr</td>\n",
       "      <td>113</td>\n",
       "      <td>1</td>\n",
       "      <td>-1</td>\n",
       "      <td>0</td>\n",
       "      <td>unknown</td>\n",
       "      <td>0</td>\n",
       "    </tr>\n",
       "    <tr>\n",
       "      <th>749998</th>\n",
       "      <td>749998</td>\n",
       "      <td>32</td>\n",
       "      <td>technician</td>\n",
       "      <td>married</td>\n",
       "      <td>secondary</td>\n",
       "      <td>no</td>\n",
       "      <td>-274</td>\n",
       "      <td>no</td>\n",
       "      <td>no</td>\n",
       "      <td>cellular</td>\n",
       "      <td>26</td>\n",
       "      <td>aug</td>\n",
       "      <td>108</td>\n",
       "      <td>6</td>\n",
       "      <td>-1</td>\n",
       "      <td>0</td>\n",
       "      <td>unknown</td>\n",
       "      <td>0</td>\n",
       "    </tr>\n",
       "    <tr>\n",
       "      <th>749999</th>\n",
       "      <td>749999</td>\n",
       "      <td>42</td>\n",
       "      <td>technician</td>\n",
       "      <td>married</td>\n",
       "      <td>secondary</td>\n",
       "      <td>no</td>\n",
       "      <td>1559</td>\n",
       "      <td>no</td>\n",
       "      <td>no</td>\n",
       "      <td>cellular</td>\n",
       "      <td>4</td>\n",
       "      <td>aug</td>\n",
       "      <td>143</td>\n",
       "      <td>1</td>\n",
       "      <td>1</td>\n",
       "      <td>7</td>\n",
       "      <td>failure</td>\n",
       "      <td>0</td>\n",
       "    </tr>\n",
       "  </tbody>\n",
       "</table>\n",
       "<p>750000 rows × 18 columns</p>\n",
       "</div>"
      ],
      "text/plain": [
       "            id  age          job   marital  education default  balance  \\\n",
       "0            0   42   technician   married  secondary      no        7   \n",
       "1            1   38  blue-collar   married  secondary      no      514   \n",
       "2            2   36  blue-collar   married  secondary      no      602   \n",
       "3            3   27      student    single  secondary      no       34   \n",
       "4            4   26   technician   married  secondary      no      889   \n",
       "...        ...  ...          ...       ...        ...     ...      ...   \n",
       "749995  749995   29     services    single  secondary      no     1282   \n",
       "749996  749996   69      retired  divorced   tertiary      no      631   \n",
       "749997  749997   50  blue-collar   married  secondary      no      217   \n",
       "749998  749998   32   technician   married  secondary      no     -274   \n",
       "749999  749999   42   technician   married  secondary      no     1559   \n",
       "\n",
       "       housing loan   contact  day month  duration  campaign  pdays  previous  \\\n",
       "0           no   no  cellular   25   aug       117         3     -1         0   \n",
       "1           no   no   unknown   18   jun       185         1     -1         0   \n",
       "2          yes   no   unknown   14   may       111         2     -1         0   \n",
       "3          yes   no   unknown   28   may        10         2     -1         0   \n",
       "4          yes   no  cellular    3   feb       902         1     -1         0   \n",
       "...        ...  ...       ...  ...   ...       ...       ...    ...       ...   \n",
       "749995      no  yes   unknown    4   jul      1006         2     -1         0   \n",
       "749996      no   no  cellular   19   aug        87         1     -1         0   \n",
       "749997     yes   no  cellular   17   apr       113         1     -1         0   \n",
       "749998      no   no  cellular   26   aug       108         6     -1         0   \n",
       "749999      no   no  cellular    4   aug       143         1      1         7   \n",
       "\n",
       "       poutcome  y  \n",
       "0       unknown  0  \n",
       "1       unknown  0  \n",
       "2       unknown  0  \n",
       "3       unknown  0  \n",
       "4       unknown  1  \n",
       "...         ... ..  \n",
       "749995  unknown  1  \n",
       "749996  unknown  0  \n",
       "749997  unknown  0  \n",
       "749998  unknown  0  \n",
       "749999  failure  0  \n",
       "\n",
       "[750000 rows x 18 columns]"
      ]
     },
     "execution_count": 7,
     "metadata": {},
     "output_type": "execute_result"
    }
   ],
   "source": [
    "df = pd.read_csv(f'{path}/train.csv')\n",
    "df"
   ]
  },
  {
   "cell_type": "code",
   "execution_count": 4,
   "id": "206b8f3c",
   "metadata": {
    "execution": {
     "iopub.execute_input": "2025-08-22T23:21:08.385323Z",
     "iopub.status.busy": "2025-08-22T23:21:08.384978Z",
     "iopub.status.idle": "2025-08-22T23:21:08.736571Z",
     "shell.execute_reply": "2025-08-22T23:21:08.735695Z"
    },
    "papermill": {
     "duration": 0.36713,
     "end_time": "2025-08-22T23:21:08.738045",
     "exception": false,
     "start_time": "2025-08-22T23:21:08.370915",
     "status": "completed"
    },
    "tags": []
   },
   "outputs": [
    {
     "data": {
      "text/plain": [
       "id           0\n",
       "age          0\n",
       "job          0\n",
       "marital      0\n",
       "education    0\n",
       "default      0\n",
       "balance      0\n",
       "housing      0\n",
       "loan         0\n",
       "contact      0\n",
       "day          0\n",
       "month        0\n",
       "duration     0\n",
       "campaign     0\n",
       "pdays        0\n",
       "previous     0\n",
       "poutcome     0\n",
       "y            0\n",
       "dtype: int64"
      ]
     },
     "execution_count": 4,
     "metadata": {},
     "output_type": "execute_result"
    }
   ],
   "source": [
    "df.isna().sum()"
   ]
  },
  {
   "cell_type": "markdown",
   "id": "6d4b3b24",
   "metadata": {
    "papermill": {
     "duration": 0.011514,
     "end_time": "2025-08-22T23:21:08.761389",
     "exception": false,
     "start_time": "2025-08-22T23:21:08.749875",
     "status": "completed"
    },
    "tags": []
   },
   "source": [
    "There are no missing values (at least no NaNs)."
   ]
  },
  {
   "cell_type": "markdown",
   "id": "d2ef8cac",
   "metadata": {
    "papermill": {
     "duration": 0.011585,
     "end_time": "2025-08-22T23:21:08.784598",
     "exception": false,
     "start_time": "2025-08-22T23:21:08.773013",
     "status": "completed"
    },
    "tags": []
   },
   "source": [
    "## Continuous variables"
   ]
  },
  {
   "cell_type": "code",
   "execution_count": 5,
   "id": "b59e186e",
   "metadata": {
    "execution": {
     "iopub.execute_input": "2025-08-22T23:21:08.809432Z",
     "iopub.status.busy": "2025-08-22T23:21:08.809079Z",
     "iopub.status.idle": "2025-08-22T23:21:09.036188Z",
     "shell.execute_reply": "2025-08-22T23:21:09.035127Z"
    },
    "papermill": {
     "duration": 0.241731,
     "end_time": "2025-08-22T23:21:09.038003",
     "exception": false,
     "start_time": "2025-08-22T23:21:08.796272",
     "status": "completed"
    },
    "tags": []
   },
   "outputs": [
    {
     "data": {
      "text/html": [
       "<div>\n",
       "<style scoped>\n",
       "    .dataframe tbody tr th:only-of-type {\n",
       "        vertical-align: middle;\n",
       "    }\n",
       "\n",
       "    .dataframe tbody tr th {\n",
       "        vertical-align: top;\n",
       "    }\n",
       "\n",
       "    .dataframe thead th {\n",
       "        text-align: right;\n",
       "    }\n",
       "</style>\n",
       "<table border=\"1\" class=\"dataframe\">\n",
       "  <thead>\n",
       "    <tr style=\"text-align: right;\">\n",
       "      <th></th>\n",
       "      <th>id</th>\n",
       "      <th>age</th>\n",
       "      <th>balance</th>\n",
       "      <th>day</th>\n",
       "      <th>duration</th>\n",
       "      <th>campaign</th>\n",
       "      <th>pdays</th>\n",
       "      <th>previous</th>\n",
       "      <th>y</th>\n",
       "    </tr>\n",
       "  </thead>\n",
       "  <tbody>\n",
       "    <tr>\n",
       "      <th>count</th>\n",
       "      <td>750000.000000</td>\n",
       "      <td>750000.000000</td>\n",
       "      <td>750000.000000</td>\n",
       "      <td>750000.000000</td>\n",
       "      <td>750000.000000</td>\n",
       "      <td>750000.000000</td>\n",
       "      <td>750000.000000</td>\n",
       "      <td>750000.000000</td>\n",
       "      <td>750000.000000</td>\n",
       "    </tr>\n",
       "    <tr>\n",
       "      <th>mean</th>\n",
       "      <td>374999.500000</td>\n",
       "      <td>40.926395</td>\n",
       "      <td>1204.067397</td>\n",
       "      <td>16.117209</td>\n",
       "      <td>256.229144</td>\n",
       "      <td>2.577008</td>\n",
       "      <td>22.412733</td>\n",
       "      <td>0.298545</td>\n",
       "      <td>0.120651</td>\n",
       "    </tr>\n",
       "    <tr>\n",
       "      <th>std</th>\n",
       "      <td>216506.495284</td>\n",
       "      <td>10.098829</td>\n",
       "      <td>2836.096759</td>\n",
       "      <td>8.250832</td>\n",
       "      <td>272.555662</td>\n",
       "      <td>2.718514</td>\n",
       "      <td>77.319998</td>\n",
       "      <td>1.335926</td>\n",
       "      <td>0.325721</td>\n",
       "    </tr>\n",
       "    <tr>\n",
       "      <th>min</th>\n",
       "      <td>0.000000</td>\n",
       "      <td>18.000000</td>\n",
       "      <td>-8019.000000</td>\n",
       "      <td>1.000000</td>\n",
       "      <td>1.000000</td>\n",
       "      <td>1.000000</td>\n",
       "      <td>-1.000000</td>\n",
       "      <td>0.000000</td>\n",
       "      <td>0.000000</td>\n",
       "    </tr>\n",
       "    <tr>\n",
       "      <th>25%</th>\n",
       "      <td>187499.750000</td>\n",
       "      <td>33.000000</td>\n",
       "      <td>0.000000</td>\n",
       "      <td>9.000000</td>\n",
       "      <td>91.000000</td>\n",
       "      <td>1.000000</td>\n",
       "      <td>-1.000000</td>\n",
       "      <td>0.000000</td>\n",
       "      <td>0.000000</td>\n",
       "    </tr>\n",
       "    <tr>\n",
       "      <th>50%</th>\n",
       "      <td>374999.500000</td>\n",
       "      <td>39.000000</td>\n",
       "      <td>634.000000</td>\n",
       "      <td>17.000000</td>\n",
       "      <td>133.000000</td>\n",
       "      <td>2.000000</td>\n",
       "      <td>-1.000000</td>\n",
       "      <td>0.000000</td>\n",
       "      <td>0.000000</td>\n",
       "    </tr>\n",
       "    <tr>\n",
       "      <th>75%</th>\n",
       "      <td>562499.250000</td>\n",
       "      <td>48.000000</td>\n",
       "      <td>1390.000000</td>\n",
       "      <td>21.000000</td>\n",
       "      <td>361.000000</td>\n",
       "      <td>3.000000</td>\n",
       "      <td>-1.000000</td>\n",
       "      <td>0.000000</td>\n",
       "      <td>0.000000</td>\n",
       "    </tr>\n",
       "    <tr>\n",
       "      <th>max</th>\n",
       "      <td>749999.000000</td>\n",
       "      <td>95.000000</td>\n",
       "      <td>99717.000000</td>\n",
       "      <td>31.000000</td>\n",
       "      <td>4918.000000</td>\n",
       "      <td>63.000000</td>\n",
       "      <td>871.000000</td>\n",
       "      <td>200.000000</td>\n",
       "      <td>1.000000</td>\n",
       "    </tr>\n",
       "  </tbody>\n",
       "</table>\n",
       "</div>"
      ],
      "text/plain": [
       "                  id            age        balance            day  \\\n",
       "count  750000.000000  750000.000000  750000.000000  750000.000000   \n",
       "mean   374999.500000      40.926395    1204.067397      16.117209   \n",
       "std    216506.495284      10.098829    2836.096759       8.250832   \n",
       "min         0.000000      18.000000   -8019.000000       1.000000   \n",
       "25%    187499.750000      33.000000       0.000000       9.000000   \n",
       "50%    374999.500000      39.000000     634.000000      17.000000   \n",
       "75%    562499.250000      48.000000    1390.000000      21.000000   \n",
       "max    749999.000000      95.000000   99717.000000      31.000000   \n",
       "\n",
       "            duration       campaign          pdays       previous  \\\n",
       "count  750000.000000  750000.000000  750000.000000  750000.000000   \n",
       "mean      256.229144       2.577008      22.412733       0.298545   \n",
       "std       272.555662       2.718514      77.319998       1.335926   \n",
       "min         1.000000       1.000000      -1.000000       0.000000   \n",
       "25%        91.000000       1.000000      -1.000000       0.000000   \n",
       "50%       133.000000       2.000000      -1.000000       0.000000   \n",
       "75%       361.000000       3.000000      -1.000000       0.000000   \n",
       "max      4918.000000      63.000000     871.000000     200.000000   \n",
       "\n",
       "                   y  \n",
       "count  750000.000000  \n",
       "mean        0.120651  \n",
       "std         0.325721  \n",
       "min         0.000000  \n",
       "25%         0.000000  \n",
       "50%         0.000000  \n",
       "75%         0.000000  \n",
       "max         1.000000  "
      ]
     },
     "execution_count": 5,
     "metadata": {},
     "output_type": "execute_result"
    }
   ],
   "source": [
    "df.describe(include=(np.number))"
   ]
  },
  {
   "cell_type": "code",
   "execution_count": 6,
   "id": "97e6d1ba",
   "metadata": {
    "execution": {
     "iopub.execute_input": "2025-08-22T23:21:09.064213Z",
     "iopub.status.busy": "2025-08-22T23:21:09.063853Z",
     "iopub.status.idle": "2025-08-22T23:21:09.077068Z",
     "shell.execute_reply": "2025-08-22T23:21:09.076144Z"
    },
    "papermill": {
     "duration": 0.02776,
     "end_time": "2025-08-22T23:21:09.078659",
     "exception": false,
     "start_time": "2025-08-22T23:21:09.050899",
     "status": "completed"
    },
    "tags": []
   },
   "outputs": [
    {
     "data": {
      "text/plain": [
       "array([0, 1])"
      ]
     },
     "execution_count": 6,
     "metadata": {},
     "output_type": "execute_result"
    }
   ],
   "source": [
    "df.y.unique()"
   ]
  },
  {
   "cell_type": "markdown",
   "id": "e807f5f7",
   "metadata": {
    "papermill": {
     "duration": 0.011692,
     "end_time": "2025-08-22T23:21:09.102357",
     "exception": false,
     "start_time": "2025-08-22T23:21:09.090665",
     "status": "completed"
    },
    "tags": []
   },
   "source": [
    "```id``` is a unique value for each row/sample, so don't have to take that into consideration. ```y``` is the dependent variable."
   ]
  },
  {
   "cell_type": "code",
   "execution_count": 7,
   "id": "3a5cd1db",
   "metadata": {
    "execution": {
     "iopub.execute_input": "2025-08-22T23:21:09.127673Z",
     "iopub.status.busy": "2025-08-22T23:21:09.127339Z",
     "iopub.status.idle": "2025-08-22T23:21:10.772928Z",
     "shell.execute_reply": "2025-08-22T23:21:10.771763Z"
    },
    "papermill": {
     "duration": 1.661377,
     "end_time": "2025-08-22T23:21:10.775589",
     "exception": false,
     "start_time": "2025-08-22T23:21:09.114212",
     "status": "completed"
    },
    "tags": []
   },
   "outputs": [
    {
     "data": {
      "image/png": "[encoded data removed]",
      "text/plain": [
       "<Figure size 1200x1000 with 9 Axes>"
      ]
     },
     "metadata": {},
     "output_type": "display_data"
    }
   ],
   "source": [
    "df_to_plot = df.select_dtypes(include='number').drop(columns=['id', 'y'])\n",
    "\n",
    "df_to_plot.hist(figsize=(12,10));\n",
    "plt.tight_layout()\n",
    "plt.show()"
   ]
  },
  {
   "cell_type": "markdown",
   "id": "37a0b1f6",
   "metadata": {
    "papermill": {
     "duration": 0.013382,
     "end_time": "2025-08-22T23:21:10.803520",
     "exception": false,
     "start_time": "2025-08-22T23:21:10.790138",
     "status": "completed"
    },
    "tags": []
   },
   "source": [
    "```balance```, ```duration```, ```campaign```, ```pdays``` and ```previous``` are all long-tailed distributions. Will apply log transformation to these variables."
   ]
  },
  {
   "cell_type": "code",
   "execution_count": 8,
   "id": "284440ad",
   "metadata": {
    "execution": {
     "iopub.execute_input": "2025-08-22T23:21:10.903069Z",
     "iopub.status.busy": "2025-08-22T23:21:10.902747Z",
     "iopub.status.idle": "2025-08-22T23:21:11.139084Z",
     "shell.execute_reply": "2025-08-22T23:21:11.137894Z"
    },
    "papermill": {
     "duration": 0.253224,
     "end_time": "2025-08-22T23:21:11.140820",
     "exception": false,
     "start_time": "2025-08-22T23:21:10.887596",
     "status": "completed"
    },
    "tags": []
   },
   "outputs": [
    {
     "data": {
      "text/plain": [
       "<Axes: >"
      ]
     },
     "execution_count": 8,
     "metadata": {},
     "output_type": "execute_result"
    },
    {
     "data": {
      "image/png": "[encoded data removed]",
      "text/plain": [
       "<Figure size 640x480 with 1 Axes>"
      ]
     },
     "metadata": {},
     "output_type": "display_data"
    }
   ],
   "source": [
    "df_to_plot['balance'] = np.sign(df_to_plot['balance']) * np.log1p(np.abs(df_to_plot['balance']))\n",
    "df_to_plot['balance'].hist()"
   ]
  },
  {
   "cell_type": "code",
   "execution_count": 9,
   "id": "8e5afd78",
   "metadata": {
    "execution": {
     "iopub.execute_input": "2025-08-22T23:21:11.172270Z",
     "iopub.status.busy": "2025-08-22T23:21:11.171218Z",
     "iopub.status.idle": "2025-08-22T23:21:11.403246Z",
     "shell.execute_reply": "2025-08-22T23:21:11.402306Z"
    },
    "papermill": {
     "duration": 0.24992,
     "end_time": "2025-08-22T23:21:11.405208",
     "exception": false,
     "start_time": "2025-08-22T23:21:11.155288",
     "status": "completed"
    },
    "tags": []
   },
   "outputs": [
    {
     "data": {
      "text/plain": [
       "<Axes: >"
      ]
     },
     "execution_count": 9,
     "metadata": {},
     "output_type": "execute_result"
    },
    {
     "data": {
      "image/png": "[encoded data removed]",
      "text/plain": [
       "<Figure size 640x480 with 1 Axes>"
      ]
     },
     "metadata": {},
     "output_type": "display_data"
    }
   ],
   "source": [
    "df_to_plot['pdays'] = np.sign(df_to_plot['pdays']) * np.log1p(np.abs(df_to_plot['pdays']))\n",
    "df_to_plot['pdays'].hist()"
   ]
  },
  {
   "cell_type": "code",
   "execution_count": 10,
   "id": "41dbe559",
   "metadata": {
    "execution": {
     "iopub.execute_input": "2025-08-22T23:21:11.436631Z",
     "iopub.status.busy": "2025-08-22T23:21:11.436270Z",
     "iopub.status.idle": "2025-08-22T23:21:11.462520Z",
     "shell.execute_reply": "2025-08-22T23:21:11.461514Z"
    },
    "papermill": {
     "duration": 0.043339,
     "end_time": "2025-08-22T23:21:11.464071",
     "exception": false,
     "start_time": "2025-08-22T23:21:11.420732",
     "status": "completed"
    },
    "tags": []
   },
   "outputs": [
    {
     "data": {
      "text/html": [
       "<div>\n",
       "<style scoped>\n",
       "    .dataframe tbody tr th:only-of-type {\n",
       "        vertical-align: middle;\n",
       "    }\n",
       "\n",
       "    .dataframe tbody tr th {\n",
       "        vertical-align: top;\n",
       "    }\n",
       "\n",
       "    .dataframe thead th {\n",
       "        text-align: right;\n",
       "    }\n",
       "</style>\n",
       "<table border=\"1\" class=\"dataframe\">\n",
       "  <thead>\n",
       "    <tr style=\"text-align: right;\">\n",
       "      <th></th>\n",
       "      <th>age</th>\n",
       "      <th>balance</th>\n",
       "      <th>day</th>\n",
       "      <th>duration</th>\n",
       "      <th>campaign</th>\n",
       "      <th>pdays</th>\n",
       "      <th>previous</th>\n",
       "    </tr>\n",
       "  </thead>\n",
       "  <tbody>\n",
       "    <tr>\n",
       "      <th>0</th>\n",
       "      <td>42</td>\n",
       "      <td>2.079442</td>\n",
       "      <td>25</td>\n",
       "      <td>4.770685</td>\n",
       "      <td>1.386294</td>\n",
       "      <td>-0.693147</td>\n",
       "      <td>0.0</td>\n",
       "    </tr>\n",
       "    <tr>\n",
       "      <th>1</th>\n",
       "      <td>38</td>\n",
       "      <td>6.244167</td>\n",
       "      <td>18</td>\n",
       "      <td>5.225747</td>\n",
       "      <td>0.693147</td>\n",
       "      <td>-0.693147</td>\n",
       "      <td>0.0</td>\n",
       "    </tr>\n",
       "    <tr>\n",
       "      <th>2</th>\n",
       "      <td>36</td>\n",
       "      <td>6.401917</td>\n",
       "      <td>14</td>\n",
       "      <td>4.718499</td>\n",
       "      <td>1.098612</td>\n",
       "      <td>-0.693147</td>\n",
       "      <td>0.0</td>\n",
       "    </tr>\n",
       "    <tr>\n",
       "      <th>3</th>\n",
       "      <td>27</td>\n",
       "      <td>3.555348</td>\n",
       "      <td>28</td>\n",
       "      <td>2.397895</td>\n",
       "      <td>1.098612</td>\n",
       "      <td>-0.693147</td>\n",
       "      <td>0.0</td>\n",
       "    </tr>\n",
       "    <tr>\n",
       "      <th>4</th>\n",
       "      <td>26</td>\n",
       "      <td>6.791221</td>\n",
       "      <td>3</td>\n",
       "      <td>6.805723</td>\n",
       "      <td>0.693147</td>\n",
       "      <td>-0.693147</td>\n",
       "      <td>0.0</td>\n",
       "    </tr>\n",
       "  </tbody>\n",
       "</table>\n",
       "</div>"
      ],
      "text/plain": [
       "   age   balance  day  duration  campaign     pdays  previous\n",
       "0   42  2.079442   25  4.770685  1.386294 -0.693147       0.0\n",
       "1   38  6.244167   18  5.225747  0.693147 -0.693147       0.0\n",
       "2   36  6.401917   14  4.718499  1.098612 -0.693147       0.0\n",
       "3   27  3.555348   28  2.397895  1.098612 -0.693147       0.0\n",
       "4   26  6.791221    3  6.805723  0.693147 -0.693147       0.0"
      ]
     },
     "execution_count": 10,
     "metadata": {},
     "output_type": "execute_result"
    }
   ],
   "source": [
    "for colname in ['duration', 'campaign', 'previous']:\n",
    "    df_to_plot[colname] = np.log1p(df_to_plot[colname])\n",
    "\n",
    "df_to_plot.head()"
   ]
  },
  {
   "cell_type": "code",
   "execution_count": 11,
   "id": "2593ddeb",
   "metadata": {
    "execution": {
     "iopub.execute_input": "2025-08-22T23:21:11.496550Z",
     "iopub.status.busy": "2025-08-22T23:21:11.496216Z",
     "iopub.status.idle": "2025-08-22T23:21:11.764313Z",
     "shell.execute_reply": "2025-08-22T23:21:11.763398Z"
    },
    "papermill": {
     "duration": 0.285651,
     "end_time": "2025-08-22T23:21:11.765793",
     "exception": false,
     "start_time": "2025-08-22T23:21:11.480142",
     "status": "completed"
    },
    "tags": []
   },
   "outputs": [
    {
     "data": {
      "text/html": [
       "<div>\n",
       "<style scoped>\n",
       "    .dataframe tbody tr th:only-of-type {\n",
       "        vertical-align: middle;\n",
       "    }\n",
       "\n",
       "    .dataframe tbody tr th {\n",
       "        vertical-align: top;\n",
       "    }\n",
       "\n",
       "    .dataframe thead th {\n",
       "        text-align: right;\n",
       "    }\n",
       "</style>\n",
       "<table border=\"1\" class=\"dataframe\">\n",
       "  <thead>\n",
       "    <tr style=\"text-align: right;\">\n",
       "      <th></th>\n",
       "      <th>age</th>\n",
       "      <th>balance</th>\n",
       "      <th>day</th>\n",
       "      <th>duration</th>\n",
       "      <th>campaign</th>\n",
       "      <th>pdays</th>\n",
       "      <th>previous</th>\n",
       "    </tr>\n",
       "  </thead>\n",
       "  <tbody>\n",
       "    <tr>\n",
       "      <th>count</th>\n",
       "      <td>750000.000000</td>\n",
       "      <td>750000.000000</td>\n",
       "      <td>750000.000000</td>\n",
       "      <td>750000.000000</td>\n",
       "      <td>750000.000000</td>\n",
       "      <td>750000.000000</td>\n",
       "      <td>750000.000000</td>\n",
       "    </tr>\n",
       "    <tr>\n",
       "      <th>mean</th>\n",
       "      <td>40.926395</td>\n",
       "      <td>4.177661</td>\n",
       "      <td>16.117209</td>\n",
       "      <td>5.064997</td>\n",
       "      <td>1.127229</td>\n",
       "      <td>-0.075419</td>\n",
       "      <td>0.123168</td>\n",
       "    </tr>\n",
       "    <tr>\n",
       "      <th>std</th>\n",
       "      <td>10.098829</td>\n",
       "      <td>4.493638</td>\n",
       "      <td>8.250832</td>\n",
       "      <td>1.031530</td>\n",
       "      <td>0.483716</td>\n",
       "      <td>1.829238</td>\n",
       "      <td>0.399328</td>\n",
       "    </tr>\n",
       "    <tr>\n",
       "      <th>min</th>\n",
       "      <td>18.000000</td>\n",
       "      <td>-8.989694</td>\n",
       "      <td>1.000000</td>\n",
       "      <td>0.693147</td>\n",
       "      <td>0.693147</td>\n",
       "      <td>-0.693147</td>\n",
       "      <td>0.000000</td>\n",
       "    </tr>\n",
       "    <tr>\n",
       "      <th>25%</th>\n",
       "      <td>33.000000</td>\n",
       "      <td>0.000000</td>\n",
       "      <td>9.000000</td>\n",
       "      <td>4.521789</td>\n",
       "      <td>0.693147</td>\n",
       "      <td>-0.693147</td>\n",
       "      <td>0.000000</td>\n",
       "    </tr>\n",
       "    <tr>\n",
       "      <th>50%</th>\n",
       "      <td>39.000000</td>\n",
       "      <td>6.453625</td>\n",
       "      <td>17.000000</td>\n",
       "      <td>4.897840</td>\n",
       "      <td>1.098612</td>\n",
       "      <td>-0.693147</td>\n",
       "      <td>0.000000</td>\n",
       "    </tr>\n",
       "    <tr>\n",
       "      <th>75%</th>\n",
       "      <td>48.000000</td>\n",
       "      <td>7.237778</td>\n",
       "      <td>21.000000</td>\n",
       "      <td>5.891644</td>\n",
       "      <td>1.386294</td>\n",
       "      <td>-0.693147</td>\n",
       "      <td>0.000000</td>\n",
       "    </tr>\n",
       "    <tr>\n",
       "      <th>max</th>\n",
       "      <td>95.000000</td>\n",
       "      <td>11.510101</td>\n",
       "      <td>31.000000</td>\n",
       "      <td>8.500861</td>\n",
       "      <td>4.158883</td>\n",
       "      <td>6.770789</td>\n",
       "      <td>5.303305</td>\n",
       "    </tr>\n",
       "  </tbody>\n",
       "</table>\n",
       "</div>"
      ],
      "text/plain": [
       "                 age        balance            day       duration  \\\n",
       "count  750000.000000  750000.000000  750000.000000  750000.000000   \n",
       "mean       40.926395       4.177661      16.117209       5.064997   \n",
       "std        10.098829       4.493638       8.250832       1.031530   \n",
       "min        18.000000      -8.989694       1.000000       0.693147   \n",
       "25%        33.000000       0.000000       9.000000       4.521789   \n",
       "50%        39.000000       6.453625      17.000000       4.897840   \n",
       "75%        48.000000       7.237778      21.000000       5.891644   \n",
       "max        95.000000      11.510101      31.000000       8.500861   \n",
       "\n",
       "            campaign          pdays       previous  \n",
       "count  750000.000000  750000.000000  750000.000000  \n",
       "mean        1.127229      -0.075419       0.123168  \n",
       "std         0.483716       1.829238       0.399328  \n",
       "min         0.693147      -0.693147       0.000000  \n",
       "25%         0.693147      -0.693147       0.000000  \n",
       "50%         1.098612      -0.693147       0.000000  \n",
       "75%         1.386294      -0.693147       0.000000  \n",
       "max         4.158883       6.770789       5.303305  "
      ]
     },
     "execution_count": 11,
     "metadata": {},
     "output_type": "execute_result"
    }
   ],
   "source": [
    "df_to_plot.describe()"
   ]
  },
  {
   "cell_type": "code",
   "execution_count": 12,
   "id": "86c44a32",
   "metadata": {
    "execution": {
     "iopub.execute_input": "2025-08-22T23:21:11.797738Z",
     "iopub.status.busy": "2025-08-22T23:21:11.797393Z",
     "iopub.status.idle": "2025-08-22T23:21:13.222424Z",
     "shell.execute_reply": "2025-08-22T23:21:13.221392Z"
    },
    "papermill": {
     "duration": 1.443727,
     "end_time": "2025-08-22T23:21:13.224511",
     "exception": false,
     "start_time": "2025-08-22T23:21:11.780784",
     "status": "completed"
    },
    "tags": []
   },
   "outputs": [
    {
     "data": {
      "image/png": "[encoded data removed]",
      "text/plain": [
       "<Figure size 1200x1000 with 9 Axes>"
      ]
     },
     "metadata": {},
     "output_type": "display_data"
    }
   ],
   "source": [
    "df_to_plot.hist(figsize=(12,10));\n",
    "plt.tight_layout()\n",
    "plt.show()"
   ]
  },
  {
   "cell_type": "markdown",
   "id": "c5c1ef29",
   "metadata": {
    "papermill": {
     "duration": 0.016206,
     "end_time": "2025-08-22T23:21:13.257331",
     "exception": false,
     "start_time": "2025-08-22T23:21:13.241125",
     "status": "completed"
    },
    "tags": []
   },
   "source": [
    "Distributions look a better. ```previous```, ```pdays``` and ```campaign``` still look long tailed though. \n",
    "\n",
    "Going to add the transformed variable columns to the original dataframe:"
   ]
  },
  {
   "cell_type": "code",
   "execution_count": 13,
   "id": "5ec8d000",
   "metadata": {
    "execution": {
     "iopub.execute_input": "2025-08-22T23:21:13.292683Z",
     "iopub.status.busy": "2025-08-22T23:21:13.292347Z",
     "iopub.status.idle": "2025-08-22T23:21:15.837379Z",
     "shell.execute_reply": "2025-08-22T23:21:15.835531Z"
    },
    "papermill": {
     "duration": 2.565637,
     "end_time": "2025-08-22T23:21:15.839390",
     "exception": false,
     "start_time": "2025-08-22T23:21:13.273753",
     "status": "completed"
    },
    "tags": []
   },
   "outputs": [
    {
     "data": {
      "image/png": "[encoded data removed]",
      "text/plain": [
       "<Figure size 1200x1000 with 16 Axes>"
      ]
     },
     "metadata": {},
     "output_type": "display_data"
    }
   ],
   "source": [
    "df['log.balance'] = np.sign(df['balance']) * np.log1p(np.abs(df['balance']))\n",
    "df['log.pdays'] = np.sign(df['pdays']) * np.log1p(np.abs(df['pdays']))\n",
    "\n",
    "for colname in ['duration', 'campaign', 'previous']:\n",
    "    df[f'log.{colname}'] = np.log1p(df[colname])\n",
    "\n",
    "df.hist(figsize=(12,10));\n",
    "plt.tight_layout()\n",
    "plt.show()"
   ]
  },
  {
   "cell_type": "markdown",
   "id": "503bb8b5",
   "metadata": {
    "papermill": {
     "duration": 0.018177,
     "end_time": "2025-08-22T23:21:15.878135",
     "exception": false,
     "start_time": "2025-08-22T23:21:15.859958",
     "status": "completed"
    },
    "tags": []
   },
   "source": [
    "## Categorical variables"
   ]
  },
  {
   "cell_type": "code",
   "execution_count": 14,
   "id": "2b9c06dc",
   "metadata": {
    "execution": {
     "iopub.execute_input": "2025-08-22T23:21:15.917135Z",
     "iopub.status.busy": "2025-08-22T23:21:15.916819Z",
     "iopub.status.idle": "2025-08-22T23:21:16.855520Z",
     "shell.execute_reply": "2025-08-22T23:21:16.854409Z"
    },
    "papermill": {
     "duration": 0.960314,
     "end_time": "2025-08-22T23:21:16.857279",
     "exception": false,
     "start_time": "2025-08-22T23:21:15.896965",
     "status": "completed"
    },
    "tags": []
   },
   "outputs": [
    {
     "data": {
      "text/html": [
       "<div>\n",
       "<style scoped>\n",
       "    .dataframe tbody tr th:only-of-type {\n",
       "        vertical-align: middle;\n",
       "    }\n",
       "\n",
       "    .dataframe tbody tr th {\n",
       "        vertical-align: top;\n",
       "    }\n",
       "\n",
       "    .dataframe thead th {\n",
       "        text-align: right;\n",
       "    }\n",
       "</style>\n",
       "<table border=\"1\" class=\"dataframe\">\n",
       "  <thead>\n",
       "    <tr style=\"text-align: right;\">\n",
       "      <th></th>\n",
       "      <th>job</th>\n",
       "      <th>marital</th>\n",
       "      <th>education</th>\n",
       "      <th>default</th>\n",
       "      <th>housing</th>\n",
       "      <th>loan</th>\n",
       "      <th>contact</th>\n",
       "      <th>month</th>\n",
       "      <th>poutcome</th>\n",
       "    </tr>\n",
       "  </thead>\n",
       "  <tbody>\n",
       "    <tr>\n",
       "      <th>count</th>\n",
       "      <td>750000</td>\n",
       "      <td>750000</td>\n",
       "      <td>750000</td>\n",
       "      <td>750000</td>\n",
       "      <td>750000</td>\n",
       "      <td>750000</td>\n",
       "      <td>750000</td>\n",
       "      <td>750000</td>\n",
       "      <td>750000</td>\n",
       "    </tr>\n",
       "    <tr>\n",
       "      <th>unique</th>\n",
       "      <td>12</td>\n",
       "      <td>3</td>\n",
       "      <td>4</td>\n",
       "      <td>2</td>\n",
       "      <td>2</td>\n",
       "      <td>2</td>\n",
       "      <td>3</td>\n",
       "      <td>12</td>\n",
       "      <td>4</td>\n",
       "    </tr>\n",
       "    <tr>\n",
       "      <th>top</th>\n",
       "      <td>management</td>\n",
       "      <td>married</td>\n",
       "      <td>secondary</td>\n",
       "      <td>no</td>\n",
       "      <td>yes</td>\n",
       "      <td>no</td>\n",
       "      <td>cellular</td>\n",
       "      <td>may</td>\n",
       "      <td>unknown</td>\n",
       "    </tr>\n",
       "    <tr>\n",
       "      <th>freq</th>\n",
       "      <td>175541</td>\n",
       "      <td>480759</td>\n",
       "      <td>401683</td>\n",
       "      <td>737151</td>\n",
       "      <td>411288</td>\n",
       "      <td>645023</td>\n",
       "      <td>486655</td>\n",
       "      <td>228411</td>\n",
       "      <td>672450</td>\n",
       "    </tr>\n",
       "  </tbody>\n",
       "</table>\n",
       "</div>"
      ],
      "text/plain": [
       "               job  marital  education default housing    loan   contact  \\\n",
       "count       750000   750000     750000  750000  750000  750000    750000   \n",
       "unique          12        3          4       2       2       2         3   \n",
       "top     management  married  secondary      no     yes      no  cellular   \n",
       "freq        175541   480759     401683  737151  411288  645023    486655   \n",
       "\n",
       "         month poutcome  \n",
       "count   750000   750000  \n",
       "unique      12        4  \n",
       "top        may  unknown  \n",
       "freq    228411   672450  "
      ]
     },
     "execution_count": 14,
     "metadata": {},
     "output_type": "execute_result"
    }
   ],
   "source": [
    "df.describe(include=[object])"
   ]
  },
  {
   "cell_type": "markdown",
   "id": "b3162253",
   "metadata": {
    "papermill": {
     "duration": 0.017931,
     "end_time": "2025-08-22T23:21:16.893881",
     "exception": false,
     "start_time": "2025-08-22T23:21:16.875950",
     "status": "completed"
    },
    "tags": []
   },
   "source": [
    "Looks like some of the categorical columns contain a category called 'unknown'. Specifically, the ```contact``` and ```poutcome``` columns contain this value."
   ]
  },
  {
   "cell_type": "code",
   "execution_count": 15,
   "id": "15dc57b6",
   "metadata": {
    "execution": {
     "iopub.execute_input": "2025-08-22T23:21:16.931891Z",
     "iopub.status.busy": "2025-08-22T23:21:16.931551Z",
     "iopub.status.idle": "2025-08-22T23:21:17.017380Z",
     "shell.execute_reply": "2025-08-22T23:21:17.016237Z"
    },
    "papermill": {
     "duration": 0.106968,
     "end_time": "2025-08-22T23:21:17.019231",
     "exception": false,
     "start_time": "2025-08-22T23:21:16.912263",
     "status": "completed"
    },
    "tags": []
   },
   "outputs": [
    {
     "name": "stdout",
     "output_type": "stream",
     "text": [
      "['unknown' 'other' 'failure' 'success']\n",
      "['cellular' 'unknown' 'telephone']\n"
     ]
    }
   ],
   "source": [
    "print(df['poutcome'].unique())\n",
    "print(df['contact'].unique())"
   ]
  },
  {
   "cell_type": "markdown",
   "id": "f481b7d8",
   "metadata": {
    "papermill": {
     "duration": 0.018416,
     "end_time": "2025-08-22T23:21:17.057024",
     "exception": false,
     "start_time": "2025-08-22T23:21:17.038608",
     "status": "completed"
    },
    "tags": []
   },
   "source": [
    "Let's make dummy variables for these columns:"
   ]
  },
  {
   "cell_type": "code",
   "execution_count": 16,
   "id": "5df399c6",
   "metadata": {
    "execution": {
     "iopub.execute_input": "2025-08-22T23:21:17.097158Z",
     "iopub.status.busy": "2025-08-22T23:21:17.096844Z",
     "iopub.status.idle": "2025-08-22T23:21:17.799702Z",
     "shell.execute_reply": "2025-08-22T23:21:17.798816Z"
    },
    "papermill": {
     "duration": 0.726076,
     "end_time": "2025-08-22T23:21:17.801514",
     "exception": false,
     "start_time": "2025-08-22T23:21:17.075438",
     "status": "completed"
    },
    "tags": []
   },
   "outputs": [
    {
     "data": {
      "text/plain": [
       "Index(['id', 'age', 'balance', 'day', 'duration', 'campaign', 'pdays',\n",
       "       'previous', 'y', 'log.balance', 'log.pdays', 'log.duration',\n",
       "       'log.campaign', 'log.previous', 'job_admin.', 'job_blue-collar',\n",
       "       'job_entrepreneur', 'job_housemaid', 'job_management', 'job_retired',\n",
       "       'job_self-employed', 'job_services', 'job_student', 'job_technician',\n",
       "       'job_unemployed', 'job_unknown', 'marital_divorced', 'marital_married',\n",
       "       'marital_single', 'education_primary', 'education_secondary',\n",
       "       'education_tertiary', 'education_unknown', 'default_no', 'default_yes',\n",
       "       'housing_no', 'housing_yes', 'loan_no', 'loan_yes', 'contact_cellular',\n",
       "       'contact_telephone', 'contact_unknown', 'month_apr', 'month_aug',\n",
       "       'month_dec', 'month_feb', 'month_jan', 'month_jul', 'month_jun',\n",
       "       'month_mar', 'month_may', 'month_nov', 'month_oct', 'month_sep',\n",
       "       'poutcome_failure', 'poutcome_other', 'poutcome_success',\n",
       "       'poutcome_unknown'],\n",
       "      dtype='object')"
      ]
     },
     "execution_count": 16,
     "metadata": {},
     "output_type": "execute_result"
    }
   ],
   "source": [
    "df = pd.get_dummies(df, columns=['job', 'marital', 'education', 'default', 'housing', 'loan', 'contact', 'month', 'poutcome'])\n",
    "df.columns"
   ]
  },
  {
   "cell_type": "code",
   "execution_count": 17,
   "id": "1865ad25",
   "metadata": {
    "execution": {
     "iopub.execute_input": "2025-08-22T23:21:17.840893Z",
     "iopub.status.busy": "2025-08-22T23:21:17.840589Z",
     "iopub.status.idle": "2025-08-22T23:21:17.885656Z",
     "shell.execute_reply": "2025-08-22T23:21:17.884554Z"
    },
    "papermill": {
     "duration": 0.066918,
     "end_time": "2025-08-22T23:21:17.887631",
     "exception": false,
     "start_time": "2025-08-22T23:21:17.820713",
     "status": "completed"
    },
    "tags": []
   },
   "outputs": [
    {
     "data": {
      "text/html": [
       "<div>\n",
       "<style scoped>\n",
       "    .dataframe tbody tr th:only-of-type {\n",
       "        vertical-align: middle;\n",
       "    }\n",
       "\n",
       "    .dataframe tbody tr th {\n",
       "        vertical-align: top;\n",
       "    }\n",
       "\n",
       "    .dataframe thead th {\n",
       "        text-align: right;\n",
       "    }\n",
       "</style>\n",
       "<table border=\"1\" class=\"dataframe\">\n",
       "  <thead>\n",
       "    <tr style=\"text-align: right;\">\n",
       "      <th></th>\n",
       "      <th>job_admin.</th>\n",
       "      <th>job_blue-collar</th>\n",
       "      <th>job_entrepreneur</th>\n",
       "      <th>job_housemaid</th>\n",
       "      <th>job_management</th>\n",
       "      <th>job_retired</th>\n",
       "      <th>job_self-employed</th>\n",
       "      <th>job_services</th>\n",
       "      <th>job_student</th>\n",
       "      <th>job_technician</th>\n",
       "      <th>...</th>\n",
       "      <th>month_jun</th>\n",
       "      <th>month_mar</th>\n",
       "      <th>month_may</th>\n",
       "      <th>month_nov</th>\n",
       "      <th>month_oct</th>\n",
       "      <th>month_sep</th>\n",
       "      <th>poutcome_failure</th>\n",
       "      <th>poutcome_other</th>\n",
       "      <th>poutcome_success</th>\n",
       "      <th>poutcome_unknown</th>\n",
       "    </tr>\n",
       "  </thead>\n",
       "  <tbody>\n",
       "    <tr>\n",
       "      <th>0</th>\n",
       "      <td>False</td>\n",
       "      <td>False</td>\n",
       "      <td>False</td>\n",
       "      <td>False</td>\n",
       "      <td>False</td>\n",
       "      <td>False</td>\n",
       "      <td>False</td>\n",
       "      <td>False</td>\n",
       "      <td>False</td>\n",
       "      <td>True</td>\n",
       "      <td>...</td>\n",
       "      <td>False</td>\n",
       "      <td>False</td>\n",
       "      <td>False</td>\n",
       "      <td>False</td>\n",
       "      <td>False</td>\n",
       "      <td>False</td>\n",
       "      <td>False</td>\n",
       "      <td>False</td>\n",
       "      <td>False</td>\n",
       "      <td>True</td>\n",
       "    </tr>\n",
       "    <tr>\n",
       "      <th>1</th>\n",
       "      <td>False</td>\n",
       "      <td>True</td>\n",
       "      <td>False</td>\n",
       "      <td>False</td>\n",
       "      <td>False</td>\n",
       "      <td>False</td>\n",
       "      <td>False</td>\n",
       "      <td>False</td>\n",
       "      <td>False</td>\n",
       "      <td>False</td>\n",
       "      <td>...</td>\n",
       "      <td>True</td>\n",
       "      <td>False</td>\n",
       "      <td>False</td>\n",
       "      <td>False</td>\n",
       "      <td>False</td>\n",
       "      <td>False</td>\n",
       "      <td>False</td>\n",
       "      <td>False</td>\n",
       "      <td>False</td>\n",
       "      <td>True</td>\n",
       "    </tr>\n",
       "    <tr>\n",
       "      <th>2</th>\n",
       "      <td>False</td>\n",
       "      <td>True</td>\n",
       "      <td>False</td>\n",
       "      <td>False</td>\n",
       "      <td>False</td>\n",
       "      <td>False</td>\n",
       "      <td>False</td>\n",
       "      <td>False</td>\n",
       "      <td>False</td>\n",
       "      <td>False</td>\n",
       "      <td>...</td>\n",
       "      <td>False</td>\n",
       "      <td>False</td>\n",
       "      <td>True</td>\n",
       "      <td>False</td>\n",
       "      <td>False</td>\n",
       "      <td>False</td>\n",
       "      <td>False</td>\n",
       "      <td>False</td>\n",
       "      <td>False</td>\n",
       "      <td>True</td>\n",
       "    </tr>\n",
       "    <tr>\n",
       "      <th>3</th>\n",
       "      <td>False</td>\n",
       "      <td>False</td>\n",
       "      <td>False</td>\n",
       "      <td>False</td>\n",
       "      <td>False</td>\n",
       "      <td>False</td>\n",
       "      <td>False</td>\n",
       "      <td>False</td>\n",
       "      <td>True</td>\n",
       "      <td>False</td>\n",
       "      <td>...</td>\n",
       "      <td>False</td>\n",
       "      <td>False</td>\n",
       "      <td>True</td>\n",
       "      <td>False</td>\n",
       "      <td>False</td>\n",
       "      <td>False</td>\n",
       "      <td>False</td>\n",
       "      <td>False</td>\n",
       "      <td>False</td>\n",
       "      <td>True</td>\n",
       "    </tr>\n",
       "    <tr>\n",
       "      <th>4</th>\n",
       "      <td>False</td>\n",
       "      <td>False</td>\n",
       "      <td>False</td>\n",
       "      <td>False</td>\n",
       "      <td>False</td>\n",
       "      <td>False</td>\n",
       "      <td>False</td>\n",
       "      <td>False</td>\n",
       "      <td>False</td>\n",
       "      <td>True</td>\n",
       "      <td>...</td>\n",
       "      <td>False</td>\n",
       "      <td>False</td>\n",
       "      <td>False</td>\n",
       "      <td>False</td>\n",
       "      <td>False</td>\n",
       "      <td>False</td>\n",
       "      <td>False</td>\n",
       "      <td>False</td>\n",
       "      <td>False</td>\n",
       "      <td>True</td>\n",
       "    </tr>\n",
       "  </tbody>\n",
       "</table>\n",
       "<p>5 rows × 44 columns</p>\n",
       "</div>"
      ],
      "text/plain": [
       "   job_admin.  job_blue-collar  job_entrepreneur  job_housemaid  \\\n",
       "0       False            False             False          False   \n",
       "1       False             True             False          False   \n",
       "2       False             True             False          False   \n",
       "3       False            False             False          False   \n",
       "4       False            False             False          False   \n",
       "\n",
       "   job_management  job_retired  job_self-employed  job_services  job_student  \\\n",
       "0           False        False              False         False        False   \n",
       "1           False        False              False         False        False   \n",
       "2           False        False              False         False        False   \n",
       "3           False        False              False         False         True   \n",
       "4           False        False              False         False        False   \n",
       "\n",
       "   job_technician  ...  month_jun  month_mar  month_may  month_nov  month_oct  \\\n",
       "0            True  ...      False      False      False      False      False   \n",
       "1           False  ...       True      False      False      False      False   \n",
       "2           False  ...      False      False       True      False      False   \n",
       "3           False  ...      False      False       True      False      False   \n",
       "4            True  ...      False      False      False      False      False   \n",
       "\n",
       "   month_sep  poutcome_failure  poutcome_other  poutcome_success  \\\n",
       "0      False             False           False             False   \n",
       "1      False             False           False             False   \n",
       "2      False             False           False             False   \n",
       "3      False             False           False             False   \n",
       "4      False             False           False             False   \n",
       "\n",
       "   poutcome_unknown  \n",
       "0              True  \n",
       "1              True  \n",
       "2              True  \n",
       "3              True  \n",
       "4              True  \n",
       "\n",
       "[5 rows x 44 columns]"
      ]
     },
     "execution_count": 17,
     "metadata": {},
     "output_type": "execute_result"
    }
   ],
   "source": [
    "added_cols = ['job_admin.', 'job_blue-collar', 'job_entrepreneur', 'job_housemaid', 'job_management', 'job_retired',\n",
    "              'job_self-employed', 'job_services', 'job_student', 'job_technician', 'job_unemployed', 'job_unknown', \n",
    "              'marital_divorced', 'marital_married', 'marital_single', 'education_primary', 'education_secondary',\n",
    "              'education_tertiary', 'education_unknown', 'default_no', 'default_yes', 'housing_no', 'housing_yes', \n",
    "              'loan_no', 'loan_yes', 'contact_cellular', 'contact_telephone', 'contact_unknown', 'month_apr', 'month_aug',\n",
    "              'month_dec', 'month_feb', 'month_jan', 'month_jul', 'month_jun', 'month_mar', 'month_may', 'month_nov', \n",
    "              'month_oct', 'month_sep', 'poutcome_failure', 'poutcome_other', 'poutcome_success', 'poutcome_unknown']\n",
    "df[added_cols].head()"
   ]
  },
  {
   "cell_type": "code",
   "execution_count": 18,
   "id": "99565717",
   "metadata": {
    "execution": {
     "iopub.execute_input": "2025-08-22T23:21:17.927136Z",
     "iopub.status.busy": "2025-08-22T23:21:17.926842Z",
     "iopub.status.idle": "2025-08-22T23:21:18.319814Z",
     "shell.execute_reply": "2025-08-22T23:21:18.318591Z"
    },
    "papermill": {
     "duration": 0.415079,
     "end_time": "2025-08-22T23:21:18.321803",
     "exception": false,
     "start_time": "2025-08-22T23:21:17.906724",
     "status": "completed"
    },
    "tags": []
   },
   "outputs": [
    {
     "data": {
      "text/html": [
       "<div>\n",
       "<style scoped>\n",
       "    .dataframe tbody tr th:only-of-type {\n",
       "        vertical-align: middle;\n",
       "    }\n",
       "\n",
       "    .dataframe tbody tr th {\n",
       "        vertical-align: top;\n",
       "    }\n",
       "\n",
       "    .dataframe thead th {\n",
       "        text-align: right;\n",
       "    }\n",
       "</style>\n",
       "<table border=\"1\" class=\"dataframe\">\n",
       "  <thead>\n",
       "    <tr style=\"text-align: right;\">\n",
       "      <th></th>\n",
       "      <th>id</th>\n",
       "      <th>age</th>\n",
       "      <th>balance</th>\n",
       "      <th>day</th>\n",
       "      <th>duration</th>\n",
       "      <th>campaign</th>\n",
       "      <th>pdays</th>\n",
       "      <th>previous</th>\n",
       "      <th>y</th>\n",
       "      <th>log.balance</th>\n",
       "      <th>...</th>\n",
       "      <th>month_jun</th>\n",
       "      <th>month_mar</th>\n",
       "      <th>month_may</th>\n",
       "      <th>month_nov</th>\n",
       "      <th>month_oct</th>\n",
       "      <th>month_sep</th>\n",
       "      <th>poutcome_failure</th>\n",
       "      <th>poutcome_other</th>\n",
       "      <th>poutcome_success</th>\n",
       "      <th>poutcome_unknown</th>\n",
       "    </tr>\n",
       "  </thead>\n",
       "  <tbody>\n",
       "    <tr>\n",
       "      <th>0</th>\n",
       "      <td>0</td>\n",
       "      <td>42.0</td>\n",
       "      <td>7</td>\n",
       "      <td>25.0</td>\n",
       "      <td>117</td>\n",
       "      <td>3</td>\n",
       "      <td>-1</td>\n",
       "      <td>0</td>\n",
       "      <td>0</td>\n",
       "      <td>2.079442</td>\n",
       "      <td>...</td>\n",
       "      <td>0.0</td>\n",
       "      <td>0.0</td>\n",
       "      <td>0.0</td>\n",
       "      <td>0.0</td>\n",
       "      <td>0.0</td>\n",
       "      <td>0.0</td>\n",
       "      <td>0.0</td>\n",
       "      <td>0.0</td>\n",
       "      <td>0.0</td>\n",
       "      <td>1.0</td>\n",
       "    </tr>\n",
       "    <tr>\n",
       "      <th>1</th>\n",
       "      <td>1</td>\n",
       "      <td>38.0</td>\n",
       "      <td>514</td>\n",
       "      <td>18.0</td>\n",
       "      <td>185</td>\n",
       "      <td>1</td>\n",
       "      <td>-1</td>\n",
       "      <td>0</td>\n",
       "      <td>0</td>\n",
       "      <td>6.244167</td>\n",
       "      <td>...</td>\n",
       "      <td>1.0</td>\n",
       "      <td>0.0</td>\n",
       "      <td>0.0</td>\n",
       "      <td>0.0</td>\n",
       "      <td>0.0</td>\n",
       "      <td>0.0</td>\n",
       "      <td>0.0</td>\n",
       "      <td>0.0</td>\n",
       "      <td>0.0</td>\n",
       "      <td>1.0</td>\n",
       "    </tr>\n",
       "    <tr>\n",
       "      <th>2</th>\n",
       "      <td>2</td>\n",
       "      <td>36.0</td>\n",
       "      <td>602</td>\n",
       "      <td>14.0</td>\n",
       "      <td>111</td>\n",
       "      <td>2</td>\n",
       "      <td>-1</td>\n",
       "      <td>0</td>\n",
       "      <td>0</td>\n",
       "      <td>6.401917</td>\n",
       "      <td>...</td>\n",
       "      <td>0.0</td>\n",
       "      <td>0.0</td>\n",
       "      <td>1.0</td>\n",
       "      <td>0.0</td>\n",
       "      <td>0.0</td>\n",
       "      <td>0.0</td>\n",
       "      <td>0.0</td>\n",
       "      <td>0.0</td>\n",
       "      <td>0.0</td>\n",
       "      <td>1.0</td>\n",
       "    </tr>\n",
       "    <tr>\n",
       "      <th>3</th>\n",
       "      <td>3</td>\n",
       "      <td>27.0</td>\n",
       "      <td>34</td>\n",
       "      <td>28.0</td>\n",
       "      <td>10</td>\n",
       "      <td>2</td>\n",
       "      <td>-1</td>\n",
       "      <td>0</td>\n",
       "      <td>0</td>\n",
       "      <td>3.555348</td>\n",
       "      <td>...</td>\n",
       "      <td>0.0</td>\n",
       "      <td>0.0</td>\n",
       "      <td>1.0</td>\n",
       "      <td>0.0</td>\n",
       "      <td>0.0</td>\n",
       "      <td>0.0</td>\n",
       "      <td>0.0</td>\n",
       "      <td>0.0</td>\n",
       "      <td>0.0</td>\n",
       "      <td>1.0</td>\n",
       "    </tr>\n",
       "    <tr>\n",
       "      <th>4</th>\n",
       "      <td>4</td>\n",
       "      <td>26.0</td>\n",
       "      <td>889</td>\n",
       "      <td>3.0</td>\n",
       "      <td>902</td>\n",
       "      <td>1</td>\n",
       "      <td>-1</td>\n",
       "      <td>0</td>\n",
       "      <td>1</td>\n",
       "      <td>6.791221</td>\n",
       "      <td>...</td>\n",
       "      <td>0.0</td>\n",
       "      <td>0.0</td>\n",
       "      <td>0.0</td>\n",
       "      <td>0.0</td>\n",
       "      <td>0.0</td>\n",
       "      <td>0.0</td>\n",
       "      <td>0.0</td>\n",
       "      <td>0.0</td>\n",
       "      <td>0.0</td>\n",
       "      <td>1.0</td>\n",
       "    </tr>\n",
       "  </tbody>\n",
       "</table>\n",
       "<p>5 rows × 58 columns</p>\n",
       "</div>"
      ],
      "text/plain": [
       "   id   age  balance   day  duration  campaign  pdays  previous  y  \\\n",
       "0   0  42.0        7  25.0       117         3     -1         0  0   \n",
       "1   1  38.0      514  18.0       185         1     -1         0  0   \n",
       "2   2  36.0      602  14.0       111         2     -1         0  0   \n",
       "3   3  27.0       34  28.0        10         2     -1         0  0   \n",
       "4   4  26.0      889   3.0       902         1     -1         0  1   \n",
       "\n",
       "   log.balance  ...  month_jun  month_mar  month_may  month_nov  month_oct  \\\n",
       "0     2.079442  ...        0.0        0.0        0.0        0.0        0.0   \n",
       "1     6.244167  ...        1.0        0.0        0.0        0.0        0.0   \n",
       "2     6.401917  ...        0.0        0.0        1.0        0.0        0.0   \n",
       "3     3.555348  ...        0.0        0.0        1.0        0.0        0.0   \n",
       "4     6.791221  ...        0.0        0.0        0.0        0.0        0.0   \n",
       "\n",
       "   month_sep  poutcome_failure  poutcome_other  poutcome_success  \\\n",
       "0        0.0               0.0             0.0               0.0   \n",
       "1        0.0               0.0             0.0               0.0   \n",
       "2        0.0               0.0             0.0               0.0   \n",
       "3        0.0               0.0             0.0               0.0   \n",
       "4        0.0               0.0             0.0               0.0   \n",
       "\n",
       "   poutcome_unknown  \n",
       "0               1.0  \n",
       "1               1.0  \n",
       "2               1.0  \n",
       "3               1.0  \n",
       "4               1.0  \n",
       "\n",
       "[5 rows x 58 columns]"
      ]
     },
     "execution_count": 18,
     "metadata": {},
     "output_type": "execute_result"
    }
   ],
   "source": [
    "indep_cols = ['age', 'day', 'log.balance', 'log.pdays', 'log.duration', 'log.campaign', 'log.previous'] + added_cols\n",
    "\n",
    "df[indep_cols] = df[indep_cols].astype(float)\n",
    "df.head()"
   ]
  },
  {
   "cell_type": "markdown",
   "id": "41b2cb25",
   "metadata": {
    "papermill": {
     "duration": 0.019619,
     "end_time": "2025-08-22T23:21:18.361712",
     "exception": false,
     "start_time": "2025-08-22T23:21:18.342093",
     "status": "completed"
    },
    "tags": []
   },
   "source": [
    "Now, we have our predictor variables prepared. Converting them into PyTorch tensors now:"
   ]
  },
  {
   "cell_type": "code",
   "execution_count": 19,
   "id": "5db890af",
   "metadata": {
    "execution": {
     "iopub.execute_input": "2025-08-22T23:21:18.402323Z",
     "iopub.status.busy": "2025-08-22T23:21:18.401971Z",
     "iopub.status.idle": "2025-08-22T23:21:25.810859Z",
     "shell.execute_reply": "2025-08-22T23:21:25.809970Z"
    },
    "papermill": {
     "duration": 7.43125,
     "end_time": "2025-08-22T23:21:25.812370",
     "exception": false,
     "start_time": "2025-08-22T23:21:18.381120",
     "status": "completed"
    },
    "tags": []
   },
   "outputs": [
    {
     "data": {
      "text/plain": [
       "tensor([0, 0, 0,  ..., 0, 0, 0])"
      ]
     },
     "execution_count": 19,
     "metadata": {},
     "output_type": "execute_result"
    }
   ],
   "source": [
    "import torch\n",
    "from torch import tensor\n",
    "\n",
    "t_dep = tensor(df.y)\n",
    "t_dep"
   ]
  },
  {
   "cell_type": "code",
   "execution_count": 20,
   "id": "28d24e71",
   "metadata": {
    "execution": {
     "iopub.execute_input": "2025-08-22T23:21:25.859006Z",
     "iopub.status.busy": "2025-08-22T23:21:25.858422Z",
     "iopub.status.idle": "2025-08-22T23:21:26.451276Z",
     "shell.execute_reply": "2025-08-22T23:21:26.450450Z"
    },
    "papermill": {
     "duration": 0.618162,
     "end_time": "2025-08-22T23:21:26.452875",
     "exception": false,
     "start_time": "2025-08-22T23:21:25.834713",
     "status": "completed"
    },
    "tags": []
   },
   "outputs": [
    {
     "data": {
      "text/plain": [
       "tensor([[42.0000, 25.0000,  2.0794, -0.6931,  4.7707,  1.3863,  0.0000,  0.0000,\n",
       "          0.0000,  0.0000,  0.0000,  0.0000,  0.0000,  0.0000,  0.0000,  0.0000,\n",
       "          1.0000,  0.0000,  0.0000,  0.0000,  1.0000,  0.0000,  0.0000,  1.0000,\n",
       "          0.0000,  0.0000,  1.0000,  0.0000,  1.0000,  0.0000,  1.0000,  0.0000,\n",
       "          1.0000,  0.0000,  0.0000,  0.0000,  1.0000,  0.0000,  0.0000,  0.0000,\n",
       "          0.0000,  0.0000,  0.0000,  0.0000,  0.0000,  0.0000,  0.0000,  0.0000,\n",
       "          0.0000,  0.0000,  1.0000],\n",
       "        [38.0000, 18.0000,  6.2442, -0.6931,  5.2257,  0.6931,  0.0000,  0.0000,\n",
       "          1.0000,  0.0000,  0.0000,  0.0000,  0.0000,  0.0000,  0.0000,  0.0000,\n",
       "          0.0000,  0.0000,  0.0000,  0.0000,  1.0000,  0.0000,  0.0000,  1.0000,\n",
       "          0.0000,  0.0000,  1.0000,  0.0000,  1.0000,  0.0000,  1.0000,  0.0000,\n",
       "          0.0000,  0.0000,  1.0000,  0.0000,  0.0000,  0.0000,  0.0000,  0.0000,\n",
       "          0.0000,  1.0000,  0.0000,  0.0000,  0.0000,  0.0000,  0.0000,  0.0000,\n",
       "          0.0000,  0.0000,  1.0000],\n",
       "        [36.0000, 14.0000,  6.4019, -0.6931,  4.7185,  1.0986,  0.0000,  0.0000,\n",
       "          1.0000,  0.0000,  0.0000,  0.0000,  0.0000,  0.0000,  0.0000,  0.0000,\n",
       "          0.0000,  0.0000,  0.0000,  0.0000,  1.0000,  0.0000,  0.0000,  1.0000,\n",
       "          0.0000,  0.0000,  1.0000,  0.0000,  0.0000,  1.0000,  1.0000,  0.0000,\n",
       "          0.0000,  0.0000,  1.0000,  0.0000,  0.0000,  0.0000,  0.0000,  0.0000,\n",
       "          0.0000,  0.0000,  0.0000,  1.0000,  0.0000,  0.0000,  0.0000,  0.0000,\n",
       "          0.0000,  0.0000,  1.0000],\n",
       "        [27.0000, 28.0000,  3.5553, -0.6931,  2.3979,  1.0986,  0.0000,  0.0000,\n",
       "          0.0000,  0.0000,  0.0000,  0.0000,  0.0000,  0.0000,  0.0000,  1.0000,\n",
       "          0.0000,  0.0000,  0.0000,  0.0000,  0.0000,  1.0000,  0.0000,  1.0000,\n",
       "          0.0000,  0.0000,  1.0000,  0.0000,  0.0000,  1.0000,  1.0000,  0.0000,\n",
       "          0.0000,  0.0000,  1.0000,  0.0000,  0.0000,  0.0000,  0.0000,  0.0000,\n",
       "          0.0000,  0.0000,  0.0000,  1.0000,  0.0000,  0.0000,  0.0000,  0.0000,\n",
       "          0.0000,  0.0000,  1.0000],\n",
       "        [26.0000,  3.0000,  6.7912, -0.6931,  6.8057,  0.6931,  0.0000,  0.0000,\n",
       "          0.0000,  0.0000,  0.0000,  0.0000,  0.0000,  0.0000,  0.0000,  0.0000,\n",
       "          1.0000,  0.0000,  0.0000,  0.0000,  1.0000,  0.0000,  0.0000,  1.0000,\n",
       "          0.0000,  0.0000,  1.0000,  0.0000,  0.0000,  1.0000,  1.0000,  0.0000,\n",
       "          1.0000,  0.0000,  0.0000,  0.0000,  0.0000,  0.0000,  1.0000,  0.0000,\n",
       "          0.0000,  0.0000,  0.0000,  0.0000,  0.0000,  0.0000,  0.0000,  0.0000,\n",
       "          0.0000,  0.0000,  1.0000]])"
      ]
     },
     "execution_count": 20,
     "metadata": {},
     "output_type": "execute_result"
    }
   ],
   "source": [
    "t_indep = tensor(df[indep_cols].values, dtype=torch.float)\n",
    "t_indep[:5]"
   ]
  },
  {
   "cell_type": "markdown",
   "id": "071263d0",
   "metadata": {
    "papermill": {
     "duration": 0.01899,
     "end_time": "2025-08-22T23:21:26.491234",
     "exception": false,
     "start_time": "2025-08-22T23:21:26.472244",
     "status": "completed"
    },
    "tags": []
   },
   "source": [
    "Noticed here that ```age``` and ```day``` values are significantly larger than the others. Requires some normalization: divide all values by the maximum of their respective columns so all variables are in the same range:"
   ]
  },
  {
   "cell_type": "code",
   "execution_count": 21,
   "id": "77b9ccdd",
   "metadata": {
    "execution": {
     "iopub.execute_input": "2025-08-22T23:21:26.534101Z",
     "iopub.status.busy": "2025-08-22T23:21:26.533752Z",
     "iopub.status.idle": "2025-08-22T23:21:26.633832Z",
     "shell.execute_reply": "2025-08-22T23:21:26.632855Z"
    },
    "papermill": {
     "duration": 0.124444,
     "end_time": "2025-08-22T23:21:26.635415",
     "exception": false,
     "start_time": "2025-08-22T23:21:26.510971",
     "status": "completed"
    },
    "tags": []
   },
   "outputs": [
    {
     "data": {
      "text/plain": [
       "tensor([[ 0.4421,  0.8065,  0.1807, -0.1024,  0.5612,  0.3333,  0.0000,  0.0000,\n",
       "          0.0000,  0.0000,  0.0000,  0.0000,  0.0000,  0.0000,  0.0000,  0.0000,\n",
       "          1.0000,  0.0000,  0.0000,  0.0000,  1.0000,  0.0000,  0.0000,  1.0000,\n",
       "          0.0000,  0.0000,  1.0000,  0.0000,  1.0000,  0.0000,  1.0000,  0.0000,\n",
       "          1.0000,  0.0000,  0.0000,  0.0000,  1.0000,  0.0000,  0.0000,  0.0000,\n",
       "          0.0000,  0.0000,  0.0000,  0.0000,  0.0000,  0.0000,  0.0000,  0.0000,\n",
       "          0.0000,  0.0000,  1.0000],\n",
       "        [ 0.4000,  0.5806,  0.5425, -0.1024,  0.6147,  0.1667,  0.0000,  0.0000,\n",
       "          1.0000,  0.0000,  0.0000,  0.0000,  0.0000,  0.0000,  0.0000,  0.0000,\n",
       "          0.0000,  0.0000,  0.0000,  0.0000,  1.0000,  0.0000,  0.0000,  1.0000,\n",
       "          0.0000,  0.0000,  1.0000,  0.0000,  1.0000,  0.0000,  1.0000,  0.0000,\n",
       "          0.0000,  0.0000,  1.0000,  0.0000,  0.0000,  0.0000,  0.0000,  0.0000,\n",
       "          0.0000,  1.0000,  0.0000,  0.0000,  0.0000,  0.0000,  0.0000,  0.0000,\n",
       "          0.0000,  0.0000,  1.0000],\n",
       "        [ 0.3789,  0.4516,  0.5562, -0.1024,  0.5551,  0.2642,  0.0000,  0.0000,\n",
       "          1.0000,  0.0000,  0.0000,  0.0000,  0.0000,  0.0000,  0.0000,  0.0000,\n",
       "          0.0000,  0.0000,  0.0000,  0.0000,  1.0000,  0.0000,  0.0000,  1.0000,\n",
       "          0.0000,  0.0000,  1.0000,  0.0000,  0.0000,  1.0000,  1.0000,  0.0000,\n",
       "          0.0000,  0.0000,  1.0000,  0.0000,  0.0000,  0.0000,  0.0000,  0.0000,\n",
       "          0.0000,  0.0000,  0.0000,  1.0000,  0.0000,  0.0000,  0.0000,  0.0000,\n",
       "          0.0000,  0.0000,  1.0000],\n",
       "        [ 0.2842,  0.9032,  0.3089, -0.1024,  0.2821,  0.2642,  0.0000,  0.0000,\n",
       "          0.0000,  0.0000,  0.0000,  0.0000,  0.0000,  0.0000,  0.0000,  1.0000,\n",
       "          0.0000,  0.0000,  0.0000,  0.0000,  0.0000,  1.0000,  0.0000,  1.0000,\n",
       "          0.0000,  0.0000,  1.0000,  0.0000,  0.0000,  1.0000,  1.0000,  0.0000,\n",
       "          0.0000,  0.0000,  1.0000,  0.0000,  0.0000,  0.0000,  0.0000,  0.0000,\n",
       "          0.0000,  0.0000,  0.0000,  1.0000,  0.0000,  0.0000,  0.0000,  0.0000,\n",
       "          0.0000,  0.0000,  1.0000],\n",
       "        [ 0.2737,  0.0968,  0.5900, -0.1024,  0.8006,  0.1667,  0.0000,  0.0000,\n",
       "          0.0000,  0.0000,  0.0000,  0.0000,  0.0000,  0.0000,  0.0000,  0.0000,\n",
       "          1.0000,  0.0000,  0.0000,  0.0000,  1.0000,  0.0000,  0.0000,  1.0000,\n",
       "          0.0000,  0.0000,  1.0000,  0.0000,  0.0000,  1.0000,  1.0000,  0.0000,\n",
       "          1.0000,  0.0000,  0.0000,  0.0000,  0.0000,  0.0000,  1.0000,  0.0000,\n",
       "          0.0000,  0.0000,  0.0000,  0.0000,  0.0000,  0.0000,  0.0000,  0.0000,\n",
       "          0.0000,  0.0000,  1.0000]])"
      ]
     },
     "execution_count": 21,
     "metadata": {},
     "output_type": "execute_result"
    }
   ],
   "source": [
    "vals,indices = t_indep.max(axis=0)\n",
    "t_indep = t_indep/vals\n",
    "t_indep[:5]"
   ]
  },
  {
   "cell_type": "markdown",
   "id": "83ca8717",
   "metadata": {
    "papermill": {
     "duration": 0.019044,
     "end_time": "2025-08-22T23:21:26.676914",
     "exception": false,
     "start_time": "2025-08-22T23:21:26.657870",
     "status": "completed"
    },
    "tags": []
   },
   "source": [
    "This looks better -- all the values are in the same range."
   ]
  },
  {
   "cell_type": "code",
   "execution_count": 22,
   "id": "c0845e64",
   "metadata": {
    "execution": {
     "iopub.execute_input": "2025-08-22T23:21:26.717685Z",
     "iopub.status.busy": "2025-08-22T23:21:26.717334Z",
     "iopub.status.idle": "2025-08-22T23:21:26.723278Z",
     "shell.execute_reply": "2025-08-22T23:21:26.722322Z"
    },
    "papermill": {
     "duration": 0.028464,
     "end_time": "2025-08-22T23:21:26.724999",
     "exception": false,
     "start_time": "2025-08-22T23:21:26.696535",
     "status": "completed"
    },
    "tags": []
   },
   "outputs": [
    {
     "name": "stdout",
     "output_type": "stream",
     "text": [
      "torch.Size([750000, 51])\n",
      "torch.Size([750000])\n"
     ]
    }
   ],
   "source": [
    "print(t_indep.shape)\n",
    "print(t_dep.shape)"
   ]
  },
  {
   "cell_type": "markdown",
   "id": "88d254b8",
   "metadata": {
    "papermill": {
     "duration": 0.019088,
     "end_time": "2025-08-22T23:21:26.763812",
     "exception": false,
     "start_time": "2025-08-22T23:21:26.744724",
     "status": "completed"
    },
    "tags": []
   },
   "source": [
    "## Set up the linear model"
   ]
  },
  {
   "cell_type": "markdown",
   "id": "d3f83018",
   "metadata": {
    "papermill": {
     "duration": 0.019168,
     "end_time": "2025-08-22T23:21:26.803589",
     "exception": false,
     "start_time": "2025-08-22T23:21:26.784421",
     "status": "completed"
    },
    "tags": []
   },
   "source": [
    "Initialize the coefficients:"
   ]
  },
  {
   "cell_type": "code",
   "execution_count": 23,
   "id": "a2893f7b",
   "metadata": {
    "execution": {
     "iopub.execute_input": "2025-08-22T23:21:26.844659Z",
     "iopub.status.busy": "2025-08-22T23:21:26.844287Z",
     "iopub.status.idle": "2025-08-22T23:21:26.857498Z",
     "shell.execute_reply": "2025-08-22T23:21:26.856453Z"
    },
    "papermill": {
     "duration": 0.036203,
     "end_time": "2025-08-22T23:21:26.859203",
     "exception": false,
     "start_time": "2025-08-22T23:21:26.823000",
     "status": "completed"
    },
    "tags": []
   },
   "outputs": [
    {
     "data": {
      "text/plain": [
       "tensor([-0.0632, -0.3418, -0.0804,  0.4263, -0.0714,  0.4875,  0.2222, -0.1356,\n",
       "         0.1539, -0.1130,  0.3872,  0.4888,  0.3987, -0.2294,  0.2511, -0.1612,\n",
       "        -0.4703, -0.4803, -0.0257, -0.3464, -0.4420,  0.1535,  0.2670, -0.2511,\n",
       "         0.1075, -0.1975,  0.0960, -0.1806,  0.2681,  0.3231,  0.3130, -0.4513,\n",
       "         0.1557, -0.0590, -0.1533,  0.3615,  0.0842,  0.3928, -0.4278, -0.4163,\n",
       "         0.2589, -0.2240,  0.1916,  0.4230,  0.4617,  0.1050, -0.2288, -0.3404,\n",
       "         0.4678, -0.3953, -0.4404])"
      ]
     },
     "execution_count": 23,
     "metadata": {},
     "output_type": "execute_result"
    }
   ],
   "source": [
    "n_coeffs = t_indep.shape[1]\n",
    "coeffs = torch.rand(n_coeffs)-0.5\n",
    "coeffs"
   ]
  },
  {
   "cell_type": "markdown",
   "id": "73d2c256",
   "metadata": {
    "papermill": {
     "duration": 0.019415,
     "end_time": "2025-08-22T23:21:26.898214",
     "exception": false,
     "start_time": "2025-08-22T23:21:26.878799",
     "status": "completed"
    },
    "tags": []
   },
   "source": [
    "It's a binary classification, so we pass predictions through a sigmoid function to get all outputs in the [0,1] range."
   ]
  },
  {
   "cell_type": "code",
   "execution_count": 24,
   "id": "7d9df534",
   "metadata": {
    "execution": {
     "iopub.execute_input": "2025-08-22T23:21:26.939601Z",
     "iopub.status.busy": "2025-08-22T23:21:26.939227Z",
     "iopub.status.idle": "2025-08-22T23:21:26.966594Z",
     "shell.execute_reply": "2025-08-22T23:21:26.965560Z"
    },
    "papermill": {
     "duration": 0.05053,
     "end_time": "2025-08-22T23:21:26.968273",
     "exception": false,
     "start_time": "2025-08-22T23:21:26.917743",
     "status": "completed"
    },
    "tags": []
   },
   "outputs": [
    {
     "data": {
      "text/plain": [
       "tensor([0.2837, 0.2782, 0.4612, 0.5040, 0.2207, 0.5859, 0.4607, 0.5205, 0.5828,\n",
       "        0.7272])"
      ]
     },
     "execution_count": 24,
     "metadata": {},
     "output_type": "execute_result"
    }
   ],
   "source": [
    "preds = torch.sigmoid(t_indep@coeffs)\n",
    "preds[:10]"
   ]
  },
  {
   "cell_type": "markdown",
   "id": "4a2ebdba",
   "metadata": {
    "papermill": {
     "duration": 0.021218,
     "end_time": "2025-08-22T23:21:27.014234",
     "exception": false,
     "start_time": "2025-08-22T23:21:26.993016",
     "status": "completed"
    },
    "tags": []
   },
   "source": [
    "Mean absolute error is our loss function:"
   ]
  },
  {
   "cell_type": "code",
   "execution_count": 25,
   "id": "7dc71a0d",
   "metadata": {
    "execution": {
     "iopub.execute_input": "2025-08-22T23:21:27.056963Z",
     "iopub.status.busy": "2025-08-22T23:21:27.056659Z",
     "iopub.status.idle": "2025-08-22T23:21:27.067426Z",
     "shell.execute_reply": "2025-08-22T23:21:27.066568Z"
    },
    "papermill": {
     "duration": 0.033968,
     "end_time": "2025-08-22T23:21:27.069010",
     "exception": false,
     "start_time": "2025-08-22T23:21:27.035042",
     "status": "completed"
    },
    "tags": []
   },
   "outputs": [
    {
     "data": {
      "text/plain": [
       "tensor(0.4885)"
      ]
     },
     "execution_count": 25,
     "metadata": {},
     "output_type": "execute_result"
    }
   ],
   "source": [
    "loss = torch.abs(preds-t_dep).mean()\n",
    "loss"
   ]
  },
  {
   "cell_type": "markdown",
   "id": "622e6077",
   "metadata": {
    "papermill": {
     "duration": 0.020549,
     "end_time": "2025-08-22T23:21:27.110130",
     "exception": false,
     "start_time": "2025-08-22T23:21:27.089581",
     "status": "completed"
    },
    "tags": []
   },
   "source": [
    "Now, let's make these into functions:"
   ]
  },
  {
   "cell_type": "code",
   "execution_count": 26,
   "id": "8d8a2630",
   "metadata": {
    "execution": {
     "iopub.execute_input": "2025-08-22T23:21:27.151264Z",
     "iopub.status.busy": "2025-08-22T23:21:27.150893Z",
     "iopub.status.idle": "2025-08-22T23:21:27.156274Z",
     "shell.execute_reply": "2025-08-22T23:21:27.155330Z"
    },
    "papermill": {
     "duration": 0.027641,
     "end_time": "2025-08-22T23:21:27.157792",
     "exception": false,
     "start_time": "2025-08-22T23:21:27.130151",
     "status": "completed"
    },
    "tags": []
   },
   "outputs": [],
   "source": [
    "def calc_preds(indeps, coeffs):\n",
    "    return torch.sigmoid(indeps@coeffs)\n",
    "\n",
    "def calc_loss(indeps, deps, coeffs):\n",
    "    return (torch.abs(calc_preds(indeps, coeffs)-deps)).mean()"
   ]
  },
  {
   "cell_type": "markdown",
   "id": "27353862",
   "metadata": {
    "papermill": {
     "duration": 0.020046,
     "end_time": "2025-08-22T23:21:27.197817",
     "exception": false,
     "start_time": "2025-08-22T23:21:27.177771",
     "status": "completed"
    },
    "tags": []
   },
   "source": [
    "## Setting up gradient descent step"
   ]
  },
  {
   "cell_type": "code",
   "execution_count": 27,
   "id": "3596061c",
   "metadata": {
    "execution": {
     "iopub.execute_input": "2025-08-22T23:21:27.239989Z",
     "iopub.status.busy": "2025-08-22T23:21:27.239296Z",
     "iopub.status.idle": "2025-08-22T23:21:27.246618Z",
     "shell.execute_reply": "2025-08-22T23:21:27.245790Z"
    },
    "papermill": {
     "duration": 0.029816,
     "end_time": "2025-08-22T23:21:27.248043",
     "exception": false,
     "start_time": "2025-08-22T23:21:27.218227",
     "status": "completed"
    },
    "tags": []
   },
   "outputs": [
    {
     "data": {
      "text/plain": [
       "tensor([-0.0632, -0.3418, -0.0804,  0.4263, -0.0714,  0.4875,  0.2222, -0.1356,\n",
       "         0.1539, -0.1130,  0.3872,  0.4888,  0.3987, -0.2294,  0.2511, -0.1612,\n",
       "        -0.4703, -0.4803, -0.0257, -0.3464, -0.4420,  0.1535,  0.2670, -0.2511,\n",
       "         0.1075, -0.1975,  0.0960, -0.1806,  0.2681,  0.3231,  0.3130, -0.4513,\n",
       "         0.1557, -0.0590, -0.1533,  0.3615,  0.0842,  0.3928, -0.4278, -0.4163,\n",
       "         0.2589, -0.2240,  0.1916,  0.4230,  0.4617,  0.1050, -0.2288, -0.3404,\n",
       "         0.4678, -0.3953, -0.4404], requires_grad=True)"
      ]
     },
     "execution_count": 27,
     "metadata": {},
     "output_type": "execute_result"
    }
   ],
   "source": [
    "coeffs.requires_grad_()"
   ]
  },
  {
   "cell_type": "code",
   "execution_count": 28,
   "id": "8cf3c153",
   "metadata": {
    "execution": {
     "iopub.execute_input": "2025-08-22T23:21:27.289635Z",
     "iopub.status.busy": "2025-08-22T23:21:27.289309Z",
     "iopub.status.idle": "2025-08-22T23:21:27.316194Z",
     "shell.execute_reply": "2025-08-22T23:21:27.315180Z"
    },
    "papermill": {
     "duration": 0.049484,
     "end_time": "2025-08-22T23:21:27.317994",
     "exception": false,
     "start_time": "2025-08-22T23:21:27.268510",
     "status": "completed"
    },
    "tags": []
   },
   "outputs": [
    {
     "data": {
      "text/plain": [
       "tensor(0.4885, grad_fn=<MeanBackward0>)"
      ]
     },
     "execution_count": 28,
     "metadata": {},
     "output_type": "execute_result"
    }
   ],
   "source": [
    "loss = calc_loss(t_indep, t_dep, coeffs)\n",
    "loss"
   ]
  },
  {
   "cell_type": "code",
   "execution_count": 29,
   "id": "b08a1aec",
   "metadata": {
    "execution": {
     "iopub.execute_input": "2025-08-22T23:21:27.360739Z",
     "iopub.status.busy": "2025-08-22T23:21:27.360402Z",
     "iopub.status.idle": "2025-08-22T23:21:27.390246Z",
     "shell.execute_reply": "2025-08-22T23:21:27.389199Z"
    },
    "papermill": {
     "duration": 0.053638,
     "end_time": "2025-08-22T23:21:27.392083",
     "exception": false,
     "start_time": "2025-08-22T23:21:27.338445",
     "status": "completed"
    },
    "tags": []
   },
   "outputs": [],
   "source": [
    "loss.backward()"
   ]
  },
  {
   "cell_type": "code",
   "execution_count": 30,
   "id": "c7b9b87e",
   "metadata": {
    "execution": {
     "iopub.execute_input": "2025-08-22T23:21:27.434335Z",
     "iopub.status.busy": "2025-08-22T23:21:27.433677Z",
     "iopub.status.idle": "2025-08-22T23:21:27.440758Z",
     "shell.execute_reply": "2025-08-22T23:21:27.439815Z"
    },
    "papermill": {
     "duration": 0.0294,
     "end_time": "2025-08-22T23:21:27.442290",
     "exception": false,
     "start_time": "2025-08-22T23:21:27.412890",
     "status": "completed"
    },
    "tags": []
   },
   "outputs": [
    {
     "data": {
      "text/plain": [
       "tensor([ 7.3235e-02,  9.0491e-02,  5.1538e-02, -9.4734e-03,  9.3741e-02,\n",
       "         4.7720e-02,  1.7964e-03,  1.8665e-02,  4.5584e-02,  4.4824e-03,\n",
       "         4.1240e-03,  3.6079e-02,  5.5954e-03,  4.2399e-03,  1.6544e-02,\n",
       "         1.1624e-03,  2.9859e-02,  3.1367e-03,  6.7360e-04,  1.7254e-02,\n",
       "         1.1516e-01,  3.7734e-02,  2.5561e-02,  9.4317e-02,  4.5511e-02,\n",
       "         4.7585e-03,  1.6682e-01,  3.3302e-03,  6.5632e-02,  1.0451e-01,\n",
       "         1.4434e-01,  2.5804e-02,  9.9415e-02,  6.9011e-03,  6.3831e-02,\n",
       "         6.4903e-03,  3.0299e-02, -1.0631e-05,  6.4381e-03,  3.9659e-03,\n",
       "         2.7578e-02,  2.1293e-02, -2.3512e-04,  5.9120e-02,  1.5313e-02,\n",
       "         6.3953e-05, -1.6922e-04,  9.1965e-03,  2.0124e-03, -2.7034e-03,\n",
       "         1.6164e-01])"
      ]
     },
     "execution_count": 30,
     "metadata": {},
     "output_type": "execute_result"
    }
   ],
   "source": [
    "coeffs.grad"
   ]
  },
  {
   "cell_type": "code",
   "execution_count": 31,
   "id": "2ed40462",
   "metadata": {
    "execution": {
     "iopub.execute_input": "2025-08-22T23:21:27.483995Z",
     "iopub.status.busy": "2025-08-22T23:21:27.483655Z",
     "iopub.status.idle": "2025-08-22T23:21:27.521639Z",
     "shell.execute_reply": "2025-08-22T23:21:27.520594Z"
    },
    "papermill": {
     "duration": 0.060911,
     "end_time": "2025-08-22T23:21:27.523305",
     "exception": false,
     "start_time": "2025-08-22T23:21:27.462394",
     "status": "completed"
    },
    "tags": []
   },
   "outputs": [
    {
     "name": "stdout",
     "output_type": "stream",
     "text": [
      "tensor(0.4851)\n"
     ]
    }
   ],
   "source": [
    "loss = calc_loss(t_indep, t_dep, coeffs)\n",
    "loss.backward()\n",
    "with torch.no_grad():\n",
    "    coeffs.sub_(coeffs.grad*0.01)\n",
    "    coeffs.grad.zero_()\n",
    "    print(calc_loss(t_indep, t_dep, coeffs))"
   ]
  },
  {
   "cell_type": "markdown",
   "id": "42e600dc",
   "metadata": {
    "papermill": {
     "duration": 0.019873,
     "end_time": "2025-08-22T23:21:27.567060",
     "exception": false,
     "start_time": "2025-08-22T23:21:27.547187",
     "status": "completed"
    },
    "tags": []
   },
   "source": [
    "So, this is one gradient descent step; we need to do this over many epochs of training:"
   ]
  },
  {
   "cell_type": "markdown",
   "id": "ddb27e6b",
   "metadata": {
    "papermill": {
     "duration": 0.021297,
     "end_time": "2025-08-22T23:21:27.608631",
     "exception": false,
     "start_time": "2025-08-22T23:21:27.587334",
     "status": "completed"
    },
    "tags": []
   },
   "source": [
    "## Training the linear model"
   ]
  },
  {
   "cell_type": "markdown",
   "id": "f042eaef",
   "metadata": {
    "papermill": {
     "duration": 0.020933,
     "end_time": "2025-08-22T23:21:27.650041",
     "exception": false,
     "start_time": "2025-08-22T23:21:27.629108",
     "status": "completed"
    },
    "tags": []
   },
   "source": [
    "Going for a stratefied split since the classes are pretty imbalanced."
   ]
  },
  {
   "cell_type": "code",
   "execution_count": 32,
   "id": "3918099d",
   "metadata": {
    "execution": {
     "iopub.execute_input": "2025-08-22T23:21:27.696271Z",
     "iopub.status.busy": "2025-08-22T23:21:27.695944Z",
     "iopub.status.idle": "2025-08-22T23:21:29.809650Z",
     "shell.execute_reply": "2025-08-22T23:21:29.808301Z"
    },
    "papermill": {
     "duration": 2.141421,
     "end_time": "2025-08-22T23:21:29.811572",
     "exception": false,
     "start_time": "2025-08-22T23:21:27.670151",
     "status": "completed"
    },
    "tags": []
   },
   "outputs": [],
   "source": [
    "from sklearn.model_selection import StratifiedShuffleSplit\n",
    "\n",
    "splitter = StratifiedShuffleSplit(n_splits=1, test_size=0.2, random_state=42)\n",
    "train_idx, val_idx = next(splitter.split(t_indep, t_dep))"
   ]
  },
  {
   "cell_type": "code",
   "execution_count": 33,
   "id": "fc08465d",
   "metadata": {
    "execution": {
     "iopub.execute_input": "2025-08-22T23:21:29.862555Z",
     "iopub.status.busy": "2025-08-22T23:21:29.862041Z",
     "iopub.status.idle": "2025-08-22T23:21:30.338088Z",
     "shell.execute_reply": "2025-08-22T23:21:30.337060Z"
    },
    "papermill": {
     "duration": 0.506385,
     "end_time": "2025-08-22T23:21:30.339708",
     "exception": false,
     "start_time": "2025-08-22T23:21:29.833323",
     "status": "completed"
    },
    "tags": []
   },
   "outputs": [
    {
     "name": "stdout",
     "output_type": "stream",
     "text": [
      "600000 150000\n"
     ]
    }
   ],
   "source": [
    "trn_indep, val_indep = t_indep[train_idx], t_indep[val_idx]\n",
    "trn_dep, val_dep = t_dep[train_idx], t_dep[val_idx]\n",
    "print(len(trn_indep), len(val_indep))"
   ]
  },
  {
   "cell_type": "markdown",
   "id": "e3363f6a",
   "metadata": {
    "papermill": {
     "duration": 0.020741,
     "end_time": "2025-08-22T23:21:30.382074",
     "exception": false,
     "start_time": "2025-08-22T23:21:30.361333",
     "status": "completed"
    },
    "tags": []
   },
   "source": [
    "Creating functions for: initializing coefficients, updating coefficients, and 1 gradient descent step."
   ]
  },
  {
   "cell_type": "code",
   "execution_count": 34,
   "id": "6b9e4225",
   "metadata": {
    "execution": {
     "iopub.execute_input": "2025-08-22T23:21:30.425541Z",
     "iopub.status.busy": "2025-08-22T23:21:30.425157Z",
     "iopub.status.idle": "2025-08-22T23:21:30.430150Z",
     "shell.execute_reply": "2025-08-22T23:21:30.428720Z"
    },
    "papermill": {
     "duration": 0.028888,
     "end_time": "2025-08-22T23:21:30.431822",
     "exception": false,
     "start_time": "2025-08-22T23:21:30.402934",
     "status": "completed"
    },
    "tags": []
   },
   "outputs": [],
   "source": [
    "def init_coeffs():\n",
    "    return (torch.rand(n_coeffs)-0.5).requires_grad_()"
   ]
  },
  {
   "cell_type": "code",
   "execution_count": 35,
   "id": "f7b369f5",
   "metadata": {
    "execution": {
     "iopub.execute_input": "2025-08-22T23:21:30.475418Z",
     "iopub.status.busy": "2025-08-22T23:21:30.475074Z",
     "iopub.status.idle": "2025-08-22T23:21:30.481075Z",
     "shell.execute_reply": "2025-08-22T23:21:30.480091Z"
    },
    "papermill": {
     "duration": 0.029474,
     "end_time": "2025-08-22T23:21:30.482846",
     "exception": false,
     "start_time": "2025-08-22T23:21:30.453372",
     "status": "completed"
    },
    "tags": []
   },
   "outputs": [],
   "source": [
    "def update_coeffs(coeffs, lr):\n",
    "    coeffs.sub_(coeffs.grad*lr)\n",
    "    coeffs.grad.zero_()"
   ]
  },
  {
   "cell_type": "code",
   "execution_count": 36,
   "id": "bf6bcf40",
   "metadata": {
    "execution": {
     "iopub.execute_input": "2025-08-22T23:21:30.529376Z",
     "iopub.status.busy": "2025-08-22T23:21:30.528518Z",
     "iopub.status.idle": "2025-08-22T23:21:30.533865Z",
     "shell.execute_reply": "2025-08-22T23:21:30.532951Z"
    },
    "papermill": {
     "duration": 0.030396,
     "end_time": "2025-08-22T23:21:30.535523",
     "exception": false,
     "start_time": "2025-08-22T23:21:30.505127",
     "status": "completed"
    },
    "tags": []
   },
   "outputs": [],
   "source": [
    "def one_epoch(coeffs, lr):\n",
    "    loss = calc_loss(trn_indep, trn_dep, coeffs)\n",
    "    loss.backward()\n",
    "    with torch.no_grad():\n",
    "        update_coeffs(coeffs,lr)\n",
    "    print(f'{loss:.3f}', end='; ')"
   ]
  },
  {
   "cell_type": "markdown",
   "id": "4a28217f",
   "metadata": {
    "papermill": {
     "duration": 0.020046,
     "end_time": "2025-08-22T23:21:30.578463",
     "exception": false,
     "start_time": "2025-08-22T23:21:30.558417",
     "status": "completed"
    },
    "tags": []
   },
   "source": [
    "Now, create a function to train the model over many epochs:"
   ]
  },
  {
   "cell_type": "code",
   "execution_count": 37,
   "id": "6bf5899e",
   "metadata": {
    "execution": {
     "iopub.execute_input": "2025-08-22T23:21:30.621433Z",
     "iopub.status.busy": "2025-08-22T23:21:30.621096Z",
     "iopub.status.idle": "2025-08-22T23:21:30.626298Z",
     "shell.execute_reply": "2025-08-22T23:21:30.625097Z"
    },
    "papermill": {
     "duration": 0.029055,
     "end_time": "2025-08-22T23:21:30.628083",
     "exception": false,
     "start_time": "2025-08-22T23:21:30.599028",
     "status": "completed"
    },
    "tags": []
   },
   "outputs": [],
   "source": [
    "def train_model(epochs=30, lr=0.01):\n",
    "    coeffs = init_coeffs()\n",
    "    for i in range(epochs):\n",
    "        one_epoch(coeffs, lr=lr)\n",
    "    return coeffs"
   ]
  },
  {
   "cell_type": "markdown",
   "id": "8138a561",
   "metadata": {
    "papermill": {
     "duration": 0.019754,
     "end_time": "2025-08-22T23:21:30.668022",
     "exception": false,
     "start_time": "2025-08-22T23:21:30.648268",
     "status": "completed"
    },
    "tags": []
   },
   "source": [
    "Now let's try it. Should see the loss decreasing over the epochs."
   ]
  },
  {
   "cell_type": "code",
   "execution_count": 38,
   "id": "fecf56e1",
   "metadata": {
    "execution": {
     "iopub.execute_input": "2025-08-22T23:21:30.710156Z",
     "iopub.status.busy": "2025-08-22T23:21:30.709788Z",
     "iopub.status.idle": "2025-08-22T23:21:30.916723Z",
     "shell.execute_reply": "2025-08-22T23:21:30.915726Z"
    },
    "papermill": {
     "duration": 0.230426,
     "end_time": "2025-08-22T23:21:30.918587",
     "exception": false,
     "start_time": "2025-08-22T23:21:30.688161",
     "status": "completed"
    },
    "tags": []
   },
   "outputs": [
    {
     "name": "stdout",
     "output_type": "stream",
     "text": [
      "0.354; 0.341; 0.329; 0.318; 0.307; 0.297; 0.288; 0.280; 0.272; 0.264; "
     ]
    }
   ],
   "source": [
    "coeffs = train_model(epochs=10, lr=0.1)"
   ]
  },
  {
   "cell_type": "code",
   "execution_count": 39,
   "id": "09715c8c",
   "metadata": {
    "execution": {
     "iopub.execute_input": "2025-08-22T23:21:30.965840Z",
     "iopub.status.busy": "2025-08-22T23:21:30.965398Z",
     "iopub.status.idle": "2025-08-22T23:21:30.988989Z",
     "shell.execute_reply": "2025-08-22T23:21:30.987507Z"
    },
    "papermill": {
     "duration": 0.049611,
     "end_time": "2025-08-22T23:21:30.991010",
     "exception": false,
     "start_time": "2025-08-22T23:21:30.941399",
     "status": "completed"
    },
    "tags": []
   },
   "outputs": [
    {
     "data": {
      "text/plain": [
       "{'age': tensor(-0.0762),\n",
       " 'day': tensor(0.2940),\n",
       " 'log.balance': tensor(-0.2445),\n",
       " 'log.pdays': tensor(0.2032),\n",
       " 'log.duration': tensor(0.0983),\n",
       " 'log.campaign': tensor(-0.3407),\n",
       " 'log.previous': tensor(-0.3577),\n",
       " 'job_admin.': tensor(-0.2500),\n",
       " 'job_blue-collar': tensor(-0.2124),\n",
       " 'job_entrepreneur': tensor(0.4680),\n",
       " 'job_housemaid': tensor(-0.4329),\n",
       " 'job_management': tensor(-0.2255),\n",
       " 'job_retired': tensor(0.1643),\n",
       " 'job_self-employed': tensor(-0.4834),\n",
       " 'job_services': tensor(0.3113),\n",
       " 'job_student': tensor(0.3908),\n",
       " 'job_technician': tensor(0.3886),\n",
       " 'job_unemployed': tensor(-0.4326),\n",
       " 'job_unknown': tensor(0.2938),\n",
       " 'marital_divorced': tensor(0.2252),\n",
       " 'marital_married': tensor(-0.4710),\n",
       " 'marital_single': tensor(-0.4167),\n",
       " 'education_primary': tensor(-0.3751),\n",
       " 'education_secondary': tensor(-0.3429),\n",
       " 'education_tertiary': tensor(0.2679),\n",
       " 'education_unknown': tensor(-0.1488),\n",
       " 'default_no': tensor(0.0477),\n",
       " 'default_yes': tensor(0.4464),\n",
       " 'housing_no': tensor(-0.1802),\n",
       " 'housing_yes': tensor(-0.2089),\n",
       " 'loan_no': tensor(-0.0376),\n",
       " 'loan_yes': tensor(-0.4929),\n",
       " 'contact_cellular': tensor(0.1416),\n",
       " 'contact_telephone': tensor(0.1487),\n",
       " 'contact_unknown': tensor(-0.3766),\n",
       " 'month_apr': tensor(-0.3264),\n",
       " 'month_aug': tensor(-0.4990),\n",
       " 'month_dec': tensor(0.0678),\n",
       " 'month_feb': tensor(0.4708),\n",
       " 'month_jan': tensor(0.0865),\n",
       " 'month_jul': tensor(-0.3506),\n",
       " 'month_jun': tensor(-0.1041),\n",
       " 'month_mar': tensor(-0.2526),\n",
       " 'month_may': tensor(-0.1924),\n",
       " 'month_nov': tensor(0.2911),\n",
       " 'month_oct': tensor(-0.0468),\n",
       " 'month_sep': tensor(-0.4945),\n",
       " 'poutcome_failure': tensor(-0.5037),\n",
       " 'poutcome_other': tensor(0.0105),\n",
       " 'poutcome_success': tensor(-0.3662),\n",
       " 'poutcome_unknown': tensor(-0.5281)}"
      ]
     },
     "execution_count": 39,
     "metadata": {},
     "output_type": "execute_result"
    }
   ],
   "source": [
    "def show_coeffs():\n",
    "    return dict(zip(indep_cols, coeffs.requires_grad_(False)))\n",
    "\n",
    "show_coeffs()"
   ]
  },
  {
   "cell_type": "markdown",
   "id": "bf152baf",
   "metadata": {
    "papermill": {
     "duration": 0.02644,
     "end_time": "2025-08-22T23:21:31.038187",
     "exception": false,
     "start_time": "2025-08-22T23:21:31.011747",
     "status": "completed"
    },
    "tags": []
   },
   "source": [
    "## Measuring accuracy\n",
    "\n",
    "Now, we measure the performance of this model on the validation set"
   ]
  },
  {
   "cell_type": "code",
   "execution_count": 40,
   "id": "ec2a2347",
   "metadata": {
    "execution": {
     "iopub.execute_input": "2025-08-22T23:21:31.081506Z",
     "iopub.status.busy": "2025-08-22T23:21:31.081177Z",
     "iopub.status.idle": "2025-08-22T23:21:31.089692Z",
     "shell.execute_reply": "2025-08-22T23:21:31.088672Z"
    },
    "papermill": {
     "duration": 0.031943,
     "end_time": "2025-08-22T23:21:31.091379",
     "exception": false,
     "start_time": "2025-08-22T23:21:31.059436",
     "status": "completed"
    },
    "tags": []
   },
   "outputs": [
    {
     "data": {
      "text/plain": [
       "tensor([0.0581, 0.0952, 0.1315, 0.1229, 0.1671, 0.1091, 0.1538, 0.3212, 0.1677,\n",
       "        0.3312])"
      ]
     },
     "execution_count": 40,
     "metadata": {},
     "output_type": "execute_result"
    }
   ],
   "source": [
    "preds = calc_preds(val_indep, coeffs)\n",
    "preds[:10]"
   ]
  },
  {
   "cell_type": "markdown",
   "id": "df0d6cb1",
   "metadata": {
    "papermill": {
     "duration": 0.020325,
     "end_time": "2025-08-22T23:21:31.132646",
     "exception": false,
     "start_time": "2025-08-22T23:21:31.112321",
     "status": "completed"
    },
    "tags": []
   },
   "source": [
    "We'll interpret that predictions below 0.5 indicate a False (0) prediction for the dependent variable."
   ]
  },
  {
   "cell_type": "code",
   "execution_count": 41,
   "id": "9d36e30c",
   "metadata": {
    "execution": {
     "iopub.execute_input": "2025-08-22T23:21:31.178342Z",
     "iopub.status.busy": "2025-08-22T23:21:31.177991Z",
     "iopub.status.idle": "2025-08-22T23:21:31.184054Z",
     "shell.execute_reply": "2025-08-22T23:21:31.182994Z"
    },
    "papermill": {
     "duration": 0.031349,
     "end_time": "2025-08-22T23:21:31.186089",
     "exception": false,
     "start_time": "2025-08-22T23:21:31.154740",
     "status": "completed"
    },
    "tags": []
   },
   "outputs": [],
   "source": [
    "results = val_dep.bool() == (preds>0.5)"
   ]
  },
  {
   "cell_type": "code",
   "execution_count": 42,
   "id": "9f223241",
   "metadata": {
    "execution": {
     "iopub.execute_input": "2025-08-22T23:21:31.231438Z",
     "iopub.status.busy": "2025-08-22T23:21:31.231139Z",
     "iopub.status.idle": "2025-08-22T23:21:31.238372Z",
     "shell.execute_reply": "2025-08-22T23:21:31.237316Z"
    },
    "papermill": {
     "duration": 0.030427,
     "end_time": "2025-08-22T23:21:31.240159",
     "exception": false,
     "start_time": "2025-08-22T23:21:31.209732",
     "status": "completed"
    },
    "tags": []
   },
   "outputs": [
    {
     "data": {
      "text/plain": [
       "tensor([ True,  True,  True,  True,  True,  True,  True,  True, False,  True])"
      ]
     },
     "execution_count": 42,
     "metadata": {},
     "output_type": "execute_result"
    }
   ],
   "source": [
    "results[:10]"
   ]
  },
  {
   "cell_type": "code",
   "execution_count": 43,
   "id": "ea5d508e",
   "metadata": {
    "execution": {
     "iopub.execute_input": "2025-08-22T23:21:31.288361Z",
     "iopub.status.busy": "2025-08-22T23:21:31.288054Z",
     "iopub.status.idle": "2025-08-22T23:21:31.294673Z",
     "shell.execute_reply": "2025-08-22T23:21:31.293833Z"
    },
    "papermill": {
     "duration": 0.032499,
     "end_time": "2025-08-22T23:21:31.296458",
     "exception": false,
     "start_time": "2025-08-22T23:21:31.263959",
     "status": "completed"
    },
    "tags": []
   },
   "outputs": [
    {
     "data": {
      "text/plain": [
       "tensor(0.8727)"
      ]
     },
     "execution_count": 43,
     "metadata": {},
     "output_type": "execute_result"
    }
   ],
   "source": [
    "results.float().mean()"
   ]
  },
  {
   "cell_type": "markdown",
   "id": "22e74154",
   "metadata": {
    "papermill": {
     "duration": 0.020865,
     "end_time": "2025-08-22T23:21:31.338613",
     "exception": false,
     "start_time": "2025-08-22T23:21:31.317748",
     "status": "completed"
    },
    "tags": []
   },
   "source": [
    "Let's make this a function:"
   ]
  },
  {
   "cell_type": "code",
   "execution_count": 44,
   "id": "8016d5fc",
   "metadata": {
    "execution": {
     "iopub.execute_input": "2025-08-22T23:21:31.382247Z",
     "iopub.status.busy": "2025-08-22T23:21:31.381901Z",
     "iopub.status.idle": "2025-08-22T23:21:31.390206Z",
     "shell.execute_reply": "2025-08-22T23:21:31.389236Z"
    },
    "papermill": {
     "duration": 0.031843,
     "end_time": "2025-08-22T23:21:31.391841",
     "exception": false,
     "start_time": "2025-08-22T23:21:31.359998",
     "status": "completed"
    },
    "tags": []
   },
   "outputs": [
    {
     "data": {
      "text/plain": [
       "tensor(0.8727)"
      ]
     },
     "execution_count": 44,
     "metadata": {},
     "output_type": "execute_result"
    }
   ],
   "source": [
    "def acc(deps, preds):\n",
    "    res = deps.bool() == (preds>0.5)\n",
    "    return res.float().mean()\n",
    "\n",
    "acc(val_dep,preds)"
   ]
  },
  {
   "cell_type": "markdown",
   "id": "6f9f86a5",
   "metadata": {
    "papermill": {
     "duration": 0.021143,
     "end_time": "2025-08-22T23:21:31.434325",
     "exception": false,
     "start_time": "2025-08-22T23:21:31.413182",
     "status": "completed"
    },
    "tags": []
   },
   "source": [
    "However, for this competition, the metric used is ROC AUC, so let's calculate that, too:"
   ]
  },
  {
   "cell_type": "code",
   "execution_count": 45,
   "id": "ce8149a3",
   "metadata": {
    "execution": {
     "iopub.execute_input": "2025-08-22T23:21:31.481257Z",
     "iopub.status.busy": "2025-08-22T23:21:31.480943Z",
     "iopub.status.idle": "2025-08-22T23:21:31.545692Z",
     "shell.execute_reply": "2025-08-22T23:21:31.544753Z"
    },
    "papermill": {
     "duration": 0.090635,
     "end_time": "2025-08-22T23:21:31.547443",
     "exception": false,
     "start_time": "2025-08-22T23:21:31.456808",
     "status": "completed"
    },
    "tags": []
   },
   "outputs": [
    {
     "data": {
      "text/plain": [
       "0.627178611731114"
      ]
     },
     "execution_count": 45,
     "metadata": {},
     "output_type": "execute_result"
    }
   ],
   "source": [
    "from sklearn.metrics import roc_auc_score\n",
    "\n",
    "roc_auc_scr = roc_auc_score(val_dep, preds)\n",
    "roc_auc_scr"
   ]
  },
  {
   "cell_type": "markdown",
   "id": "928d52fc",
   "metadata": {
    "papermill": {
     "duration": 0.020658,
     "end_time": "2025-08-22T23:21:31.591121",
     "exception": false,
     "start_time": "2025-08-22T23:21:31.570463",
     "status": "completed"
    },
    "tags": []
   },
   "source": [
    "Let's make ROC AUC calculation a function, too:"
   ]
  },
  {
   "cell_type": "code",
   "execution_count": 46,
   "id": "4ef0479d",
   "metadata": {
    "execution": {
     "iopub.execute_input": "2025-08-22T23:21:31.636129Z",
     "iopub.status.busy": "2025-08-22T23:21:31.635738Z",
     "iopub.status.idle": "2025-08-22T23:21:31.688142Z",
     "shell.execute_reply": "2025-08-22T23:21:31.687214Z"
    },
    "papermill": {
     "duration": 0.07634,
     "end_time": "2025-08-22T23:21:31.689906",
     "exception": false,
     "start_time": "2025-08-22T23:21:31.613566",
     "status": "completed"
    },
    "tags": []
   },
   "outputs": [
    {
     "data": {
      "text/plain": [
       "0.627178611731114"
      ]
     },
     "execution_count": 46,
     "metadata": {},
     "output_type": "execute_result"
    }
   ],
   "source": [
    "def roc_auc(truth,preds):\n",
    "    return roc_auc_score(truth,preds)\n",
    "\n",
    "roc_auc(val_dep,preds)"
   ]
  },
  {
   "cell_type": "code",
   "execution_count": 47,
   "id": "ba40a05c",
   "metadata": {
    "execution": {
     "iopub.execute_input": "2025-08-22T23:21:31.734659Z",
     "iopub.status.busy": "2025-08-22T23:21:31.734324Z",
     "iopub.status.idle": "2025-08-22T23:21:31.998230Z",
     "shell.execute_reply": "2025-08-22T23:21:31.996953Z"
    },
    "papermill": {
     "duration": 0.287466,
     "end_time": "2025-08-22T23:21:32.000120",
     "exception": false,
     "start_time": "2025-08-22T23:21:31.712654",
     "status": "completed"
    },
    "tags": []
   },
   "outputs": [
    {
     "data": {
      "image/png": "[encoded data removed]",
      "text/plain": [
       "<Figure size 640x480 with 1 Axes>"
      ]
     },
     "metadata": {},
     "output_type": "display_data"
    }
   ],
   "source": [
    "from sklearn.metrics import roc_curve\n",
    "\n",
    "fpr, tpr, thresholds = roc_curve(val_dep, preds)\n",
    "\n",
    "plt.plot(fpr, tpr, label=f'ROC AUC = {roc_auc_scr:.3f}')\n",
    "plt.plot([0, 1], [0, 1], linestyle='--', color='gray')  # Diagonal line\n",
    "plt.xlabel('False Positive Rate')\n",
    "plt.ylabel('True Positive Rate')\n",
    "plt.title('ROC Curve')\n",
    "plt.legend()\n",
    "plt.grid()\n",
    "plt.show()"
   ]
  },
  {
   "cell_type": "markdown",
   "id": "9249d34c",
   "metadata": {
    "papermill": {
     "duration": 0.02186,
     "end_time": "2025-08-22T23:21:32.046153",
     "exception": false,
     "start_time": "2025-08-22T23:21:32.024293",
     "status": "completed"
    },
    "tags": []
   },
   "source": [
    "## Submitting to Kaggle"
   ]
  },
  {
   "cell_type": "code",
   "execution_count": 48,
   "id": "ff091e6b",
   "metadata": {
    "execution": {
     "iopub.execute_input": "2025-08-22T23:21:32.091228Z",
     "iopub.status.busy": "2025-08-22T23:21:32.090901Z",
     "iopub.status.idle": "2025-08-22T23:21:32.861978Z",
     "shell.execute_reply": "2025-08-22T23:21:32.861004Z"
    },
    "papermill": {
     "duration": 0.795981,
     "end_time": "2025-08-22T23:21:32.864046",
     "exception": false,
     "start_time": "2025-08-22T23:21:32.068065",
     "status": "completed"
    },
    "tags": []
   },
   "outputs": [
    {
     "data": {
      "text/html": [
       "<div>\n",
       "<style scoped>\n",
       "    .dataframe tbody tr th:only-of-type {\n",
       "        vertical-align: middle;\n",
       "    }\n",
       "\n",
       "    .dataframe tbody tr th {\n",
       "        vertical-align: top;\n",
       "    }\n",
       "\n",
       "    .dataframe thead th {\n",
       "        text-align: right;\n",
       "    }\n",
       "</style>\n",
       "<table border=\"1\" class=\"dataframe\">\n",
       "  <thead>\n",
       "    <tr style=\"text-align: right;\">\n",
       "      <th></th>\n",
       "      <th>id</th>\n",
       "      <th>age</th>\n",
       "      <th>job</th>\n",
       "      <th>marital</th>\n",
       "      <th>education</th>\n",
       "      <th>default</th>\n",
       "      <th>balance</th>\n",
       "      <th>housing</th>\n",
       "      <th>loan</th>\n",
       "      <th>contact</th>\n",
       "      <th>day</th>\n",
       "      <th>month</th>\n",
       "      <th>duration</th>\n",
       "      <th>campaign</th>\n",
       "      <th>pdays</th>\n",
       "      <th>previous</th>\n",
       "      <th>poutcome</th>\n",
       "    </tr>\n",
       "  </thead>\n",
       "  <tbody>\n",
       "    <tr>\n",
       "      <th>0</th>\n",
       "      <td>750000</td>\n",
       "      <td>32</td>\n",
       "      <td>blue-collar</td>\n",
       "      <td>married</td>\n",
       "      <td>secondary</td>\n",
       "      <td>no</td>\n",
       "      <td>1397</td>\n",
       "      <td>yes</td>\n",
       "      <td>no</td>\n",
       "      <td>unknown</td>\n",
       "      <td>21</td>\n",
       "      <td>may</td>\n",
       "      <td>224</td>\n",
       "      <td>1</td>\n",
       "      <td>-1</td>\n",
       "      <td>0</td>\n",
       "      <td>unknown</td>\n",
       "    </tr>\n",
       "    <tr>\n",
       "      <th>1</th>\n",
       "      <td>750001</td>\n",
       "      <td>44</td>\n",
       "      <td>management</td>\n",
       "      <td>married</td>\n",
       "      <td>tertiary</td>\n",
       "      <td>no</td>\n",
       "      <td>23</td>\n",
       "      <td>yes</td>\n",
       "      <td>no</td>\n",
       "      <td>cellular</td>\n",
       "      <td>3</td>\n",
       "      <td>apr</td>\n",
       "      <td>586</td>\n",
       "      <td>2</td>\n",
       "      <td>-1</td>\n",
       "      <td>0</td>\n",
       "      <td>unknown</td>\n",
       "    </tr>\n",
       "    <tr>\n",
       "      <th>2</th>\n",
       "      <td>750002</td>\n",
       "      <td>36</td>\n",
       "      <td>self-employed</td>\n",
       "      <td>married</td>\n",
       "      <td>primary</td>\n",
       "      <td>no</td>\n",
       "      <td>46</td>\n",
       "      <td>yes</td>\n",
       "      <td>yes</td>\n",
       "      <td>cellular</td>\n",
       "      <td>13</td>\n",
       "      <td>may</td>\n",
       "      <td>111</td>\n",
       "      <td>2</td>\n",
       "      <td>-1</td>\n",
       "      <td>0</td>\n",
       "      <td>unknown</td>\n",
       "    </tr>\n",
       "    <tr>\n",
       "      <th>3</th>\n",
       "      <td>750003</td>\n",
       "      <td>58</td>\n",
       "      <td>blue-collar</td>\n",
       "      <td>married</td>\n",
       "      <td>secondary</td>\n",
       "      <td>no</td>\n",
       "      <td>-1380</td>\n",
       "      <td>yes</td>\n",
       "      <td>yes</td>\n",
       "      <td>unknown</td>\n",
       "      <td>29</td>\n",
       "      <td>may</td>\n",
       "      <td>125</td>\n",
       "      <td>1</td>\n",
       "      <td>-1</td>\n",
       "      <td>0</td>\n",
       "      <td>unknown</td>\n",
       "    </tr>\n",
       "    <tr>\n",
       "      <th>4</th>\n",
       "      <td>750004</td>\n",
       "      <td>28</td>\n",
       "      <td>technician</td>\n",
       "      <td>single</td>\n",
       "      <td>secondary</td>\n",
       "      <td>no</td>\n",
       "      <td>1950</td>\n",
       "      <td>yes</td>\n",
       "      <td>no</td>\n",
       "      <td>cellular</td>\n",
       "      <td>22</td>\n",
       "      <td>jul</td>\n",
       "      <td>181</td>\n",
       "      <td>1</td>\n",
       "      <td>-1</td>\n",
       "      <td>0</td>\n",
       "      <td>unknown</td>\n",
       "    </tr>\n",
       "    <tr>\n",
       "      <th>...</th>\n",
       "      <td>...</td>\n",
       "      <td>...</td>\n",
       "      <td>...</td>\n",
       "      <td>...</td>\n",
       "      <td>...</td>\n",
       "      <td>...</td>\n",
       "      <td>...</td>\n",
       "      <td>...</td>\n",
       "      <td>...</td>\n",
       "      <td>...</td>\n",
       "      <td>...</td>\n",
       "      <td>...</td>\n",
       "      <td>...</td>\n",
       "      <td>...</td>\n",
       "      <td>...</td>\n",
       "      <td>...</td>\n",
       "      <td>...</td>\n",
       "    </tr>\n",
       "    <tr>\n",
       "      <th>249995</th>\n",
       "      <td>999995</td>\n",
       "      <td>43</td>\n",
       "      <td>management</td>\n",
       "      <td>married</td>\n",
       "      <td>tertiary</td>\n",
       "      <td>no</td>\n",
       "      <td>0</td>\n",
       "      <td>yes</td>\n",
       "      <td>no</td>\n",
       "      <td>cellular</td>\n",
       "      <td>18</td>\n",
       "      <td>nov</td>\n",
       "      <td>65</td>\n",
       "      <td>2</td>\n",
       "      <td>-1</td>\n",
       "      <td>0</td>\n",
       "      <td>unknown</td>\n",
       "    </tr>\n",
       "    <tr>\n",
       "      <th>249996</th>\n",
       "      <td>999996</td>\n",
       "      <td>40</td>\n",
       "      <td>services</td>\n",
       "      <td>married</td>\n",
       "      <td>unknown</td>\n",
       "      <td>no</td>\n",
       "      <td>522</td>\n",
       "      <td>yes</td>\n",
       "      <td>no</td>\n",
       "      <td>cellular</td>\n",
       "      <td>19</td>\n",
       "      <td>nov</td>\n",
       "      <td>531</td>\n",
       "      <td>1</td>\n",
       "      <td>189</td>\n",
       "      <td>1</td>\n",
       "      <td>failure</td>\n",
       "    </tr>\n",
       "    <tr>\n",
       "      <th>249997</th>\n",
       "      <td>999997</td>\n",
       "      <td>63</td>\n",
       "      <td>retired</td>\n",
       "      <td>married</td>\n",
       "      <td>primary</td>\n",
       "      <td>no</td>\n",
       "      <td>33</td>\n",
       "      <td>no</td>\n",
       "      <td>no</td>\n",
       "      <td>cellular</td>\n",
       "      <td>3</td>\n",
       "      <td>jul</td>\n",
       "      <td>178</td>\n",
       "      <td>1</td>\n",
       "      <td>92</td>\n",
       "      <td>8</td>\n",
       "      <td>success</td>\n",
       "    </tr>\n",
       "    <tr>\n",
       "      <th>249998</th>\n",
       "      <td>999998</td>\n",
       "      <td>50</td>\n",
       "      <td>blue-collar</td>\n",
       "      <td>married</td>\n",
       "      <td>primary</td>\n",
       "      <td>no</td>\n",
       "      <td>2629</td>\n",
       "      <td>yes</td>\n",
       "      <td>no</td>\n",
       "      <td>unknown</td>\n",
       "      <td>30</td>\n",
       "      <td>may</td>\n",
       "      <td>163</td>\n",
       "      <td>2</td>\n",
       "      <td>-1</td>\n",
       "      <td>0</td>\n",
       "      <td>unknown</td>\n",
       "    </tr>\n",
       "    <tr>\n",
       "      <th>249999</th>\n",
       "      <td>999999</td>\n",
       "      <td>29</td>\n",
       "      <td>student</td>\n",
       "      <td>single</td>\n",
       "      <td>tertiary</td>\n",
       "      <td>no</td>\n",
       "      <td>722</td>\n",
       "      <td>no</td>\n",
       "      <td>no</td>\n",
       "      <td>cellular</td>\n",
       "      <td>6</td>\n",
       "      <td>apr</td>\n",
       "      <td>119</td>\n",
       "      <td>1</td>\n",
       "      <td>-1</td>\n",
       "      <td>0</td>\n",
       "      <td>unknown</td>\n",
       "    </tr>\n",
       "  </tbody>\n",
       "</table>\n",
       "<p>250000 rows × 17 columns</p>\n",
       "</div>"
      ],
      "text/plain": [
       "            id  age            job  marital  education default  balance  \\\n",
       "0       750000   32    blue-collar  married  secondary      no     1397   \n",
       "1       750001   44     management  married   tertiary      no       23   \n",
       "2       750002   36  self-employed  married    primary      no       46   \n",
       "3       750003   58    blue-collar  married  secondary      no    -1380   \n",
       "4       750004   28     technician   single  secondary      no     1950   \n",
       "...        ...  ...            ...      ...        ...     ...      ...   \n",
       "249995  999995   43     management  married   tertiary      no        0   \n",
       "249996  999996   40       services  married    unknown      no      522   \n",
       "249997  999997   63        retired  married    primary      no       33   \n",
       "249998  999998   50    blue-collar  married    primary      no     2629   \n",
       "249999  999999   29        student   single   tertiary      no      722   \n",
       "\n",
       "       housing loan   contact  day month  duration  campaign  pdays  previous  \\\n",
       "0          yes   no   unknown   21   may       224         1     -1         0   \n",
       "1          yes   no  cellular    3   apr       586         2     -1         0   \n",
       "2          yes  yes  cellular   13   may       111         2     -1         0   \n",
       "3          yes  yes   unknown   29   may       125         1     -1         0   \n",
       "4          yes   no  cellular   22   jul       181         1     -1         0   \n",
       "...        ...  ...       ...  ...   ...       ...       ...    ...       ...   \n",
       "249995     yes   no  cellular   18   nov        65         2     -1         0   \n",
       "249996     yes   no  cellular   19   nov       531         1    189         1   \n",
       "249997      no   no  cellular    3   jul       178         1     92         8   \n",
       "249998     yes   no   unknown   30   may       163         2     -1         0   \n",
       "249999      no   no  cellular    6   apr       119         1     -1         0   \n",
       "\n",
       "       poutcome  \n",
       "0       unknown  \n",
       "1       unknown  \n",
       "2       unknown  \n",
       "3       unknown  \n",
       "4       unknown  \n",
       "...         ...  \n",
       "249995  unknown  \n",
       "249996  failure  \n",
       "249997  success  \n",
       "249998  unknown  \n",
       "249999  unknown  \n",
       "\n",
       "[250000 rows x 17 columns]"
      ]
     },
     "execution_count": 48,
     "metadata": {},
     "output_type": "execute_result"
    }
   ],
   "source": [
    "tst_df = pd.read_csv(f'{path}/test.csv')\n",
    "tst_df"
   ]
  },
  {
   "cell_type": "code",
   "execution_count": 49,
   "id": "edd68db5",
   "metadata": {
    "execution": {
     "iopub.execute_input": "2025-08-22T23:21:32.913577Z",
     "iopub.status.busy": "2025-08-22T23:21:32.913222Z",
     "iopub.status.idle": "2025-08-22T23:21:33.040759Z",
     "shell.execute_reply": "2025-08-22T23:21:33.039453Z"
    },
    "papermill": {
     "duration": 0.154143,
     "end_time": "2025-08-22T23:21:33.042879",
     "exception": false,
     "start_time": "2025-08-22T23:21:32.888736",
     "status": "completed"
    },
    "tags": []
   },
   "outputs": [
    {
     "data": {
      "text/plain": [
       "id           0\n",
       "age          0\n",
       "job          0\n",
       "marital      0\n",
       "education    0\n",
       "default      0\n",
       "balance      0\n",
       "housing      0\n",
       "loan         0\n",
       "contact      0\n",
       "day          0\n",
       "month        0\n",
       "duration     0\n",
       "campaign     0\n",
       "pdays        0\n",
       "previous     0\n",
       "poutcome     0\n",
       "dtype: int64"
      ]
     },
     "execution_count": 49,
     "metadata": {},
     "output_type": "execute_result"
    }
   ],
   "source": [
    "tst_df.isna().sum()"
   ]
  },
  {
   "cell_type": "code",
   "execution_count": 50,
   "id": "b1e36cc3",
   "metadata": {
    "execution": {
     "iopub.execute_input": "2025-08-22T23:21:33.092460Z",
     "iopub.status.busy": "2025-08-22T23:21:33.091460Z",
     "iopub.status.idle": "2025-08-22T23:21:33.113918Z",
     "shell.execute_reply": "2025-08-22T23:21:33.112494Z"
    },
    "papermill": {
     "duration": 0.048784,
     "end_time": "2025-08-22T23:21:33.115703",
     "exception": false,
     "start_time": "2025-08-22T23:21:33.066919",
     "status": "completed"
    },
    "tags": []
   },
   "outputs": [],
   "source": [
    "tst_df['log.balance'] = np.sign(tst_df['balance']) * np.log1p(np.abs(tst_df['balance']))\n",
    "tst_df['log.pdays'] = np.sign(tst_df['pdays']) * np.log1p(np.abs(tst_df['pdays']))\n",
    "\n",
    "for colname in ['duration', 'campaign', 'previous']:\n",
    "    tst_df[f'log.{colname}'] = np.log1p(tst_df[colname])"
   ]
  },
  {
   "cell_type": "code",
   "execution_count": 51,
   "id": "b39437fb",
   "metadata": {
    "execution": {
     "iopub.execute_input": "2025-08-22T23:21:33.166728Z",
     "iopub.status.busy": "2025-08-22T23:21:33.166255Z",
     "iopub.status.idle": "2025-08-22T23:21:33.365122Z",
     "shell.execute_reply": "2025-08-22T23:21:33.364255Z"
    },
    "papermill": {
     "duration": 0.224596,
     "end_time": "2025-08-22T23:21:33.366941",
     "exception": false,
     "start_time": "2025-08-22T23:21:33.142345",
     "status": "completed"
    },
    "tags": []
   },
   "outputs": [],
   "source": [
    "tst_df = pd.get_dummies(tst_df, columns=['job', 'marital', 'education', 'default', 'housing', 'loan', 'contact', 'month', 'poutcome'])"
   ]
  },
  {
   "cell_type": "code",
   "execution_count": 52,
   "id": "1e983a62",
   "metadata": {
    "execution": {
     "iopub.execute_input": "2025-08-22T23:21:33.414683Z",
     "iopub.status.busy": "2025-08-22T23:21:33.414359Z",
     "iopub.status.idle": "2025-08-22T23:21:33.570621Z",
     "shell.execute_reply": "2025-08-22T23:21:33.569727Z"
    },
    "papermill": {
     "duration": 0.182114,
     "end_time": "2025-08-22T23:21:33.572405",
     "exception": false,
     "start_time": "2025-08-22T23:21:33.390291",
     "status": "completed"
    },
    "tags": []
   },
   "outputs": [],
   "source": [
    "tst_df[indep_cols] = tst_df[indep_cols].astype(float)"
   ]
  },
  {
   "cell_type": "code",
   "execution_count": 53,
   "id": "a8917abe",
   "metadata": {
    "execution": {
     "iopub.execute_input": "2025-08-22T23:21:33.618553Z",
     "iopub.status.busy": "2025-08-22T23:21:33.618244Z",
     "iopub.status.idle": "2025-08-22T23:21:33.730708Z",
     "shell.execute_reply": "2025-08-22T23:21:33.729911Z"
    },
    "papermill": {
     "duration": 0.138062,
     "end_time": "2025-08-22T23:21:33.732674",
     "exception": false,
     "start_time": "2025-08-22T23:21:33.594612",
     "status": "completed"
    },
    "tags": []
   },
   "outputs": [],
   "source": [
    "tst_indep = tensor(tst_df[indep_cols].values, dtype=torch.float)"
   ]
  },
  {
   "cell_type": "code",
   "execution_count": 54,
   "id": "d88efc99",
   "metadata": {
    "execution": {
     "iopub.execute_input": "2025-08-22T23:21:33.780087Z",
     "iopub.status.busy": "2025-08-22T23:21:33.779713Z",
     "iopub.status.idle": "2025-08-22T23:21:33.790493Z",
     "shell.execute_reply": "2025-08-22T23:21:33.789611Z"
    },
    "papermill": {
     "duration": 0.03569,
     "end_time": "2025-08-22T23:21:33.791956",
     "exception": false,
     "start_time": "2025-08-22T23:21:33.756266",
     "status": "completed"
    },
    "tags": []
   },
   "outputs": [
    {
     "data": {
      "text/plain": [
       "0         0.449484\n",
       "1         0.011232\n",
       "2         0.077473\n",
       "3         0.960616\n",
       "4         0.787377\n",
       "            ...   \n",
       "249995    0.766474\n",
       "249996    0.835817\n",
       "249997    0.003017\n",
       "249998    0.671604\n",
       "249999    0.068916\n",
       "Name: y, Length: 250000, dtype: float32"
      ]
     },
     "execution_count": 54,
     "metadata": {},
     "output_type": "execute_result"
    }
   ],
   "source": [
    "tst_df['y'] = calc_preds(tst_indep, coeffs)\n",
    "tst_df['y']"
   ]
  },
  {
   "cell_type": "code",
   "execution_count": 55,
   "id": "3dd1afd1",
   "metadata": {
    "execution": {
     "iopub.execute_input": "2025-08-22T23:21:33.842317Z",
     "iopub.status.busy": "2025-08-22T23:21:33.842034Z",
     "iopub.status.idle": "2025-08-22T23:21:33.854046Z",
     "shell.execute_reply": "2025-08-22T23:21:33.852958Z"
    },
    "papermill": {
     "duration": 0.037252,
     "end_time": "2025-08-22T23:21:33.855609",
     "exception": false,
     "start_time": "2025-08-22T23:21:33.818357",
     "status": "completed"
    },
    "tags": []
   },
   "outputs": [
    {
     "data": {
      "text/html": [
       "<div>\n",
       "<style scoped>\n",
       "    .dataframe tbody tr th:only-of-type {\n",
       "        vertical-align: middle;\n",
       "    }\n",
       "\n",
       "    .dataframe tbody tr th {\n",
       "        vertical-align: top;\n",
       "    }\n",
       "\n",
       "    .dataframe thead th {\n",
       "        text-align: right;\n",
       "    }\n",
       "</style>\n",
       "<table border=\"1\" class=\"dataframe\">\n",
       "  <thead>\n",
       "    <tr style=\"text-align: right;\">\n",
       "      <th></th>\n",
       "      <th>id</th>\n",
       "      <th>y</th>\n",
       "    </tr>\n",
       "  </thead>\n",
       "  <tbody>\n",
       "    <tr>\n",
       "      <th>0</th>\n",
       "      <td>750000</td>\n",
       "      <td>0.449484</td>\n",
       "    </tr>\n",
       "    <tr>\n",
       "      <th>1</th>\n",
       "      <td>750001</td>\n",
       "      <td>0.011232</td>\n",
       "    </tr>\n",
       "    <tr>\n",
       "      <th>2</th>\n",
       "      <td>750002</td>\n",
       "      <td>0.077473</td>\n",
       "    </tr>\n",
       "    <tr>\n",
       "      <th>3</th>\n",
       "      <td>750003</td>\n",
       "      <td>0.960616</td>\n",
       "    </tr>\n",
       "    <tr>\n",
       "      <th>4</th>\n",
       "      <td>750004</td>\n",
       "      <td>0.787377</td>\n",
       "    </tr>\n",
       "    <tr>\n",
       "      <th>...</th>\n",
       "      <td>...</td>\n",
       "      <td>...</td>\n",
       "    </tr>\n",
       "    <tr>\n",
       "      <th>249995</th>\n",
       "      <td>999995</td>\n",
       "      <td>0.766474</td>\n",
       "    </tr>\n",
       "    <tr>\n",
       "      <th>249996</th>\n",
       "      <td>999996</td>\n",
       "      <td>0.835817</td>\n",
       "    </tr>\n",
       "    <tr>\n",
       "      <th>249997</th>\n",
       "      <td>999997</td>\n",
       "      <td>0.003017</td>\n",
       "    </tr>\n",
       "    <tr>\n",
       "      <th>249998</th>\n",
       "      <td>999998</td>\n",
       "      <td>0.671604</td>\n",
       "    </tr>\n",
       "    <tr>\n",
       "      <th>249999</th>\n",
       "      <td>999999</td>\n",
       "      <td>0.068916</td>\n",
       "    </tr>\n",
       "  </tbody>\n",
       "</table>\n",
       "<p>250000 rows × 2 columns</p>\n",
       "</div>"
      ],
      "text/plain": [
       "            id         y\n",
       "0       750000  0.449484\n",
       "1       750001  0.011232\n",
       "2       750002  0.077473\n",
       "3       750003  0.960616\n",
       "4       750004  0.787377\n",
       "...        ...       ...\n",
       "249995  999995  0.766474\n",
       "249996  999996  0.835817\n",
       "249997  999997  0.003017\n",
       "249998  999998  0.671604\n",
       "249999  999999  0.068916\n",
       "\n",
       "[250000 rows x 2 columns]"
      ]
     },
     "execution_count": 55,
     "metadata": {},
     "output_type": "execute_result"
    }
   ],
   "source": [
    "sub_df = tst_df[['id','y']]\n",
    "sub_df"
   ]
  },
  {
   "cell_type": "code",
   "execution_count": 56,
   "id": "3fecad9e",
   "metadata": {
    "execution": {
     "iopub.execute_input": "2025-08-22T23:21:33.902654Z",
     "iopub.status.busy": "2025-08-22T23:21:33.902285Z",
     "iopub.status.idle": "2025-08-22T23:21:34.346720Z",
     "shell.execute_reply": "2025-08-22T23:21:34.345671Z"
    },
    "papermill": {
     "duration": 0.469739,
     "end_time": "2025-08-22T23:21:34.348640",
     "exception": false,
     "start_time": "2025-08-22T23:21:33.878901",
     "status": "completed"
    },
    "tags": []
   },
   "outputs": [],
   "source": [
    "sub_df.to_csv('sub0.csv', index=False)"
   ]
  },
  {
   "cell_type": "code",
   "execution_count": 57,
   "id": "88ece82e",
   "metadata": {
    "execution": {
     "iopub.execute_input": "2025-08-22T23:21:34.395150Z",
     "iopub.status.busy": "2025-08-22T23:21:34.394807Z",
     "iopub.status.idle": "2025-08-22T23:21:34.565887Z",
     "shell.execute_reply": "2025-08-22T23:21:34.564588Z"
    },
    "papermill": {
     "duration": 0.196978,
     "end_time": "2025-08-22T23:21:34.567984",
     "exception": false,
     "start_time": "2025-08-22T23:21:34.371006",
     "status": "completed"
    },
    "tags": []
   },
   "outputs": [
    {
     "name": "stdout",
     "output_type": "stream",
     "text": [
      "id,y\r\n",
      "750000,0.44948378\r\n",
      "750001,0.011232495\r\n",
      "750002,0.07747302\r\n",
      "750003,0.9606164\r\n",
      "750004,0.7873774\r\n",
      "750005,0.45212457\r\n",
      "750006,0.9745127\r\n",
      "750007,0.010753551\r\n",
      "750008,0.033379637\r\n"
     ]
    }
   ],
   "source": [
    "!head sub0.csv"
   ]
  },
  {
   "cell_type": "code",
   "execution_count": null,
   "id": "f782b4af",
   "metadata": {
    "papermill": {
     "duration": 0.023083,
     "end_time": "2025-08-22T23:21:34.614965",
     "exception": false,
     "start_time": "2025-08-22T23:21:34.591882",
     "status": "completed"
    },
    "tags": []
   },
   "outputs": [],
   "source": []
  }
 ],
 "metadata": {
  "kaggle": {
   "accelerator": "none",
   "dataSources": [
    {
     "databundleVersionId": 12937777,
     "sourceId": 91719,
     "sourceType": "competition"
    }
   ],
   "dockerImageVersionId": 31089,
   "isGpuEnabled": false,
   "isInternetEnabled": true,
   "language": "python",
   "sourceType": "notebook"
  },
  "kernelspec": {
   "display_name": "Python (path-class)",
   "language": "python",
   "name": "path-class"
  },
  "language_info": {
   "codemirror_mode": {
    "name": "ipython",
    "version": 3
   },
   "file_extension": ".py",
   "mimetype": "text/x-python",
   "name": "python",
   "nbconvert_exporter": "python",
   "pygments_lexer": "ipython3",
   "version": "3.10.18"
  },
  "papermill": {
   "default_parameters": {},
   "duration": 39.714703,
   "end_time": "2025-08-22T23:21:36.663869",
   "environment_variables": {},
   "exception": null,
   "input_path": "__notebook__.ipynb",
   "output_path": "__notebook__.ipynb",
   "parameters": {},
   "start_time": "2025-08-22T23:20:56.949166",
   "version": "2.6.0"
  }
 },
 "nbformat": 4,
 "nbformat_minor": 5
}
