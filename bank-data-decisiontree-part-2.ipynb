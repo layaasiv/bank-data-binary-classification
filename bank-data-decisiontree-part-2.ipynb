{
 "cells": [
  {
   "cell_type": "markdown",
   "id": "84aded17",
   "metadata": {},
   "source": [
    "## Decision tree\n",
    "\n",
    "Linear model performed really poorly, also many of the numerical features did not follow a normal distribution even after log transformation. \n",
    "\n",
    "In this part, I want to try a decision tree, which is much more robust to non-normal distributions, so might perform better with less data preprocessing. "
   ]
  },
  {
   "cell_type": "code",
   "execution_count": 1,
   "id": "8cbd01a8",
   "metadata": {},
   "outputs": [],
   "source": [
    "path = './playground-series-s5e8'"
   ]
  },
  {
   "cell_type": "code",
   "execution_count": 2,
   "id": "20c8e1bc",
   "metadata": {
    "_cell_guid": "b1076dfc-b9ad-4769-8c92-a6c4dae69d19",
    "_uuid": "8f2839f25d086af736a60e9eeb907d3b93b6e0e5",
    "execution": {
     "iopub.execute_input": "2025-08-23T05:08:55.298228Z",
     "iopub.status.busy": "2025-08-23T05:08:55.297896Z",
     "iopub.status.idle": "2025-08-23T05:08:56.963410Z",
     "shell.execute_reply": "2025-08-23T05:08:56.962556Z"
    },
    "papermill": {
     "duration": 1.675321,
     "end_time": "2025-08-23T05:08:56.964867",
     "exception": false,
     "start_time": "2025-08-23T05:08:55.289546",
     "status": "completed"
    },
    "tags": []
   },
   "outputs": [
    {
     "name": "stdout",
     "output_type": "stream",
     "text": [
      "./playground-series-s5e8/test.csv\n",
      "./playground-series-s5e8/train.csv\n",
      "./playground-series-s5e8/sample_submission.csv\n"
     ]
    }
   ],
   "source": [
    "import numpy as np, pandas as pd, os\n",
    "for dirname, _, filenames in os.walk(path):\n",
    "    for filename in filenames:\n",
    "        print(os.path.join(dirname, filename))"
   ]
  },
  {
   "cell_type": "code",
   "execution_count": 2,
   "id": "a25b19c4",
   "metadata": {
    "execution": {
     "iopub.execute_input": "2025-08-23T05:08:56.978804Z",
     "iopub.status.busy": "2025-08-23T05:08:56.978089Z",
     "iopub.status.idle": "2025-08-23T05:08:57.860582Z",
     "shell.execute_reply": "2025-08-23T05:08:57.859939Z"
    },
    "papermill": {
     "duration": 0.890598,
     "end_time": "2025-08-23T05:08:57.862036",
     "exception": false,
     "start_time": "2025-08-23T05:08:56.971438",
     "status": "completed"
    },
    "tags": []
   },
   "outputs": [],
   "source": [
    "from fastai.imports import *\n",
    "np.set_printoptions(linewidth=130)"
   ]
  },
  {
   "cell_type": "markdown",
   "id": "68ea1be4",
   "metadata": {
    "papermill": {
     "duration": 0.005955,
     "end_time": "2025-08-23T05:08:57.874547",
     "exception": false,
     "start_time": "2025-08-23T05:08:57.868592",
     "status": "completed"
    },
    "tags": []
   },
   "source": [
    "## Looking at the data"
   ]
  },
  {
   "cell_type": "code",
   "execution_count": 3,
   "id": "eb964d31",
   "metadata": {
    "execution": {
     "iopub.execute_input": "2025-08-23T05:08:57.888824Z",
     "iopub.status.busy": "2025-08-23T05:08:57.888030Z",
     "iopub.status.idle": "2025-08-23T05:08:57.891768Z",
     "shell.execute_reply": "2025-08-23T05:08:57.891192Z"
    },
    "papermill": {
     "duration": 0.011563,
     "end_time": "2025-08-23T05:08:57.892847",
     "exception": false,
     "start_time": "2025-08-23T05:08:57.881284",
     "status": "completed"
    },
    "tags": []
   },
   "outputs": [],
   "source": [
    "import matplotlib.pyplot as plt"
   ]
  },
  {
   "cell_type": "code",
   "execution_count": 4,
   "id": "2116f4c7",
   "metadata": {
    "execution": {
     "iopub.execute_input": "2025-08-23T05:08:57.905874Z",
     "iopub.status.busy": "2025-08-23T05:08:57.905635Z",
     "iopub.status.idle": "2025-08-23T05:08:59.944394Z",
     "shell.execute_reply": "2025-08-23T05:08:59.943508Z"
    },
    "papermill": {
     "duration": 2.046858,
     "end_time": "2025-08-23T05:08:59.945704",
     "exception": false,
     "start_time": "2025-08-23T05:08:57.898846",
     "status": "completed"
    },
    "tags": []
   },
   "outputs": [
    {
     "data": {
      "text/html": [
       "<div>\n",
       "<style scoped>\n",
       "    .dataframe tbody tr th:only-of-type {\n",
       "        vertical-align: middle;\n",
       "    }\n",
       "\n",
       "    .dataframe tbody tr th {\n",
       "        vertical-align: top;\n",
       "    }\n",
       "\n",
       "    .dataframe thead th {\n",
       "        text-align: right;\n",
       "    }\n",
       "</style>\n",
       "<table border=\"1\" class=\"dataframe\">\n",
       "  <thead>\n",
       "    <tr style=\"text-align: right;\">\n",
       "      <th></th>\n",
       "      <th>id</th>\n",
       "      <th>age</th>\n",
       "      <th>job</th>\n",
       "      <th>marital</th>\n",
       "      <th>education</th>\n",
       "      <th>default</th>\n",
       "      <th>balance</th>\n",
       "      <th>housing</th>\n",
       "      <th>loan</th>\n",
       "      <th>contact</th>\n",
       "      <th>day</th>\n",
       "      <th>month</th>\n",
       "      <th>duration</th>\n",
       "      <th>campaign</th>\n",
       "      <th>pdays</th>\n",
       "      <th>previous</th>\n",
       "      <th>poutcome</th>\n",
       "      <th>y</th>\n",
       "    </tr>\n",
       "  </thead>\n",
       "  <tbody>\n",
       "    <tr>\n",
       "      <th>0</th>\n",
       "      <td>0</td>\n",
       "      <td>42</td>\n",
       "      <td>technician</td>\n",
       "      <td>married</td>\n",
       "      <td>secondary</td>\n",
       "      <td>no</td>\n",
       "      <td>7</td>\n",
       "      <td>no</td>\n",
       "      <td>no</td>\n",
       "      <td>cellular</td>\n",
       "      <td>25</td>\n",
       "      <td>aug</td>\n",
       "      <td>117</td>\n",
       "      <td>3</td>\n",
       "      <td>-1</td>\n",
       "      <td>0</td>\n",
       "      <td>unknown</td>\n",
       "      <td>0</td>\n",
       "    </tr>\n",
       "    <tr>\n",
       "      <th>1</th>\n",
       "      <td>1</td>\n",
       "      <td>38</td>\n",
       "      <td>blue-collar</td>\n",
       "      <td>married</td>\n",
       "      <td>secondary</td>\n",
       "      <td>no</td>\n",
       "      <td>514</td>\n",
       "      <td>no</td>\n",
       "      <td>no</td>\n",
       "      <td>unknown</td>\n",
       "      <td>18</td>\n",
       "      <td>jun</td>\n",
       "      <td>185</td>\n",
       "      <td>1</td>\n",
       "      <td>-1</td>\n",
       "      <td>0</td>\n",
       "      <td>unknown</td>\n",
       "      <td>0</td>\n",
       "    </tr>\n",
       "    <tr>\n",
       "      <th>2</th>\n",
       "      <td>2</td>\n",
       "      <td>36</td>\n",
       "      <td>blue-collar</td>\n",
       "      <td>married</td>\n",
       "      <td>secondary</td>\n",
       "      <td>no</td>\n",
       "      <td>602</td>\n",
       "      <td>yes</td>\n",
       "      <td>no</td>\n",
       "      <td>unknown</td>\n",
       "      <td>14</td>\n",
       "      <td>may</td>\n",
       "      <td>111</td>\n",
       "      <td>2</td>\n",
       "      <td>-1</td>\n",
       "      <td>0</td>\n",
       "      <td>unknown</td>\n",
       "      <td>0</td>\n",
       "    </tr>\n",
       "    <tr>\n",
       "      <th>3</th>\n",
       "      <td>3</td>\n",
       "      <td>27</td>\n",
       "      <td>student</td>\n",
       "      <td>single</td>\n",
       "      <td>secondary</td>\n",
       "      <td>no</td>\n",
       "      <td>34</td>\n",
       "      <td>yes</td>\n",
       "      <td>no</td>\n",
       "      <td>unknown</td>\n",
       "      <td>28</td>\n",
       "      <td>may</td>\n",
       "      <td>10</td>\n",
       "      <td>2</td>\n",
       "      <td>-1</td>\n",
       "      <td>0</td>\n",
       "      <td>unknown</td>\n",
       "      <td>0</td>\n",
       "    </tr>\n",
       "    <tr>\n",
       "      <th>4</th>\n",
       "      <td>4</td>\n",
       "      <td>26</td>\n",
       "      <td>technician</td>\n",
       "      <td>married</td>\n",
       "      <td>secondary</td>\n",
       "      <td>no</td>\n",
       "      <td>889</td>\n",
       "      <td>yes</td>\n",
       "      <td>no</td>\n",
       "      <td>cellular</td>\n",
       "      <td>3</td>\n",
       "      <td>feb</td>\n",
       "      <td>902</td>\n",
       "      <td>1</td>\n",
       "      <td>-1</td>\n",
       "      <td>0</td>\n",
       "      <td>unknown</td>\n",
       "      <td>1</td>\n",
       "    </tr>\n",
       "    <tr>\n",
       "      <th>...</th>\n",
       "      <td>...</td>\n",
       "      <td>...</td>\n",
       "      <td>...</td>\n",
       "      <td>...</td>\n",
       "      <td>...</td>\n",
       "      <td>...</td>\n",
       "      <td>...</td>\n",
       "      <td>...</td>\n",
       "      <td>...</td>\n",
       "      <td>...</td>\n",
       "      <td>...</td>\n",
       "      <td>...</td>\n",
       "      <td>...</td>\n",
       "      <td>...</td>\n",
       "      <td>...</td>\n",
       "      <td>...</td>\n",
       "      <td>...</td>\n",
       "      <td>...</td>\n",
       "    </tr>\n",
       "    <tr>\n",
       "      <th>749995</th>\n",
       "      <td>749995</td>\n",
       "      <td>29</td>\n",
       "      <td>services</td>\n",
       "      <td>single</td>\n",
       "      <td>secondary</td>\n",
       "      <td>no</td>\n",
       "      <td>1282</td>\n",
       "      <td>no</td>\n",
       "      <td>yes</td>\n",
       "      <td>unknown</td>\n",
       "      <td>4</td>\n",
       "      <td>jul</td>\n",
       "      <td>1006</td>\n",
       "      <td>2</td>\n",
       "      <td>-1</td>\n",
       "      <td>0</td>\n",
       "      <td>unknown</td>\n",
       "      <td>1</td>\n",
       "    </tr>\n",
       "    <tr>\n",
       "      <th>749996</th>\n",
       "      <td>749996</td>\n",
       "      <td>69</td>\n",
       "      <td>retired</td>\n",
       "      <td>divorced</td>\n",
       "      <td>tertiary</td>\n",
       "      <td>no</td>\n",
       "      <td>631</td>\n",
       "      <td>no</td>\n",
       "      <td>no</td>\n",
       "      <td>cellular</td>\n",
       "      <td>19</td>\n",
       "      <td>aug</td>\n",
       "      <td>87</td>\n",
       "      <td>1</td>\n",
       "      <td>-1</td>\n",
       "      <td>0</td>\n",
       "      <td>unknown</td>\n",
       "      <td>0</td>\n",
       "    </tr>\n",
       "    <tr>\n",
       "      <th>749997</th>\n",
       "      <td>749997</td>\n",
       "      <td>50</td>\n",
       "      <td>blue-collar</td>\n",
       "      <td>married</td>\n",
       "      <td>secondary</td>\n",
       "      <td>no</td>\n",
       "      <td>217</td>\n",
       "      <td>yes</td>\n",
       "      <td>no</td>\n",
       "      <td>cellular</td>\n",
       "      <td>17</td>\n",
       "      <td>apr</td>\n",
       "      <td>113</td>\n",
       "      <td>1</td>\n",
       "      <td>-1</td>\n",
       "      <td>0</td>\n",
       "      <td>unknown</td>\n",
       "      <td>0</td>\n",
       "    </tr>\n",
       "    <tr>\n",
       "      <th>749998</th>\n",
       "      <td>749998</td>\n",
       "      <td>32</td>\n",
       "      <td>technician</td>\n",
       "      <td>married</td>\n",
       "      <td>secondary</td>\n",
       "      <td>no</td>\n",
       "      <td>-274</td>\n",
       "      <td>no</td>\n",
       "      <td>no</td>\n",
       "      <td>cellular</td>\n",
       "      <td>26</td>\n",
       "      <td>aug</td>\n",
       "      <td>108</td>\n",
       "      <td>6</td>\n",
       "      <td>-1</td>\n",
       "      <td>0</td>\n",
       "      <td>unknown</td>\n",
       "      <td>0</td>\n",
       "    </tr>\n",
       "    <tr>\n",
       "      <th>749999</th>\n",
       "      <td>749999</td>\n",
       "      <td>42</td>\n",
       "      <td>technician</td>\n",
       "      <td>married</td>\n",
       "      <td>secondary</td>\n",
       "      <td>no</td>\n",
       "      <td>1559</td>\n",
       "      <td>no</td>\n",
       "      <td>no</td>\n",
       "      <td>cellular</td>\n",
       "      <td>4</td>\n",
       "      <td>aug</td>\n",
       "      <td>143</td>\n",
       "      <td>1</td>\n",
       "      <td>1</td>\n",
       "      <td>7</td>\n",
       "      <td>failure</td>\n",
       "      <td>0</td>\n",
       "    </tr>\n",
       "  </tbody>\n",
       "</table>\n",
       "<p>750000 rows × 18 columns</p>\n",
       "</div>"
      ],
      "text/plain": [
       "            id  age          job   marital  education default  balance  \\\n",
       "0            0   42   technician   married  secondary      no        7   \n",
       "1            1   38  blue-collar   married  secondary      no      514   \n",
       "2            2   36  blue-collar   married  secondary      no      602   \n",
       "3            3   27      student    single  secondary      no       34   \n",
       "4            4   26   technician   married  secondary      no      889   \n",
       "...        ...  ...          ...       ...        ...     ...      ...   \n",
       "749995  749995   29     services    single  secondary      no     1282   \n",
       "749996  749996   69      retired  divorced   tertiary      no      631   \n",
       "749997  749997   50  blue-collar   married  secondary      no      217   \n",
       "749998  749998   32   technician   married  secondary      no     -274   \n",
       "749999  749999   42   technician   married  secondary      no     1559   \n",
       "\n",
       "       housing loan   contact  day month  duration  campaign  pdays  previous  \\\n",
       "0           no   no  cellular   25   aug       117         3     -1         0   \n",
       "1           no   no   unknown   18   jun       185         1     -1         0   \n",
       "2          yes   no   unknown   14   may       111         2     -1         0   \n",
       "3          yes   no   unknown   28   may        10         2     -1         0   \n",
       "4          yes   no  cellular    3   feb       902         1     -1         0   \n",
       "...        ...  ...       ...  ...   ...       ...       ...    ...       ...   \n",
       "749995      no  yes   unknown    4   jul      1006         2     -1         0   \n",
       "749996      no   no  cellular   19   aug        87         1     -1         0   \n",
       "749997     yes   no  cellular   17   apr       113         1     -1         0   \n",
       "749998      no   no  cellular   26   aug       108         6     -1         0   \n",
       "749999      no   no  cellular    4   aug       143         1      1         7   \n",
       "\n",
       "       poutcome  y  \n",
       "0       unknown  0  \n",
       "1       unknown  0  \n",
       "2       unknown  0  \n",
       "3       unknown  0  \n",
       "4       unknown  1  \n",
       "...         ... ..  \n",
       "749995  unknown  1  \n",
       "749996  unknown  0  \n",
       "749997  unknown  0  \n",
       "749998  unknown  0  \n",
       "749999  failure  0  \n",
       "\n",
       "[750000 rows x 18 columns]"
      ]
     },
     "execution_count": 4,
     "metadata": {},
     "output_type": "execute_result"
    }
   ],
   "source": [
    "df = pd.read_csv(f'{path}/train.csv')\n",
    "df"
   ]
  },
  {
   "cell_type": "code",
   "execution_count": 5,
   "id": "08b0ed8e",
   "metadata": {
    "execution": {
     "iopub.execute_input": "2025-08-23T05:08:59.960355Z",
     "iopub.status.busy": "2025-08-23T05:08:59.959829Z",
     "iopub.status.idle": "2025-08-23T05:09:00.293022Z",
     "shell.execute_reply": "2025-08-23T05:09:00.292266Z"
    },
    "papermill": {
     "duration": 0.34167,
     "end_time": "2025-08-23T05:09:00.294326",
     "exception": false,
     "start_time": "2025-08-23T05:08:59.952656",
     "status": "completed"
    },
    "tags": []
   },
   "outputs": [
    {
     "data": {
      "text/plain": [
       "id           0\n",
       "age          0\n",
       "job          0\n",
       "marital      0\n",
       "education    0\n",
       "default      0\n",
       "balance      0\n",
       "housing      0\n",
       "loan         0\n",
       "contact      0\n",
       "day          0\n",
       "month        0\n",
       "duration     0\n",
       "campaign     0\n",
       "pdays        0\n",
       "previous     0\n",
       "poutcome     0\n",
       "y            0\n",
       "dtype: int64"
      ]
     },
     "execution_count": 5,
     "metadata": {},
     "output_type": "execute_result"
    }
   ],
   "source": [
    "df.isna().sum()"
   ]
  },
  {
   "cell_type": "markdown",
   "id": "91bb745c",
   "metadata": {
    "papermill": {
     "duration": 0.00659,
     "end_time": "2025-08-23T05:09:00.307667",
     "exception": false,
     "start_time": "2025-08-23T05:09:00.301077",
     "status": "completed"
    },
    "tags": []
   },
   "source": [
    "There are no missing values (at least no NaNs)."
   ]
  },
  {
   "cell_type": "markdown",
   "id": "a647dc71",
   "metadata": {
    "papermill": {
     "duration": 0.005927,
     "end_time": "2025-08-23T05:09:00.320097",
     "exception": false,
     "start_time": "2025-08-23T05:09:00.314170",
     "status": "completed"
    },
    "tags": []
   },
   "source": [
    "## Continuous variables"
   ]
  },
  {
   "cell_type": "code",
   "execution_count": 6,
   "id": "2c7aa204",
   "metadata": {
    "execution": {
     "iopub.execute_input": "2025-08-23T05:09:00.334029Z",
     "iopub.status.busy": "2025-08-23T05:09:00.333355Z",
     "iopub.status.idle": "2025-08-23T05:09:00.542920Z",
     "shell.execute_reply": "2025-08-23T05:09:00.542178Z"
    },
    "papermill": {
     "duration": 0.217921,
     "end_time": "2025-08-23T05:09:00.544318",
     "exception": false,
     "start_time": "2025-08-23T05:09:00.326397",
     "status": "completed"
    },
    "tags": []
   },
   "outputs": [
    {
     "data": {
      "text/html": [
       "<div>\n",
       "<style scoped>\n",
       "    .dataframe tbody tr th:only-of-type {\n",
       "        vertical-align: middle;\n",
       "    }\n",
       "\n",
       "    .dataframe tbody tr th {\n",
       "        vertical-align: top;\n",
       "    }\n",
       "\n",
       "    .dataframe thead th {\n",
       "        text-align: right;\n",
       "    }\n",
       "</style>\n",
       "<table border=\"1\" class=\"dataframe\">\n",
       "  <thead>\n",
       "    <tr style=\"text-align: right;\">\n",
       "      <th></th>\n",
       "      <th>id</th>\n",
       "      <th>age</th>\n",
       "      <th>balance</th>\n",
       "      <th>day</th>\n",
       "      <th>duration</th>\n",
       "      <th>campaign</th>\n",
       "      <th>pdays</th>\n",
       "      <th>previous</th>\n",
       "      <th>y</th>\n",
       "    </tr>\n",
       "  </thead>\n",
       "  <tbody>\n",
       "    <tr>\n",
       "      <th>count</th>\n",
       "      <td>750000.000000</td>\n",
       "      <td>750000.000000</td>\n",
       "      <td>750000.000000</td>\n",
       "      <td>750000.000000</td>\n",
       "      <td>750000.000000</td>\n",
       "      <td>750000.000000</td>\n",
       "      <td>750000.000000</td>\n",
       "      <td>750000.000000</td>\n",
       "      <td>750000.000000</td>\n",
       "    </tr>\n",
       "    <tr>\n",
       "      <th>mean</th>\n",
       "      <td>374999.500000</td>\n",
       "      <td>40.926395</td>\n",
       "      <td>1204.067397</td>\n",
       "      <td>16.117209</td>\n",
       "      <td>256.229144</td>\n",
       "      <td>2.577008</td>\n",
       "      <td>22.412733</td>\n",
       "      <td>0.298545</td>\n",
       "      <td>0.120651</td>\n",
       "    </tr>\n",
       "    <tr>\n",
       "      <th>std</th>\n",
       "      <td>216506.495284</td>\n",
       "      <td>10.098829</td>\n",
       "      <td>2836.096759</td>\n",
       "      <td>8.250832</td>\n",
       "      <td>272.555662</td>\n",
       "      <td>2.718514</td>\n",
       "      <td>77.319998</td>\n",
       "      <td>1.335926</td>\n",
       "      <td>0.325721</td>\n",
       "    </tr>\n",
       "    <tr>\n",
       "      <th>min</th>\n",
       "      <td>0.000000</td>\n",
       "      <td>18.000000</td>\n",
       "      <td>-8019.000000</td>\n",
       "      <td>1.000000</td>\n",
       "      <td>1.000000</td>\n",
       "      <td>1.000000</td>\n",
       "      <td>-1.000000</td>\n",
       "      <td>0.000000</td>\n",
       "      <td>0.000000</td>\n",
       "    </tr>\n",
       "    <tr>\n",
       "      <th>25%</th>\n",
       "      <td>187499.750000</td>\n",
       "      <td>33.000000</td>\n",
       "      <td>0.000000</td>\n",
       "      <td>9.000000</td>\n",
       "      <td>91.000000</td>\n",
       "      <td>1.000000</td>\n",
       "      <td>-1.000000</td>\n",
       "      <td>0.000000</td>\n",
       "      <td>0.000000</td>\n",
       "    </tr>\n",
       "    <tr>\n",
       "      <th>50%</th>\n",
       "      <td>374999.500000</td>\n",
       "      <td>39.000000</td>\n",
       "      <td>634.000000</td>\n",
       "      <td>17.000000</td>\n",
       "      <td>133.000000</td>\n",
       "      <td>2.000000</td>\n",
       "      <td>-1.000000</td>\n",
       "      <td>0.000000</td>\n",
       "      <td>0.000000</td>\n",
       "    </tr>\n",
       "    <tr>\n",
       "      <th>75%</th>\n",
       "      <td>562499.250000</td>\n",
       "      <td>48.000000</td>\n",
       "      <td>1390.000000</td>\n",
       "      <td>21.000000</td>\n",
       "      <td>361.000000</td>\n",
       "      <td>3.000000</td>\n",
       "      <td>-1.000000</td>\n",
       "      <td>0.000000</td>\n",
       "      <td>0.000000</td>\n",
       "    </tr>\n",
       "    <tr>\n",
       "      <th>max</th>\n",
       "      <td>749999.000000</td>\n",
       "      <td>95.000000</td>\n",
       "      <td>99717.000000</td>\n",
       "      <td>31.000000</td>\n",
       "      <td>4918.000000</td>\n",
       "      <td>63.000000</td>\n",
       "      <td>871.000000</td>\n",
       "      <td>200.000000</td>\n",
       "      <td>1.000000</td>\n",
       "    </tr>\n",
       "  </tbody>\n",
       "</table>\n",
       "</div>"
      ],
      "text/plain": [
       "                  id            age        balance            day  \\\n",
       "count  750000.000000  750000.000000  750000.000000  750000.000000   \n",
       "mean   374999.500000      40.926395    1204.067397      16.117209   \n",
       "std    216506.495284      10.098829    2836.096759       8.250832   \n",
       "min         0.000000      18.000000   -8019.000000       1.000000   \n",
       "25%    187499.750000      33.000000       0.000000       9.000000   \n",
       "50%    374999.500000      39.000000     634.000000      17.000000   \n",
       "75%    562499.250000      48.000000    1390.000000      21.000000   \n",
       "max    749999.000000      95.000000   99717.000000      31.000000   \n",
       "\n",
       "            duration       campaign          pdays       previous  \\\n",
       "count  750000.000000  750000.000000  750000.000000  750000.000000   \n",
       "mean      256.229144       2.577008      22.412733       0.298545   \n",
       "std       272.555662       2.718514      77.319998       1.335926   \n",
       "min         1.000000       1.000000      -1.000000       0.000000   \n",
       "25%        91.000000       1.000000      -1.000000       0.000000   \n",
       "50%       133.000000       2.000000      -1.000000       0.000000   \n",
       "75%       361.000000       3.000000      -1.000000       0.000000   \n",
       "max      4918.000000      63.000000     871.000000     200.000000   \n",
       "\n",
       "                   y  \n",
       "count  750000.000000  \n",
       "mean        0.120651  \n",
       "std         0.325721  \n",
       "min         0.000000  \n",
       "25%         0.000000  \n",
       "50%         0.000000  \n",
       "75%         0.000000  \n",
       "max         1.000000  "
      ]
     },
     "execution_count": 6,
     "metadata": {},
     "output_type": "execute_result"
    }
   ],
   "source": [
    "df.describe(include='number')"
   ]
  },
  {
   "cell_type": "code",
   "execution_count": 7,
   "id": "f094e85a",
   "metadata": {
    "execution": {
     "iopub.execute_input": "2025-08-23T05:09:00.559682Z",
     "iopub.status.busy": "2025-08-23T05:09:00.559443Z",
     "iopub.status.idle": "2025-08-23T05:09:00.571314Z",
     "shell.execute_reply": "2025-08-23T05:09:00.570698Z"
    },
    "papermill": {
     "duration": 0.020882,
     "end_time": "2025-08-23T05:09:00.572538",
     "exception": false,
     "start_time": "2025-08-23T05:09:00.551656",
     "status": "completed"
    },
    "tags": []
   },
   "outputs": [
    {
     "data": {
      "text/plain": [
       "array([0, 1])"
      ]
     },
     "execution_count": 7,
     "metadata": {},
     "output_type": "execute_result"
    }
   ],
   "source": [
    "df.y.unique()"
   ]
  },
  {
   "cell_type": "markdown",
   "id": "b6f27b23",
   "metadata": {
    "papermill": {
     "duration": 0.006346,
     "end_time": "2025-08-23T05:09:00.585730",
     "exception": false,
     "start_time": "2025-08-23T05:09:00.579384",
     "status": "completed"
    },
    "tags": []
   },
   "source": [
    "```id``` is a unique value for each row/sample, so don't have to take that into consideration. ```y``` is the dependent variable."
   ]
  },
  {
   "cell_type": "code",
   "execution_count": 8,
   "id": "ef410fec",
   "metadata": {
    "execution": {
     "iopub.execute_input": "2025-08-23T05:09:00.599355Z",
     "iopub.status.busy": "2025-08-23T05:09:00.599072Z",
     "iopub.status.idle": "2025-08-23T05:09:02.142711Z",
     "shell.execute_reply": "2025-08-23T05:09:02.141917Z"
    },
    "papermill": {
     "duration": 1.552804,
     "end_time": "2025-08-23T05:09:02.144942",
     "exception": false,
     "start_time": "2025-08-23T05:09:00.592138",
     "status": "completed"
    },
    "tags": []
   },
   "outputs": [
    {
     "data": {
      "image/png": "[encoded data removed]",
      "text/plain": [
       "<Figure size 1200x1000 with 9 Axes>"
      ]
     },
     "metadata": {},
     "output_type": "display_data"
    }
   ],
   "source": [
    "df_to_plot = df.select_dtypes(include='number').drop(columns=['id', 'y'])\n",
    "\n",
    "df_to_plot.hist(figsize=(12,10));\n",
    "plt.tight_layout()\n",
    "plt.show()"
   ]
  },
  {
   "cell_type": "code",
   "execution_count": 9,
   "id": "531ccd94",
   "metadata": {
    "execution": {
     "iopub.execute_input": "2025-08-23T05:09:02.162652Z",
     "iopub.status.busy": "2025-08-23T05:09:02.162026Z",
     "iopub.status.idle": "2025-08-23T05:09:02.175398Z",
     "shell.execute_reply": "2025-08-23T05:09:02.174759Z"
    },
    "papermill": {
     "duration": 0.022957,
     "end_time": "2025-08-23T05:09:02.176581",
     "exception": false,
     "start_time": "2025-08-23T05:09:02.153624",
     "status": "completed"
    },
    "tags": []
   },
   "outputs": [
    {
     "data": {
      "text/plain": [
       "pdays\n",
       "-1      672434\n",
       " 182      2515\n",
       " 92       2275\n",
       " 183      2074\n",
       " 181      1698\n",
       "         ...  \n",
       " 647         1\n",
       " 614         1\n",
       " 420         1\n",
       " 735         1\n",
       " 20          1\n",
       "Name: count, Length: 596, dtype: int64"
      ]
     },
     "execution_count": 9,
     "metadata": {},
     "output_type": "execute_result"
    }
   ],
   "source": [
    "df.pdays.value_counts()"
   ]
  },
  {
   "cell_type": "markdown",
   "id": "707fb02d",
   "metadata": {
    "papermill": {
     "duration": 0.007969,
     "end_time": "2025-08-23T05:09:02.192790",
     "exception": false,
     "start_time": "2025-08-23T05:09:02.184821",
     "status": "completed"
    },
    "tags": []
   },
   "source": [
    "## Categorical variables"
   ]
  },
  {
   "cell_type": "code",
   "execution_count": 10,
   "id": "b0d6d39f",
   "metadata": {
    "execution": {
     "iopub.execute_input": "2025-08-23T05:09:02.209286Z",
     "iopub.status.busy": "2025-08-23T05:09:02.208986Z",
     "iopub.status.idle": "2025-08-23T05:09:03.116296Z",
     "shell.execute_reply": "2025-08-23T05:09:03.115545Z"
    },
    "papermill": {
     "duration": 0.917042,
     "end_time": "2025-08-23T05:09:03.117569",
     "exception": false,
     "start_time": "2025-08-23T05:09:02.200527",
     "status": "completed"
    },
    "tags": []
   },
   "outputs": [
    {
     "data": {
      "text/html": [
       "<div>\n",
       "<style scoped>\n",
       "    .dataframe tbody tr th:only-of-type {\n",
       "        vertical-align: middle;\n",
       "    }\n",
       "\n",
       "    .dataframe tbody tr th {\n",
       "        vertical-align: top;\n",
       "    }\n",
       "\n",
       "    .dataframe thead th {\n",
       "        text-align: right;\n",
       "    }\n",
       "</style>\n",
       "<table border=\"1\" class=\"dataframe\">\n",
       "  <thead>\n",
       "    <tr style=\"text-align: right;\">\n",
       "      <th></th>\n",
       "      <th>job</th>\n",
       "      <th>marital</th>\n",
       "      <th>education</th>\n",
       "      <th>default</th>\n",
       "      <th>housing</th>\n",
       "      <th>loan</th>\n",
       "      <th>contact</th>\n",
       "      <th>month</th>\n",
       "      <th>poutcome</th>\n",
       "    </tr>\n",
       "  </thead>\n",
       "  <tbody>\n",
       "    <tr>\n",
       "      <th>count</th>\n",
       "      <td>750000</td>\n",
       "      <td>750000</td>\n",
       "      <td>750000</td>\n",
       "      <td>750000</td>\n",
       "      <td>750000</td>\n",
       "      <td>750000</td>\n",
       "      <td>750000</td>\n",
       "      <td>750000</td>\n",
       "      <td>750000</td>\n",
       "    </tr>\n",
       "    <tr>\n",
       "      <th>unique</th>\n",
       "      <td>12</td>\n",
       "      <td>3</td>\n",
       "      <td>4</td>\n",
       "      <td>2</td>\n",
       "      <td>2</td>\n",
       "      <td>2</td>\n",
       "      <td>3</td>\n",
       "      <td>12</td>\n",
       "      <td>4</td>\n",
       "    </tr>\n",
       "    <tr>\n",
       "      <th>top</th>\n",
       "      <td>management</td>\n",
       "      <td>married</td>\n",
       "      <td>secondary</td>\n",
       "      <td>no</td>\n",
       "      <td>yes</td>\n",
       "      <td>no</td>\n",
       "      <td>cellular</td>\n",
       "      <td>may</td>\n",
       "      <td>unknown</td>\n",
       "    </tr>\n",
       "    <tr>\n",
       "      <th>freq</th>\n",
       "      <td>175541</td>\n",
       "      <td>480759</td>\n",
       "      <td>401683</td>\n",
       "      <td>737151</td>\n",
       "      <td>411288</td>\n",
       "      <td>645023</td>\n",
       "      <td>486655</td>\n",
       "      <td>228411</td>\n",
       "      <td>672450</td>\n",
       "    </tr>\n",
       "  </tbody>\n",
       "</table>\n",
       "</div>"
      ],
      "text/plain": [
       "               job  marital  education default housing    loan   contact  \\\n",
       "count       750000   750000     750000  750000  750000  750000    750000   \n",
       "unique          12        3          4       2       2       2         3   \n",
       "top     management  married  secondary      no     yes      no  cellular   \n",
       "freq        175541   480759     401683  737151  411288  645023    486655   \n",
       "\n",
       "         month poutcome  \n",
       "count   750000   750000  \n",
       "unique      12        4  \n",
       "top        may  unknown  \n",
       "freq    228411   672450  "
      ]
     },
     "execution_count": 10,
     "metadata": {},
     "output_type": "execute_result"
    }
   ],
   "source": [
    "df.describe(include=[object])"
   ]
  },
  {
   "cell_type": "markdown",
   "id": "8b1a4ee7",
   "metadata": {
    "papermill": {
     "duration": 0.008238,
     "end_time": "2025-08-23T05:09:03.134589",
     "exception": false,
     "start_time": "2025-08-23T05:09:03.126351",
     "status": "completed"
    },
    "tags": []
   },
   "source": [
    "Looks like some of the categorical columns contain a category called 'unknown'. Specifically, the ```contact``` and ```poutcome``` columns contain this value."
   ]
  },
  {
   "cell_type": "code",
   "execution_count": 11,
   "id": "167311a8",
   "metadata": {
    "execution": {
     "iopub.execute_input": "2025-08-23T05:09:03.152424Z",
     "iopub.status.busy": "2025-08-23T05:09:03.151888Z",
     "iopub.status.idle": "2025-08-23T05:09:03.155926Z",
     "shell.execute_reply": "2025-08-23T05:09:03.155161Z"
    },
    "papermill": {
     "duration": 0.014353,
     "end_time": "2025-08-23T05:09:03.157253",
     "exception": false,
     "start_time": "2025-08-23T05:09:03.142900",
     "status": "completed"
    },
    "tags": []
   },
   "outputs": [],
   "source": [
    "cat_cols = ['job','marital','education','default','housing','loan','contact','month','poutcome']\n",
    "cont = ['age','balance','day','duration','campaign','pdays','previous']\n",
    "dep = 'y'"
   ]
  },
  {
   "cell_type": "code",
   "execution_count": 12,
   "id": "f5643501",
   "metadata": {
    "execution": {
     "iopub.execute_input": "2025-08-23T05:09:03.223009Z",
     "iopub.status.busy": "2025-08-23T05:09:03.222285Z",
     "iopub.status.idle": "2025-08-23T05:09:03.542073Z",
     "shell.execute_reply": "2025-08-23T05:09:03.541062Z"
    },
    "papermill": {
     "duration": 0.330892,
     "end_time": "2025-08-23T05:09:03.543581",
     "exception": false,
     "start_time": "2025-08-23T05:09:03.212689",
     "status": "completed"
    },
    "tags": []
   },
   "outputs": [
    {
     "name": "stdout",
     "output_type": "stream",
     "text": [
      "['technician' 'blue-collar' 'student' 'admin.' 'management' 'entrepreneur' 'self-employed' 'unknown' 'services' 'retired'\n",
      " 'housemaid' 'unemployed']\n",
      "['married' 'single' 'divorced']\n",
      "['secondary' 'primary' 'tertiary' 'unknown']\n",
      "['no' 'yes']\n",
      "['no' 'yes']\n",
      "['no' 'yes']\n",
      "['cellular' 'unknown' 'telephone']\n",
      "['aug' 'jun' 'may' 'feb' 'apr' 'nov' 'jul' 'jan' 'oct' 'mar' 'sep' 'dec']\n",
      "['unknown' 'other' 'failure' 'success']\n"
     ]
    }
   ],
   "source": [
    "for col in cat_cols:\n",
    "    print(df[col].unique())"
   ]
  },
  {
   "cell_type": "markdown",
   "id": "a79409d7",
   "metadata": {
    "papermill": {
     "duration": 0.009418,
     "end_time": "2025-08-23T05:09:03.561872",
     "exception": false,
     "start_time": "2025-08-23T05:09:03.552454",
     "status": "completed"
    },
    "tags": []
   },
   "source": [
    "Instead of making dummy variables for the non-numeric columns, we will convert them into categorical variables, which encodes them as numbers:"
   ]
  },
  {
   "cell_type": "code",
   "execution_count": 13,
   "id": "3dc679a8",
   "metadata": {
    "execution": {
     "iopub.execute_input": "2025-08-23T05:09:03.586032Z",
     "iopub.status.busy": "2025-08-23T05:09:03.585761Z",
     "iopub.status.idle": "2025-08-23T05:09:03.590313Z",
     "shell.execute_reply": "2025-08-23T05:09:03.589415Z"
    },
    "papermill": {
     "duration": 0.01768,
     "end_time": "2025-08-23T05:09:03.591573",
     "exception": false,
     "start_time": "2025-08-23T05:09:03.573893",
     "status": "completed"
    },
    "tags": []
   },
   "outputs": [],
   "source": [
    "def data_proc(df, cat_cols):\n",
    "    for col in cat_cols:\n",
    "        df[col] = df[col].astype('category')"
   ]
  },
  {
   "cell_type": "code",
   "execution_count": 14,
   "id": "7454a206",
   "metadata": {
    "execution": {
     "iopub.execute_input": "2025-08-23T05:09:03.619000Z",
     "iopub.status.busy": "2025-08-23T05:09:03.618736Z",
     "iopub.status.idle": "2025-08-23T05:09:03.995923Z",
     "shell.execute_reply": "2025-08-23T05:09:03.995186Z"
    },
    "papermill": {
     "duration": 0.391392,
     "end_time": "2025-08-23T05:09:03.997443",
     "exception": false,
     "start_time": "2025-08-23T05:09:03.606051",
     "status": "completed"
    },
    "tags": []
   },
   "outputs": [],
   "source": [
    "data_proc(df, cat_cols)"
   ]
  },
  {
   "cell_type": "markdown",
   "id": "4dd1bf44",
   "metadata": {
    "papermill": {
     "duration": 0.008442,
     "end_time": "2025-08-23T05:09:04.015034",
     "exception": false,
     "start_time": "2025-08-23T05:09:04.006592",
     "status": "completed"
    },
    "tags": []
   },
   "source": [
    "Now, we have our predictor variables prepared. Converting them into PyTorch tensors now:"
   ]
  },
  {
   "cell_type": "markdown",
   "id": "e7a2140b",
   "metadata": {
    "papermill": {
     "duration": 0.008222,
     "end_time": "2025-08-23T05:09:04.031758",
     "exception": false,
     "start_time": "2025-08-23T05:09:04.023536",
     "status": "completed"
    },
    "tags": []
   },
   "source": [
    "## Set up the data"
   ]
  },
  {
   "cell_type": "markdown",
   "id": "bb7295d4",
   "metadata": {
    "papermill": {
     "duration": 0.008203,
     "end_time": "2025-08-23T05:09:04.048305",
     "exception": false,
     "start_time": "2025-08-23T05:09:04.040102",
     "status": "completed"
    },
    "tags": []
   },
   "source": [
    "Split data into train and validation sets. Then, I converted the categorical columns to their numerical codes."
   ]
  },
  {
   "cell_type": "code",
   "execution_count": 15,
   "id": "a3b206d5",
   "metadata": {
    "execution": {
     "iopub.execute_input": "2025-08-23T05:09:04.066271Z",
     "iopub.status.busy": "2025-08-23T05:09:04.065694Z",
     "iopub.status.idle": "2025-08-23T05:09:05.249995Z",
     "shell.execute_reply": "2025-08-23T05:09:05.249291Z"
    },
    "papermill": {
     "duration": 1.194984,
     "end_time": "2025-08-23T05:09:05.251590",
     "exception": false,
     "start_time": "2025-08-23T05:09:04.056606",
     "status": "completed"
    },
    "tags": []
   },
   "outputs": [],
   "source": [
    "from sklearn.model_selection import train_test_split\n",
    "\n",
    "trn_df,val_df = train_test_split(df, test_size=0.25)\n",
    "trn_df[cat_cols] = trn_df[cat_cols].apply(lambda x: x.cat.codes)\n",
    "val_df[cat_cols] = val_df[cat_cols].apply(lambda x: x.cat.codes)"
   ]
  },
  {
   "cell_type": "code",
   "execution_count": 16,
   "id": "98c72d36",
   "metadata": {
    "execution": {
     "iopub.execute_input": "2025-08-23T05:09:05.272816Z",
     "iopub.status.busy": "2025-08-23T05:09:05.272361Z",
     "iopub.status.idle": "2025-08-23T05:09:05.345531Z",
     "shell.execute_reply": "2025-08-23T05:09:05.344535Z"
    },
    "papermill": {
     "duration": 0.084415,
     "end_time": "2025-08-23T05:09:05.347153",
     "exception": false,
     "start_time": "2025-08-23T05:09:05.262738",
     "status": "completed"
    },
    "tags": []
   },
   "outputs": [],
   "source": [
    "def get_xs_y(df):\n",
    "    xs = df[cat_cols+cont].copy()\n",
    "    y = df[dep].copy() if dep in df else None\n",
    "    return xs,y\n",
    "\n",
    "trn_indep,trn_dep = get_xs_y(trn_df)\n",
    "val_indep,val_dep = get_xs_y(val_df)"
   ]
  },
  {
   "cell_type": "code",
   "execution_count": 17,
   "id": "68d28629",
   "metadata": {
    "execution": {
     "iopub.execute_input": "2025-08-23T05:09:05.367548Z",
     "iopub.status.busy": "2025-08-23T05:09:05.367273Z",
     "iopub.status.idle": "2025-08-23T05:09:05.371595Z",
     "shell.execute_reply": "2025-08-23T05:09:05.370957Z"
    },
    "papermill": {
     "duration": 0.016396,
     "end_time": "2025-08-23T05:09:05.372741",
     "exception": false,
     "start_time": "2025-08-23T05:09:05.356345",
     "status": "completed"
    },
    "tags": []
   },
   "outputs": [
    {
     "name": "stdout",
     "output_type": "stream",
     "text": [
      "train: 562500; validation: 187500\n"
     ]
    }
   ],
   "source": [
    "print(f'train: {len(trn_dep)}; validation: {len(val_dep)}') "
   ]
  },
  {
   "cell_type": "markdown",
   "id": "e6ec6e6f",
   "metadata": {
    "papermill": {
     "duration": 0.008455,
     "end_time": "2025-08-23T05:09:05.389971",
     "exception": false,
     "start_time": "2025-08-23T05:09:05.381516",
     "status": "completed"
    },
    "tags": []
   },
   "source": [
    "## Creating a decision tree"
   ]
  },
  {
   "cell_type": "code",
   "execution_count": 18,
   "id": "6e08be9a",
   "metadata": {
    "execution": {
     "iopub.execute_input": "2025-08-23T05:09:05.408042Z",
     "iopub.status.busy": "2025-08-23T05:09:05.407779Z",
     "iopub.status.idle": "2025-08-23T05:09:08.501314Z",
     "shell.execute_reply": "2025-08-23T05:09:08.500650Z"
    },
    "papermill": {
     "duration": 3.104299,
     "end_time": "2025-08-23T05:09:08.502762",
     "exception": false,
     "start_time": "2025-08-23T05:09:05.398463",
     "status": "completed"
    },
    "tags": []
   },
   "outputs": [],
   "source": [
    "from sklearn.tree import DecisionTreeClassifier, export_graphviz\n",
    "\n",
    "dt = DecisionTreeClassifier(min_samples_leaf=1000).fit(trn_indep, trn_dep)"
   ]
  },
  {
   "cell_type": "code",
   "execution_count": 19,
   "id": "9840cf99",
   "metadata": {
    "execution": {
     "iopub.execute_input": "2025-08-23T05:09:08.521832Z",
     "iopub.status.busy": "2025-08-23T05:09:08.521559Z",
     "iopub.status.idle": "2025-08-23T05:09:08.584623Z",
     "shell.execute_reply": "2025-08-23T05:09:08.583986Z"
    },
    "papermill": {
     "duration": 0.074026,
     "end_time": "2025-08-23T05:09:08.586068",
     "exception": false,
     "start_time": "2025-08-23T05:09:08.512042",
     "status": "completed"
    },
    "tags": []
   },
   "outputs": [],
   "source": [
    "# import graphviz\n",
    "\n",
    "# def draw_tree(t, df, size=10, ratio=0.6, precision=2, **kwargs):\n",
    "#     s=export_graphviz(t, out_file=None, feature_names=df.columns, filled=True, rounded=True,\n",
    "#                       special_characters=True, rotate=False, precision=precision, **kwargs)\n",
    "#     return graphviz.Source(re.sub('Tree {', f'Tree {{ size={size}; ratio={ratio}', s))"
   ]
  },
  {
   "cell_type": "code",
   "execution_count": 20,
   "id": "374af513",
   "metadata": {
    "execution": {
     "iopub.execute_input": "2025-08-23T05:09:08.604948Z",
     "iopub.status.busy": "2025-08-23T05:09:08.604715Z",
     "iopub.status.idle": "2025-08-23T05:09:08.607976Z",
     "shell.execute_reply": "2025-08-23T05:09:08.607392Z"
    },
    "papermill": {
     "duration": 0.013855,
     "end_time": "2025-08-23T05:09:08.609194",
     "exception": false,
     "start_time": "2025-08-23T05:09:08.595339",
     "status": "completed"
    },
    "tags": []
   },
   "outputs": [],
   "source": [
    "# draw_tree(dt, trn_indep, size=10)"
   ]
  },
  {
   "cell_type": "code",
   "execution_count": 21,
   "id": "59a17a9e",
   "metadata": {
    "execution": {
     "iopub.execute_input": "2025-08-23T05:09:08.627070Z",
     "iopub.status.busy": "2025-08-23T05:09:08.626835Z",
     "iopub.status.idle": "2025-08-23T05:09:08.666799Z",
     "shell.execute_reply": "2025-08-23T05:09:08.666077Z"
    },
    "papermill": {
     "duration": 0.050279,
     "end_time": "2025-08-23T05:09:08.667955",
     "exception": false,
     "start_time": "2025-08-23T05:09:08.617676",
     "status": "completed"
    },
    "tags": []
   },
   "outputs": [
    {
     "data": {
      "text/plain": [
       "0.07744533333333334"
      ]
     },
     "execution_count": 21,
     "metadata": {},
     "output_type": "execute_result"
    }
   ],
   "source": [
    "from sklearn.metrics import mean_absolute_error, roc_auc_score\n",
    "\n",
    "mean_absolute_error(val_dep, dt.predict(val_indep))"
   ]
  },
  {
   "cell_type": "code",
   "execution_count": 22,
   "id": "a4d88eb2",
   "metadata": {
    "execution": {
     "iopub.execute_input": "2025-08-23T05:09:08.686396Z",
     "iopub.status.busy": "2025-08-23T05:09:08.686114Z",
     "iopub.status.idle": "2025-08-23T05:09:08.796962Z",
     "shell.execute_reply": "2025-08-23T05:09:08.796040Z"
    },
    "papermill": {
     "duration": 0.121561,
     "end_time": "2025-08-23T05:09:08.798468",
     "exception": false,
     "start_time": "2025-08-23T05:09:08.676907",
     "status": "completed"
    },
    "tags": []
   },
   "outputs": [
    {
     "data": {
      "text/plain": [
       "0.770674081000838"
      ]
     },
     "execution_count": 22,
     "metadata": {},
     "output_type": "execute_result"
    }
   ],
   "source": [
    "roc_auc_score(val_dep, dt.predict(val_indep))"
   ]
  },
  {
   "cell_type": "code",
   "execution_count": 23,
   "id": "7e532e7a",
   "metadata": {
    "execution": {
     "iopub.execute_input": "2025-08-23T05:09:08.819619Z",
     "iopub.status.busy": "2025-08-23T05:09:08.819333Z",
     "iopub.status.idle": "2025-08-23T05:09:08.867276Z",
     "shell.execute_reply": "2025-08-23T05:09:08.866385Z"
    },
    "papermill": {
     "duration": 0.059172,
     "end_time": "2025-08-23T05:09:08.869087",
     "exception": false,
     "start_time": "2025-08-23T05:09:08.809915",
     "status": "completed"
    },
    "tags": []
   },
   "outputs": [
    {
     "data": {
      "text/plain": [
       "array([[0.55682502, 0.44317498],\n",
       "       [1.        , 0.        ],\n",
       "       [0.64344942, 0.35655058],\n",
       "       ...,\n",
       "       [0.9872449 , 0.0127551 ],\n",
       "       [1.        , 0.        ],\n",
       "       [0.91531127, 0.08468873]])"
      ]
     },
     "execution_count": 23,
     "metadata": {},
     "output_type": "execute_result"
    }
   ],
   "source": [
    "dt.predict_proba(val_indep)"
   ]
  },
  {
   "cell_type": "code",
   "execution_count": 24,
   "id": "255290db",
   "metadata": {
    "execution": {
     "iopub.execute_input": "2025-08-23T05:09:08.891932Z",
     "iopub.status.busy": "2025-08-23T05:09:08.891678Z",
     "iopub.status.idle": "2025-08-23T05:09:08.896774Z",
     "shell.execute_reply": "2025-08-23T05:09:08.896000Z"
    },
    "papermill": {
     "duration": 0.016243,
     "end_time": "2025-08-23T05:09:08.898053",
     "exception": false,
     "start_time": "2025-08-23T05:09:08.881810",
     "status": "completed"
    },
    "tags": []
   },
   "outputs": [
    {
     "data": {
      "text/plain": [
       "array([0, 1])"
      ]
     },
     "execution_count": 24,
     "metadata": {},
     "output_type": "execute_result"
    }
   ],
   "source": [
    "dt.classes_"
   ]
  },
  {
   "cell_type": "code",
   "execution_count": 25,
   "id": "3be4e095",
   "metadata": {
    "execution": {
     "iopub.execute_input": "2025-08-23T05:09:08.917152Z",
     "iopub.status.busy": "2025-08-23T05:09:08.916711Z",
     "iopub.status.idle": "2025-08-23T05:09:08.920235Z",
     "shell.execute_reply": "2025-08-23T05:09:08.919459Z"
    },
    "papermill": {
     "duration": 0.014384,
     "end_time": "2025-08-23T05:09:08.921420",
     "exception": false,
     "start_time": "2025-08-23T05:09:08.907036",
     "status": "completed"
    },
    "tags": []
   },
   "outputs": [],
   "source": [
    "# from sklearn.metrics import roc_curve\n",
    "\n",
    "# fpr, tpr, thresholds = roc_curve(val_dep, preds)\n",
    "\n",
    "# plt.plot(fpr, tpr, label=f'ROC AUC = {roc_auc_scr:.3f}')\n",
    "# plt.plot([0, 1], [0, 1], linestyle='--', color='gray')  # Diagonal line\n",
    "# plt.xlabel('False Positive Rate')\n",
    "# plt.ylabel('True Positive Rate')\n",
    "# plt.title('ROC Curve')\n",
    "# plt.legend()\n",
    "# plt.grid()\n",
    "# plt.show()"
   ]
  },
  {
   "cell_type": "markdown",
   "id": "bef2f698",
   "metadata": {
    "papermill": {
     "duration": 0.008726,
     "end_time": "2025-08-23T05:09:08.938975",
     "exception": false,
     "start_time": "2025-08-23T05:09:08.930249",
     "status": "completed"
    },
    "tags": []
   },
   "source": [
    "## Submitting to Kaggle"
   ]
  },
  {
   "cell_type": "code",
   "execution_count": 26,
   "id": "40f9a7b5",
   "metadata": {
    "execution": {
     "iopub.execute_input": "2025-08-23T05:09:08.957765Z",
     "iopub.status.busy": "2025-08-23T05:09:08.957531Z",
     "iopub.status.idle": "2025-08-23T05:09:09.577696Z",
     "shell.execute_reply": "2025-08-23T05:09:09.576823Z"
    },
    "papermill": {
     "duration": 0.631161,
     "end_time": "2025-08-23T05:09:09.579052",
     "exception": false,
     "start_time": "2025-08-23T05:09:08.947891",
     "status": "completed"
    },
    "tags": []
   },
   "outputs": [
    {
     "data": {
      "text/html": [
       "<div>\n",
       "<style scoped>\n",
       "    .dataframe tbody tr th:only-of-type {\n",
       "        vertical-align: middle;\n",
       "    }\n",
       "\n",
       "    .dataframe tbody tr th {\n",
       "        vertical-align: top;\n",
       "    }\n",
       "\n",
       "    .dataframe thead th {\n",
       "        text-align: right;\n",
       "    }\n",
       "</style>\n",
       "<table border=\"1\" class=\"dataframe\">\n",
       "  <thead>\n",
       "    <tr style=\"text-align: right;\">\n",
       "      <th></th>\n",
       "      <th>id</th>\n",
       "      <th>age</th>\n",
       "      <th>job</th>\n",
       "      <th>marital</th>\n",
       "      <th>education</th>\n",
       "      <th>default</th>\n",
       "      <th>balance</th>\n",
       "      <th>housing</th>\n",
       "      <th>loan</th>\n",
       "      <th>contact</th>\n",
       "      <th>day</th>\n",
       "      <th>month</th>\n",
       "      <th>duration</th>\n",
       "      <th>campaign</th>\n",
       "      <th>pdays</th>\n",
       "      <th>previous</th>\n",
       "      <th>poutcome</th>\n",
       "    </tr>\n",
       "  </thead>\n",
       "  <tbody>\n",
       "    <tr>\n",
       "      <th>0</th>\n",
       "      <td>750000</td>\n",
       "      <td>32</td>\n",
       "      <td>blue-collar</td>\n",
       "      <td>married</td>\n",
       "      <td>secondary</td>\n",
       "      <td>no</td>\n",
       "      <td>1397</td>\n",
       "      <td>yes</td>\n",
       "      <td>no</td>\n",
       "      <td>unknown</td>\n",
       "      <td>21</td>\n",
       "      <td>may</td>\n",
       "      <td>224</td>\n",
       "      <td>1</td>\n",
       "      <td>-1</td>\n",
       "      <td>0</td>\n",
       "      <td>unknown</td>\n",
       "    </tr>\n",
       "    <tr>\n",
       "      <th>1</th>\n",
       "      <td>750001</td>\n",
       "      <td>44</td>\n",
       "      <td>management</td>\n",
       "      <td>married</td>\n",
       "      <td>tertiary</td>\n",
       "      <td>no</td>\n",
       "      <td>23</td>\n",
       "      <td>yes</td>\n",
       "      <td>no</td>\n",
       "      <td>cellular</td>\n",
       "      <td>3</td>\n",
       "      <td>apr</td>\n",
       "      <td>586</td>\n",
       "      <td>2</td>\n",
       "      <td>-1</td>\n",
       "      <td>0</td>\n",
       "      <td>unknown</td>\n",
       "    </tr>\n",
       "    <tr>\n",
       "      <th>2</th>\n",
       "      <td>750002</td>\n",
       "      <td>36</td>\n",
       "      <td>self-employed</td>\n",
       "      <td>married</td>\n",
       "      <td>primary</td>\n",
       "      <td>no</td>\n",
       "      <td>46</td>\n",
       "      <td>yes</td>\n",
       "      <td>yes</td>\n",
       "      <td>cellular</td>\n",
       "      <td>13</td>\n",
       "      <td>may</td>\n",
       "      <td>111</td>\n",
       "      <td>2</td>\n",
       "      <td>-1</td>\n",
       "      <td>0</td>\n",
       "      <td>unknown</td>\n",
       "    </tr>\n",
       "    <tr>\n",
       "      <th>3</th>\n",
       "      <td>750003</td>\n",
       "      <td>58</td>\n",
       "      <td>blue-collar</td>\n",
       "      <td>married</td>\n",
       "      <td>secondary</td>\n",
       "      <td>no</td>\n",
       "      <td>-1380</td>\n",
       "      <td>yes</td>\n",
       "      <td>yes</td>\n",
       "      <td>unknown</td>\n",
       "      <td>29</td>\n",
       "      <td>may</td>\n",
       "      <td>125</td>\n",
       "      <td>1</td>\n",
       "      <td>-1</td>\n",
       "      <td>0</td>\n",
       "      <td>unknown</td>\n",
       "    </tr>\n",
       "    <tr>\n",
       "      <th>4</th>\n",
       "      <td>750004</td>\n",
       "      <td>28</td>\n",
       "      <td>technician</td>\n",
       "      <td>single</td>\n",
       "      <td>secondary</td>\n",
       "      <td>no</td>\n",
       "      <td>1950</td>\n",
       "      <td>yes</td>\n",
       "      <td>no</td>\n",
       "      <td>cellular</td>\n",
       "      <td>22</td>\n",
       "      <td>jul</td>\n",
       "      <td>181</td>\n",
       "      <td>1</td>\n",
       "      <td>-1</td>\n",
       "      <td>0</td>\n",
       "      <td>unknown</td>\n",
       "    </tr>\n",
       "    <tr>\n",
       "      <th>...</th>\n",
       "      <td>...</td>\n",
       "      <td>...</td>\n",
       "      <td>...</td>\n",
       "      <td>...</td>\n",
       "      <td>...</td>\n",
       "      <td>...</td>\n",
       "      <td>...</td>\n",
       "      <td>...</td>\n",
       "      <td>...</td>\n",
       "      <td>...</td>\n",
       "      <td>...</td>\n",
       "      <td>...</td>\n",
       "      <td>...</td>\n",
       "      <td>...</td>\n",
       "      <td>...</td>\n",
       "      <td>...</td>\n",
       "      <td>...</td>\n",
       "    </tr>\n",
       "    <tr>\n",
       "      <th>249995</th>\n",
       "      <td>999995</td>\n",
       "      <td>43</td>\n",
       "      <td>management</td>\n",
       "      <td>married</td>\n",
       "      <td>tertiary</td>\n",
       "      <td>no</td>\n",
       "      <td>0</td>\n",
       "      <td>yes</td>\n",
       "      <td>no</td>\n",
       "      <td>cellular</td>\n",
       "      <td>18</td>\n",
       "      <td>nov</td>\n",
       "      <td>65</td>\n",
       "      <td>2</td>\n",
       "      <td>-1</td>\n",
       "      <td>0</td>\n",
       "      <td>unknown</td>\n",
       "    </tr>\n",
       "    <tr>\n",
       "      <th>249996</th>\n",
       "      <td>999996</td>\n",
       "      <td>40</td>\n",
       "      <td>services</td>\n",
       "      <td>married</td>\n",
       "      <td>unknown</td>\n",
       "      <td>no</td>\n",
       "      <td>522</td>\n",
       "      <td>yes</td>\n",
       "      <td>no</td>\n",
       "      <td>cellular</td>\n",
       "      <td>19</td>\n",
       "      <td>nov</td>\n",
       "      <td>531</td>\n",
       "      <td>1</td>\n",
       "      <td>189</td>\n",
       "      <td>1</td>\n",
       "      <td>failure</td>\n",
       "    </tr>\n",
       "    <tr>\n",
       "      <th>249997</th>\n",
       "      <td>999997</td>\n",
       "      <td>63</td>\n",
       "      <td>retired</td>\n",
       "      <td>married</td>\n",
       "      <td>primary</td>\n",
       "      <td>no</td>\n",
       "      <td>33</td>\n",
       "      <td>no</td>\n",
       "      <td>no</td>\n",
       "      <td>cellular</td>\n",
       "      <td>3</td>\n",
       "      <td>jul</td>\n",
       "      <td>178</td>\n",
       "      <td>1</td>\n",
       "      <td>92</td>\n",
       "      <td>8</td>\n",
       "      <td>success</td>\n",
       "    </tr>\n",
       "    <tr>\n",
       "      <th>249998</th>\n",
       "      <td>999998</td>\n",
       "      <td>50</td>\n",
       "      <td>blue-collar</td>\n",
       "      <td>married</td>\n",
       "      <td>primary</td>\n",
       "      <td>no</td>\n",
       "      <td>2629</td>\n",
       "      <td>yes</td>\n",
       "      <td>no</td>\n",
       "      <td>unknown</td>\n",
       "      <td>30</td>\n",
       "      <td>may</td>\n",
       "      <td>163</td>\n",
       "      <td>2</td>\n",
       "      <td>-1</td>\n",
       "      <td>0</td>\n",
       "      <td>unknown</td>\n",
       "    </tr>\n",
       "    <tr>\n",
       "      <th>249999</th>\n",
       "      <td>999999</td>\n",
       "      <td>29</td>\n",
       "      <td>student</td>\n",
       "      <td>single</td>\n",
       "      <td>tertiary</td>\n",
       "      <td>no</td>\n",
       "      <td>722</td>\n",
       "      <td>no</td>\n",
       "      <td>no</td>\n",
       "      <td>cellular</td>\n",
       "      <td>6</td>\n",
       "      <td>apr</td>\n",
       "      <td>119</td>\n",
       "      <td>1</td>\n",
       "      <td>-1</td>\n",
       "      <td>0</td>\n",
       "      <td>unknown</td>\n",
       "    </tr>\n",
       "  </tbody>\n",
       "</table>\n",
       "<p>250000 rows × 17 columns</p>\n",
       "</div>"
      ],
      "text/plain": [
       "            id  age            job  marital  education default  balance  \\\n",
       "0       750000   32    blue-collar  married  secondary      no     1397   \n",
       "1       750001   44     management  married   tertiary      no       23   \n",
       "2       750002   36  self-employed  married    primary      no       46   \n",
       "3       750003   58    blue-collar  married  secondary      no    -1380   \n",
       "4       750004   28     technician   single  secondary      no     1950   \n",
       "...        ...  ...            ...      ...        ...     ...      ...   \n",
       "249995  999995   43     management  married   tertiary      no        0   \n",
       "249996  999996   40       services  married    unknown      no      522   \n",
       "249997  999997   63        retired  married    primary      no       33   \n",
       "249998  999998   50    blue-collar  married    primary      no     2629   \n",
       "249999  999999   29        student   single   tertiary      no      722   \n",
       "\n",
       "       housing loan   contact  day month  duration  campaign  pdays  previous  \\\n",
       "0          yes   no   unknown   21   may       224         1     -1         0   \n",
       "1          yes   no  cellular    3   apr       586         2     -1         0   \n",
       "2          yes  yes  cellular   13   may       111         2     -1         0   \n",
       "3          yes  yes   unknown   29   may       125         1     -1         0   \n",
       "4          yes   no  cellular   22   jul       181         1     -1         0   \n",
       "...        ...  ...       ...  ...   ...       ...       ...    ...       ...   \n",
       "249995     yes   no  cellular   18   nov        65         2     -1         0   \n",
       "249996     yes   no  cellular   19   nov       531         1    189         1   \n",
       "249997      no   no  cellular    3   jul       178         1     92         8   \n",
       "249998     yes   no   unknown   30   may       163         2     -1         0   \n",
       "249999      no   no  cellular    6   apr       119         1     -1         0   \n",
       "\n",
       "       poutcome  \n",
       "0       unknown  \n",
       "1       unknown  \n",
       "2       unknown  \n",
       "3       unknown  \n",
       "4       unknown  \n",
       "...         ...  \n",
       "249995  unknown  \n",
       "249996  failure  \n",
       "249997  success  \n",
       "249998  unknown  \n",
       "249999  unknown  \n",
       "\n",
       "[250000 rows x 17 columns]"
      ]
     },
     "execution_count": 26,
     "metadata": {},
     "output_type": "execute_result"
    }
   ],
   "source": [
    "tst_df = pd.read_csv(f'{path}/test.csv')\n",
    "tst_df"
   ]
  },
  {
   "cell_type": "code",
   "execution_count": 27,
   "id": "f11ad9b7",
   "metadata": {
    "execution": {
     "iopub.execute_input": "2025-08-23T05:09:09.598453Z",
     "iopub.status.busy": "2025-08-23T05:09:09.598187Z",
     "iopub.status.idle": "2025-08-23T05:09:09.712108Z",
     "shell.execute_reply": "2025-08-23T05:09:09.711247Z"
    },
    "papermill": {
     "duration": 0.125076,
     "end_time": "2025-08-23T05:09:09.713421",
     "exception": false,
     "start_time": "2025-08-23T05:09:09.588345",
     "status": "completed"
    },
    "tags": []
   },
   "outputs": [
    {
     "data": {
      "text/plain": [
       "id           0\n",
       "age          0\n",
       "job          0\n",
       "marital      0\n",
       "education    0\n",
       "default      0\n",
       "balance      0\n",
       "housing      0\n",
       "loan         0\n",
       "contact      0\n",
       "day          0\n",
       "month        0\n",
       "duration     0\n",
       "campaign     0\n",
       "pdays        0\n",
       "previous     0\n",
       "poutcome     0\n",
       "dtype: int64"
      ]
     },
     "execution_count": 27,
     "metadata": {},
     "output_type": "execute_result"
    }
   ],
   "source": [
    "tst_df.isna().sum()"
   ]
  },
  {
   "cell_type": "code",
   "execution_count": 28,
   "id": "b197eb10",
   "metadata": {
    "execution": {
     "iopub.execute_input": "2025-08-23T05:09:09.733141Z",
     "iopub.status.busy": "2025-08-23T05:09:09.732877Z",
     "iopub.status.idle": "2025-08-23T05:09:09.859379Z",
     "shell.execute_reply": "2025-08-23T05:09:09.858492Z"
    },
    "papermill": {
     "duration": 0.138246,
     "end_time": "2025-08-23T05:09:09.860966",
     "exception": false,
     "start_time": "2025-08-23T05:09:09.722720",
     "status": "completed"
    },
    "tags": []
   },
   "outputs": [],
   "source": [
    "data_proc(tst_df, cat_cols)"
   ]
  },
  {
   "cell_type": "code",
   "execution_count": 29,
   "id": "951005b7",
   "metadata": {
    "execution": {
     "iopub.execute_input": "2025-08-23T05:09:09.881387Z",
     "iopub.status.busy": "2025-08-23T05:09:09.881080Z",
     "iopub.status.idle": "2025-08-23T05:09:09.891138Z",
     "shell.execute_reply": "2025-08-23T05:09:09.890269Z"
    },
    "papermill": {
     "duration": 0.021203,
     "end_time": "2025-08-23T05:09:09.892388",
     "exception": false,
     "start_time": "2025-08-23T05:09:09.871185",
     "status": "completed"
    },
    "tags": []
   },
   "outputs": [],
   "source": [
    "tst_df[cat_cols] = tst_df[cat_cols].apply(lambda x: x.cat.codes)"
   ]
  },
  {
   "cell_type": "code",
   "execution_count": 30,
   "id": "d55bbd6d",
   "metadata": {
    "execution": {
     "iopub.execute_input": "2025-08-23T05:09:09.912184Z",
     "iopub.status.busy": "2025-08-23T05:09:09.911902Z",
     "iopub.status.idle": "2025-08-23T05:09:09.930268Z",
     "shell.execute_reply": "2025-08-23T05:09:09.929411Z"
    },
    "papermill": {
     "duration": 0.029829,
     "end_time": "2025-08-23T05:09:09.931685",
     "exception": false,
     "start_time": "2025-08-23T05:09:09.901856",
     "status": "completed"
    },
    "tags": []
   },
   "outputs": [],
   "source": [
    "tst_indep,_ = get_xs_y(tst_df)"
   ]
  },
  {
   "cell_type": "code",
   "execution_count": 31,
   "id": "9b6f23f9",
   "metadata": {
    "execution": {
     "iopub.execute_input": "2025-08-23T05:09:09.951258Z",
     "iopub.status.busy": "2025-08-23T05:09:09.950690Z",
     "iopub.status.idle": "2025-08-23T05:09:09.955099Z",
     "shell.execute_reply": "2025-08-23T05:09:09.954310Z"
    },
    "papermill": {
     "duration": 0.015321,
     "end_time": "2025-08-23T05:09:09.956276",
     "exception": false,
     "start_time": "2025-08-23T05:09:09.940955",
     "status": "completed"
    },
    "tags": []
   },
   "outputs": [
    {
     "name": "stdout",
     "output_type": "stream",
     "text": [
      "(250000, 16)\n"
     ]
    }
   ],
   "source": [
    "print(tst_indep.shape)"
   ]
  },
  {
   "cell_type": "code",
   "execution_count": 32,
   "id": "94f3250f",
   "metadata": {
    "execution": {
     "iopub.execute_input": "2025-08-23T05:09:09.975186Z",
     "iopub.status.busy": "2025-08-23T05:09:09.974909Z",
     "iopub.status.idle": "2025-08-23T05:09:09.979237Z",
     "shell.execute_reply": "2025-08-23T05:09:09.978453Z"
    },
    "papermill": {
     "duration": 0.015193,
     "end_time": "2025-08-23T05:09:09.980540",
     "exception": false,
     "start_time": "2025-08-23T05:09:09.965347",
     "status": "completed"
    },
    "tags": []
   },
   "outputs": [],
   "source": [
    "# function to create the submission csv\n",
    "def subm(preds,suff):\n",
    "    probs = np.stack(preds)[:,1]\n",
    "    tst_df['y'] = probs\n",
    "    sub_df = tst_df[['id','y']]\n",
    "    sub_df.to_csv(f'sub_{suff}.csv', index=False)"
   ]
  },
  {
   "cell_type": "code",
   "execution_count": 33,
   "id": "aae9ac68",
   "metadata": {
    "execution": {
     "iopub.execute_input": "2025-08-23T05:09:09.999511Z",
     "iopub.status.busy": "2025-08-23T05:09:09.999305Z",
     "iopub.status.idle": "2025-08-23T05:09:10.843566Z",
     "shell.execute_reply": "2025-08-23T05:09:10.842863Z"
    },
    "papermill": {
     "duration": 0.855219,
     "end_time": "2025-08-23T05:09:10.845078",
     "exception": false,
     "start_time": "2025-08-23T05:09:09.989859",
     "status": "completed"
    },
    "tags": []
   },
   "outputs": [],
   "source": [
    "subm(dt.predict_proba(tst_indep), 'dt')"
   ]
  },
  {
   "cell_type": "code",
   "execution_count": 34,
   "id": "a4900886",
   "metadata": {
    "execution": {
     "iopub.execute_input": "2025-08-23T05:09:10.864541Z",
     "iopub.status.busy": "2025-08-23T05:09:10.864004Z",
     "iopub.status.idle": "2025-08-23T05:09:11.004427Z",
     "shell.execute_reply": "2025-08-23T05:09:11.003568Z"
    },
    "papermill": {
     "duration": 0.151434,
     "end_time": "2025-08-23T05:09:11.005953",
     "exception": false,
     "start_time": "2025-08-23T05:09:10.854519",
     "status": "completed"
    },
    "tags": []
   },
   "outputs": [
    {
     "name": "stdout",
     "output_type": "stream",
     "text": [
      "id,y\r\n",
      "750000,0.0005446623093681918\r\n",
      "750001,0.2995202193283071\r\n",
      "750002,0.0033090668431502318\r\n",
      "750003,0.0011389521640091116\r\n",
      "750004,0.03218997361477573\r\n",
      "750005,0.00199203187250996\r\n",
      "750006,0.44534778681120146\r\n",
      "750007,0.5599481529488011\r\n",
      "750008,0.009328358208955223\r\n"
     ]
    }
   ],
   "source": [
    "!head sub_dt.csv"
   ]
  },
  {
   "cell_type": "code",
   "execution_count": null,
   "id": "2a00d43b",
   "metadata": {
    "papermill": {
     "duration": 0.009002,
     "end_time": "2025-08-23T05:09:11.024503",
     "exception": false,
     "start_time": "2025-08-23T05:09:11.015501",
     "status": "completed"
    },
    "tags": []
   },
   "outputs": [],
   "source": []
  }
 ],
 "metadata": {
  "kaggle": {
   "accelerator": "nvidiaTeslaT4",
   "dataSources": [
    {
     "databundleVersionId": 12937777,
     "sourceId": 91719,
     "sourceType": "competition"
    }
   ],
   "dockerImageVersionId": 31089,
   "isGpuEnabled": true,
   "isInternetEnabled": true,
   "language": "python",
   "sourceType": "notebook"
  },
  "kernelspec": {
   "display_name": "Python 3 (ipykernel)",
   "language": "python",
   "name": "python3"
  },
  "language_info": {
   "codemirror_mode": {
    "name": "ipython",
    "version": 3
   },
   "file_extension": ".py",
   "mimetype": "text/x-python",
   "name": "python",
   "nbconvert_exporter": "python",
   "pygments_lexer": "ipython3",
   "version": "3.11.4"
  },
  "papermill": {
   "default_parameters": {},
   "duration": 21.533127,
   "end_time": "2025-08-23T05:09:11.651974",
   "environment_variables": {},
   "exception": null,
   "input_path": "__notebook__.ipynb",
   "output_path": "__notebook__.ipynb",
   "parameters": {},
   "start_time": "2025-08-23T05:08:50.118847",
   "version": "2.6.0"
  }
 },
 "nbformat": 4,
 "nbformat_minor": 5
}
